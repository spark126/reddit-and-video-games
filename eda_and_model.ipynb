{
 "cells": [
  {
   "cell_type": "markdown",
   "metadata": {},
   "source": [
    "# Problem Statement"
   ]
  },
  {
   "cell_type": "markdown",
   "metadata": {},
   "source": [
    "## Table of Contents\n",
    "- [Data Cleaning](#Data-Cleaning)\n",
    "    - [Submissions](#Submissions)\n",
    "    - [Comments](#Comments)\n",
    "    - [Users](#Users)\n",
    "- [Exploratory Data Analysis](#Exploratory-Data-Analysis)\n",
    "    - [Submissions](#Submissions-EDA)\n",
    "    - [Comments](#Comments-EDA)\n",
    "    - [Users](#Users-EDA)\n",
    "- [Modeling](#Modeling)\n",
    "- [Results & Conclusions](#Results-&-Conclusions)\n",
    "- [Next Steps](#Next-Steps)"
   ]
  },
  {
   "cell_type": "markdown",
   "metadata": {},
   "source": [
    "### Imports"
   ]
  },
  {
   "cell_type": "code",
   "execution_count": 1,
   "metadata": {
    "ExecuteTime": {
     "end_time": "2021-07-07T12:00:17.578306Z",
     "start_time": "2021-07-07T12:00:15.820457Z"
    }
   },
   "outputs": [],
   "source": [
    "import configparser\n",
    "import datetime as dt\n",
    "\n",
    "import pandas as pd\n",
    "import matplotlib.pyplot as plt\n",
    "import scipy.cluster.hierarchy as shc\n",
    "import seaborn as sns\n",
    "\n",
    "from sklearn.feature_extraction.text import CountVectorizer, TfidfVectorizer\n",
    "\n",
    "from aws_mysql import MySqlConn\n",
    "from sklearn.cluster import AgglomerativeClustering, DBSCAN\n",
    "from sklearn.metrics import silhouette_score\n",
    "from sklearn.preprocessing import StandardScaler"
   ]
  },
  {
   "cell_type": "markdown",
   "metadata": {},
   "source": [
    "### Functions"
   ]
  },
  {
   "cell_type": "code",
   "execution_count": 2,
   "metadata": {
    "ExecuteTime": {
     "end_time": "2021-07-07T12:00:17.593933Z",
     "start_time": "2021-07-07T12:00:17.578306Z"
    }
   },
   "outputs": [],
   "source": [
    "def bool_to_int(df_o, bool_cols):\n",
    "    \"\"\"\n",
    "    Takes a DataFrame and list of boolean columns and maps the boolean values\n",
    "    to integers. Does not work with strings.\n",
    "    :param: Pandas DataFrame.\n",
    "    :param: List of column names of booleans.\n",
    "    :return: Pandas DataFrame.\n",
    "    \"\"\"\n",
    "    bool_func = lambda x: 1 if x else 0\n",
    "    df_ = df_o.copy()\n",
    "    for col in bool_cols:\n",
    "        df_[col] = df_[col].map(bool_func)\n",
    "    return df_\n",
    "    \n",
    "# Dates ---------------------------------------------------------------------\n",
    "def convert_epoch(df_o, epoch_col, \n",
    "                  year=False, month=False, dayofweek=False, hour=False):\n",
    "    \"\"\"\n",
    "    Takes a the DataFrame and converts a column of epoch datetime to a\n",
    "    datetime object. The original column is dropped and a new column\n",
    "    'created_date' is added to the dataframe. \n",
    "    :param df_: Pandas DataFrame with a column of datetime in epoch format.\n",
    "    :param epoch_col: Name of column with epoch datetime.\n",
    "    :param year: Boolean Optional (Default True), whether a 'year' column is \n",
    "    created. \n",
    "    :param month: Boolean Optional (Default True), whether a 'month' column is\n",
    "    created.\n",
    "    :param dayofweek: Boolean Optional (Default True), whether a 'day_of_week'\n",
    "    column is created.\n",
    "    :param hour: Boolean Optional (Default True), whether a 'hour' column is\n",
    "    created.\n",
    "    :return: Pandas DataFrame.\n",
    "    \"\"\"\n",
    "    df_ = df_o.copy()\n",
    "    df_['created_date'] = pd.to_datetime(df_[epoch_col], unit='s')\n",
    "    \n",
    "    if year:\n",
    "        df_['created_year'] = df_['created_date'].dt.year\n",
    "    if month:\n",
    "        df_['created_month'] = df_['created_date'].dt.month\n",
    "    if dayofweek:\n",
    "        df_['created_day_of_week'] = df_['created_date'].dt.dayofweek\n",
    "    if hour:\n",
    "        df_['created_hour'] = df_['created_date'].dt.hour\n",
    "    \n",
    "    return df_\n",
    "\n",
    "# NLP -----------------------------------------------------------------------\n",
    "def clean_submission_df(df_o):\n",
    "    \"\"\"\n",
    "    Takes DataFrame and drops na values, duplicates, empty 'selftext' columns,\n",
    "    and pinned content.\n",
    "    :param df_o: pandas Dataframe to clean.\n",
    "    :return: pandas DataFrame.\n",
    "    \"\"\"\n",
    "    df_ = df_o.copy()\n",
    "    df_.dropna(inplace=True)  # cannot fix na values of selftext\n",
    "    df_.drop_duplicates(subset=['id'], inplace=True)  # init check\n",
    "    df_ = df_[~df_['selftext'].isin(['[deleted]', '[removed]'])]\n",
    "    df_ = df_[~df_['pinned']]  # pinned content is most likely rules/faq/etc\n",
    "    return df_\n",
    "\n",
    "\n",
    "# cleans text using all cleaning functions\n",
    "def clean_text(X, word_list=[]):\n",
    "    \"\"\"\n",
    "    \n",
    "    \"\"\"\n",
    "    # order is very important\n",
    "    X = replace_url(X)\n",
    "    X = replace_amp(X)\n",
    "    X = replace_nbsp(X)\n",
    "    X = replace_newline(X)\n",
    "    X = replace_nonalpha(X)\n",
    "    X = replace_small_words(X)\n",
    "    X = remove_words(X, word_list)\n",
    "    return X\n",
    "\n",
    "\n",
    "def replace_url(X):\n",
    "    \"\"\"\n",
    "    Takes pandas series of text and removes urls.\n",
    "    :param X: Pandas series.\n",
    "    :return: Pandas series.\n",
    "    \"\"\"\n",
    "    return X.str.replace('http\\S+|www.\\S+', '', case=False)  # ref 1\n",
    "\n",
    "\n",
    "def replace_amp(X):\n",
    "    \"\"\"\n",
    "    Takes pandas series of text and removes '&'.\n",
    "    :param X: Pandas series.\n",
    "    :return: Pandas series.\n",
    "    \"\"\"\n",
    "    return X.str.replace('&amp;', ' ', regex=False)\n",
    "\n",
    "\n",
    "def replace_nbsp(X):\n",
    "    \"\"\"\n",
    "    Takes pandas series of text and removes 'nbsp'.\n",
    "    :param X: Pandas series.\n",
    "    :return: Pandas series.\n",
    "    \"\"\"\n",
    "    return X.str.replace('nbsp;', ' ', regex=False)\n",
    "\n",
    "\n",
    "def replace_newline(X):\n",
    "    \"\"\"\n",
    "    Takes pandas series of text and removes '\\n'.\n",
    "    :param X: Pandas series.\n",
    "    :return: Pandas series.\n",
    "    \"\"\"\n",
    "    return X.str.replace('\\n', ' ', regex=False)\n",
    "\n",
    "\n",
    "def replace_nonalpha(X):\n",
    "    \"\"\"\n",
    "    Takes pandas series of text and non alpha characters.\n",
    "    :param X: Pandas series.\n",
    "    :return: Pandas series.\n",
    "    \"\"\"\n",
    "    return X.str.replace('[^a-zA-Z ]', ' ')  # ref 2 \n",
    "\n",
    "\n",
    "def replace_small_words(X):\n",
    "    \"\"\"\n",
    "    Takes pandas series of text and removes words below 4 characters.\n",
    "    :param X: Pandas series.\n",
    "    :return: Pandas series.\n",
    "    \"\"\"\n",
    "    return X.str.replace(r'\\b[a-zA-Z]{1,3}\\b', '')  # ref 3\n",
    "\n",
    "\n",
    "def remove_words(X, words=[]):\n",
    "    \"\"\"\n",
    "    Takes pandas series of text and removes `words`.\n",
    "    :param X: Pandas series.\n",
    "    :param words: List of strings, words to be removed from text \n",
    "    (case sensitive).\n",
    "    :return: Pandas series.\n",
    "    \"\"\"\n",
    "    for word in words:\n",
    "        X = X.str.replace(word, '')\n",
    "    return X"
   ]
  },
  {
   "cell_type": "markdown",
   "metadata": {},
   "source": [
    "## Data"
   ]
  },
  {
   "cell_type": "code",
   "execution_count": 3,
   "metadata": {
    "ExecuteTime": {
     "end_time": "2021-07-07T12:00:23.484083Z",
     "start_time": "2021-07-07T12:00:17.593933Z"
    }
   },
   "outputs": [],
   "source": [
    "# get data from AWS rds\n",
    "config = configparser.ConfigParser()\n",
    "config.read('./config.ini')\n",
    "\n",
    "db = MySqlConn(endpoint = config['rds']['endpoint'], \n",
    "               user     = config['rds']['user'], \n",
    "               password = config['rds']['password'], \n",
    "               dbname   = config['rds']['dbname'])\n",
    "\n",
    "db.connect()\n",
    "\n",
    "comments_df = pd.read_sql(\"\"\"SELECT * FROM comments\"\"\", db.conn)\n",
    "users_df    = pd.read_sql(\"\"\"SELECT * FROM users\"\"\", db.conn)\n",
    "\n",
    "db.close()"
   ]
  },
  {
   "cell_type": "code",
   "execution_count": 4,
   "metadata": {
    "ExecuteTime": {
     "end_time": "2021-07-07T12:00:26.167592Z",
     "start_time": "2021-07-07T12:00:23.484083Z"
    }
   },
   "outputs": [
    {
     "name": "stderr",
     "output_type": "stream",
     "text": [
      "C:\\Users\\Sam\\anaconda3\\envs\\ga-dsir-capstone\\lib\\site-packages\\IPython\\core\\interactiveshell.py:3165: DtypeWarning: Columns (12,21,33,36,37,39,40,43,46,47,48,49,50,51,52,53,54,55,56,57,58,59,60,61,62,63,64,65,66,67,68,70,71,72,74,75,77,79,81,82,86,87,88,89,90,91,92,93,94,95,96,97,98,99,100,101,102,103,104,105,106,107,108,109,110,111,112,113,114,116,117,118,120) have mixed types.Specify dtype option on import or set low_memory=False.\n",
      "  has_raised = await self.run_ast_nodes(code_ast.body, cell_name,\n"
     ]
    }
   ],
   "source": [
    "# if no such file is found, check the README for instructions\n",
    "submissions_df = pd.read_csv('./data/submissions.csv')"
   ]
  },
  {
   "cell_type": "markdown",
   "metadata": {},
   "source": [
    "## Data Cleaning\n",
    "* Drop Features that are not helpful.\n",
    "* Impute or remove null values"
   ]
  },
  {
   "cell_type": "markdown",
   "metadata": {},
   "source": [
    "### Submissions"
   ]
  },
  {
   "cell_type": "code",
   "execution_count": 5,
   "metadata": {
    "ExecuteTime": {
     "end_time": "2021-07-07T12:00:26.183219Z",
     "start_time": "2021-07-07T12:00:26.167592Z"
    }
   },
   "outputs": [
    {
     "data": {
      "text/plain": [
       "(86657, 122)"
      ]
     },
     "execution_count": 5,
     "metadata": {},
     "output_type": "execute_result"
    }
   ],
   "source": [
    "submissions_df.shape"
   ]
  },
  {
   "cell_type": "markdown",
   "metadata": {},
   "source": [
    "**Selftext**"
   ]
  },
  {
   "cell_type": "code",
   "execution_count": 6,
   "metadata": {
    "ExecuteTime": {
     "end_time": "2021-07-07T12:00:26.198847Z",
     "start_time": "2021-07-07T12:00:26.183219Z"
    }
   },
   "outputs": [
    {
     "data": {
      "text/plain": [
       "0.4170465167268657"
      ]
     },
     "execution_count": 6,
     "metadata": {},
     "output_type": "execute_result"
    }
   ],
   "source": [
    "submissions_df['selftext'].isna().sum() / submissions_df.shape[0]"
   ]
  },
  {
   "cell_type": "markdown",
   "metadata": {},
   "source": [
    "41.7+ percent of the `selftext` of submissions are blank. There could be many reasons for this:\n",
    "- Might be media of some sort: image, video\n",
    "- Could be link to article/content on another website\n",
    "- All necessary text fit into the title\n",
    "\n",
    "Fill null `selftext` with a blank string, `''`. No other way to impute values."
   ]
  },
  {
   "cell_type": "code",
   "execution_count": 7,
   "metadata": {
    "ExecuteTime": {
     "end_time": "2021-07-07T12:00:26.230096Z",
     "start_time": "2021-07-07T12:00:26.198847Z"
    }
   },
   "outputs": [],
   "source": [
    "submissions_df['selftext'].fillna('', inplace=True)"
   ]
  },
  {
   "cell_type": "markdown",
   "metadata": {},
   "source": [
    "**Select Columns**  \n",
    "Automatically drop columns with greater than 50% null values as `selftext` is missing ~42%. Also looked through columns manually to add to keep_cols if they seem useful."
   ]
  },
  {
   "cell_type": "code",
   "execution_count": 8,
   "metadata": {
    "ExecuteTime": {
     "end_time": "2021-07-07T12:00:26.543379Z",
     "start_time": "2021-07-07T12:00:26.230096Z"
    }
   },
   "outputs": [
    {
     "data": {
      "text/plain": [
       "Index(['author', 'author_fullname', 'created_utc', 'domain', 'full_link', 'id',\n",
       "       'is_self', 'locked', 'media_embed', 'num_comments', 'over_18',\n",
       "       'permalink', 'retrieved_on', 'score', 'secure_media_embed', 'selftext',\n",
       "       'stickied', 'subreddit', 'subreddit_id', 'thumbnail', 'title', 'url',\n",
       "       'search_term', 'period'],\n",
       "      dtype='object')"
      ]
     },
     "execution_count": 8,
     "metadata": {},
     "output_type": "execute_result"
    }
   ],
   "source": [
    "drop_cols = submissions_df.columns[submissions_df.isna().sum() / submissions_df.shape[0] > 0.50].values\n",
    "drop_cols = set(drop_cols)\n",
    "\n",
    "submissions_df.drop(columns=(drop_cols)).columns"
   ]
  },
  {
   "cell_type": "code",
   "execution_count": 9,
   "metadata": {
    "ExecuteTime": {
     "end_time": "2021-07-07T12:00:26.569013Z",
     "start_time": "2021-07-07T12:00:26.543379Z"
    }
   },
   "outputs": [],
   "source": [
    "# reviewed all columns and decided on this list\n",
    "keep_cols = [\n",
    "    'author',\n",
    "    'created_utc', \n",
    "    'domain', \n",
    "    'id',\n",
    "    'is_self',\n",
    "    'num_comments', \n",
    "    'over_18',\n",
    "    'score', \n",
    "    'selftext',\n",
    "    'stickied', \n",
    "    'subreddit', \n",
    "    'thumbnail', \n",
    "    'title',\n",
    "    'promoted',\n",
    "    'search_term', \n",
    "    'period',\n",
    "    'full_link'\n",
    "]"
   ]
  },
  {
   "cell_type": "code",
   "execution_count": 10,
   "metadata": {
    "ExecuteTime": {
     "end_time": "2021-07-07T12:00:26.647143Z",
     "start_time": "2021-07-07T12:00:26.569013Z"
    }
   },
   "outputs": [],
   "source": [
    "submissions_df = submissions_df[keep_cols]"
   ]
  },
  {
   "cell_type": "markdown",
   "metadata": {},
   "source": [
    "**Check for Null Values for Selected Columns**"
   ]
  },
  {
   "cell_type": "code",
   "execution_count": 11,
   "metadata": {
    "ExecuteTime": {
     "end_time": "2021-07-07T12:00:26.700531Z",
     "start_time": "2021-07-07T12:00:26.647143Z"
    }
   },
   "outputs": [
    {
     "data": {
      "text/plain": [
       "author          0.000012\n",
       "created_utc     0.000000\n",
       "domain          0.000035\n",
       "id              0.000000\n",
       "is_self         0.000000\n",
       "num_comments    0.000000\n",
       "over_18         0.000000\n",
       "score           0.000000\n",
       "selftext        0.000000\n",
       "stickied        0.054502\n",
       "subreddit       0.000992\n",
       "thumbnail       0.000012\n",
       "title           0.000000\n",
       "promoted        0.994542\n",
       "search_term     0.000000\n",
       "period          0.000000\n",
       "full_link       0.000000\n",
       "dtype: float64"
      ]
     },
     "execution_count": 11,
     "metadata": {},
     "output_type": "execute_result"
    }
   ],
   "source": [
    "submissions_df.isna().sum() / submissions_df.shape[0]"
   ]
  },
  {
   "cell_type": "code",
   "execution_count": 12,
   "metadata": {
    "ExecuteTime": {
     "end_time": "2021-07-07T12:00:26.747411Z",
     "start_time": "2021-07-07T12:00:26.700531Z"
    }
   },
   "outputs": [
    {
     "data": {
      "text/html": [
       "<div>\n",
       "<style scoped>\n",
       "    .dataframe tbody tr th:only-of-type {\n",
       "        vertical-align: middle;\n",
       "    }\n",
       "\n",
       "    .dataframe tbody tr th {\n",
       "        vertical-align: top;\n",
       "    }\n",
       "\n",
       "    .dataframe thead th {\n",
       "        text-align: right;\n",
       "    }\n",
       "</style>\n",
       "<table border=\"1\" class=\"dataframe\">\n",
       "  <thead>\n",
       "    <tr style=\"text-align: right;\">\n",
       "      <th></th>\n",
       "      <th>created_utc</th>\n",
       "      <th>num_comments</th>\n",
       "      <th>score</th>\n",
       "    </tr>\n",
       "  </thead>\n",
       "  <tbody>\n",
       "    <tr>\n",
       "      <th>count</th>\n",
       "      <td>8.665700e+04</td>\n",
       "      <td>86657.000000</td>\n",
       "      <td>86657.000000</td>\n",
       "    </tr>\n",
       "    <tr>\n",
       "      <th>mean</th>\n",
       "      <td>1.507940e+09</td>\n",
       "      <td>14.525162</td>\n",
       "      <td>16.037804</td>\n",
       "    </tr>\n",
       "    <tr>\n",
       "      <th>std</th>\n",
       "      <td>9.230622e+07</td>\n",
       "      <td>130.187857</td>\n",
       "      <td>171.480920</td>\n",
       "    </tr>\n",
       "    <tr>\n",
       "      <th>min</th>\n",
       "      <td>1.284756e+09</td>\n",
       "      <td>-3.000000</td>\n",
       "      <td>0.000000</td>\n",
       "    </tr>\n",
       "    <tr>\n",
       "      <th>25%</th>\n",
       "      <td>1.447190e+09</td>\n",
       "      <td>0.000000</td>\n",
       "      <td>1.000000</td>\n",
       "    </tr>\n",
       "    <tr>\n",
       "      <th>50%</th>\n",
       "      <td>1.463432e+09</td>\n",
       "      <td>2.000000</td>\n",
       "      <td>1.000000</td>\n",
       "    </tr>\n",
       "    <tr>\n",
       "      <th>75%</th>\n",
       "      <td>1.607565e+09</td>\n",
       "      <td>7.000000</td>\n",
       "      <td>1.000000</td>\n",
       "    </tr>\n",
       "    <tr>\n",
       "      <th>max</th>\n",
       "      <td>1.612742e+09</td>\n",
       "      <td>16057.000000</td>\n",
       "      <td>9631.000000</td>\n",
       "    </tr>\n",
       "  </tbody>\n",
       "</table>\n",
       "</div>"
      ],
      "text/plain": [
       "        created_utc  num_comments         score\n",
       "count  8.665700e+04  86657.000000  86657.000000\n",
       "mean   1.507940e+09     14.525162     16.037804\n",
       "std    9.230622e+07    130.187857    171.480920\n",
       "min    1.284756e+09     -3.000000      0.000000\n",
       "25%    1.447190e+09      0.000000      1.000000\n",
       "50%    1.463432e+09      2.000000      1.000000\n",
       "75%    1.607565e+09      7.000000      1.000000\n",
       "max    1.612742e+09  16057.000000   9631.000000"
      ]
     },
     "execution_count": 12,
     "metadata": {},
     "output_type": "execute_result"
    }
   ],
   "source": [
    "submissions_df.describe()"
   ]
  },
  {
   "cell_type": "markdown",
   "metadata": {},
   "source": [
    "**Number of Comments**  \n",
    "Replace negative number of comments with 0."
   ]
  },
  {
   "cell_type": "code",
   "execution_count": 13,
   "metadata": {
    "ExecuteTime": {
     "end_time": "2021-07-07T12:00:26.786908Z",
     "start_time": "2021-07-07T12:00:26.748558Z"
    }
   },
   "outputs": [],
   "source": [
    "submissions_df[submissions_df['num_comments'] < 0] = 0"
   ]
  },
  {
   "cell_type": "markdown",
   "metadata": {
    "ExecuteTime": {
     "end_time": "2021-07-05T01:56:54.931149Z",
     "start_time": "2021-07-05T01:56:54.913145Z"
    }
   },
   "source": [
    "**Author**  \n",
    "`author_fullname` and `author_id` columns are also null when `author` is null."
   ]
  },
  {
   "cell_type": "code",
   "execution_count": 14,
   "metadata": {
    "ExecuteTime": {
     "end_time": "2021-07-07T12:00:26.849412Z",
     "start_time": "2021-07-07T12:00:26.786908Z"
    },
    "scrolled": true
   },
   "outputs": [
    {
     "data": {
      "text/html": [
       "<div>\n",
       "<style scoped>\n",
       "    .dataframe tbody tr th:only-of-type {\n",
       "        vertical-align: middle;\n",
       "    }\n",
       "\n",
       "    .dataframe tbody tr th {\n",
       "        vertical-align: top;\n",
       "    }\n",
       "\n",
       "    .dataframe thead th {\n",
       "        text-align: right;\n",
       "    }\n",
       "</style>\n",
       "<table border=\"1\" class=\"dataframe\">\n",
       "  <thead>\n",
       "    <tr style=\"text-align: right;\">\n",
       "      <th></th>\n",
       "      <th>author</th>\n",
       "      <th>created_utc</th>\n",
       "      <th>domain</th>\n",
       "      <th>id</th>\n",
       "      <th>is_self</th>\n",
       "      <th>num_comments</th>\n",
       "      <th>over_18</th>\n",
       "      <th>score</th>\n",
       "      <th>selftext</th>\n",
       "      <th>stickied</th>\n",
       "      <th>subreddit</th>\n",
       "      <th>thumbnail</th>\n",
       "      <th>title</th>\n",
       "      <th>promoted</th>\n",
       "      <th>search_term</th>\n",
       "      <th>period</th>\n",
       "      <th>full_link</th>\n",
       "    </tr>\n",
       "  </thead>\n",
       "  <tbody>\n",
       "    <tr>\n",
       "      <th>68237</th>\n",
       "      <td>NaN</td>\n",
       "      <td>1.302772e+09</td>\n",
       "      <td>gameshampoo.com</td>\n",
       "      <td>gps20</td>\n",
       "      <td>False</td>\n",
       "      <td>50.0</td>\n",
       "      <td>False</td>\n",
       "      <td>0.0</td>\n",
       "      <td></td>\n",
       "      <td>NaN</td>\n",
       "      <td>promos</td>\n",
       "      <td>http://thumbs.reddit.com/t3_gps20.png?v=d26045...</td>\n",
       "      <td>Win a free copy of Portal 2!</td>\n",
       "      <td>True</td>\n",
       "      <td>Portal 2</td>\n",
       "      <td>pre launch</td>\n",
       "      <td>https://www.reddit.com/comments/gps20/win_a_fr...</td>\n",
       "    </tr>\n",
       "  </tbody>\n",
       "</table>\n",
       "</div>"
      ],
      "text/plain": [
       "      author   created_utc           domain     id is_self  num_comments  \\\n",
       "68237    NaN  1.302772e+09  gameshampoo.com  gps20   False          50.0   \n",
       "\n",
       "      over_18  score selftext stickied subreddit  \\\n",
       "68237   False    0.0               NaN    promos   \n",
       "\n",
       "                                               thumbnail  \\\n",
       "68237  http://thumbs.reddit.com/t3_gps20.png?v=d26045...   \n",
       "\n",
       "                              title promoted search_term      period  \\\n",
       "68237  Win a free copy of Portal 2!     True    Portal 2  pre launch   \n",
       "\n",
       "                                               full_link  \n",
       "68237  https://www.reddit.com/comments/gps20/win_a_fr...  "
      ]
     },
     "execution_count": 14,
     "metadata": {},
     "output_type": "execute_result"
    }
   ],
   "source": [
    "submissions_df[submissions_df['author'].isna()]"
   ]
  },
  {
   "cell_type": "markdown",
   "metadata": {},
   "source": [
    "Assuming that if `author` is null then it is equivalent to `'[deleted]'`"
   ]
  },
  {
   "cell_type": "code",
   "execution_count": 15,
   "metadata": {
    "ExecuteTime": {
     "end_time": "2021-07-07T12:00:26.900301Z",
     "start_time": "2021-07-07T12:00:26.849412Z"
    }
   },
   "outputs": [],
   "source": [
    "submissions_df['author'].fillna('[deleted]', inplace=True)\n",
    "submissions_df['author_deleted'] = submissions_df['author']\\\n",
    "                                    .map(lambda x: 1 \n",
    "                                         if x == '[deleted]' \n",
    "                                         else 0)"
   ]
  },
  {
   "cell_type": "code",
   "execution_count": 16,
   "metadata": {
    "ExecuteTime": {
     "end_time": "2021-07-07T12:00:26.915928Z",
     "start_time": "2021-07-07T12:00:26.900301Z"
    },
    "scrolled": true
   },
   "outputs": [
    {
     "data": {
      "text/plain": [
       "0    78183\n",
       "1     8474\n",
       "Name: author_deleted, dtype: int64"
      ]
     },
     "execution_count": 16,
     "metadata": {},
     "output_type": "execute_result"
    }
   ],
   "source": [
    "submissions_df['author_deleted'].value_counts()"
   ]
  },
  {
   "cell_type": "markdown",
   "metadata": {},
   "source": [
    "**Domain**"
   ]
  },
  {
   "cell_type": "code",
   "execution_count": 17,
   "metadata": {
    "ExecuteTime": {
     "end_time": "2021-07-07T12:00:26.947181Z",
     "start_time": "2021-07-07T12:00:26.915928Z"
    }
   },
   "outputs": [
    {
     "data": {
      "text/html": [
       "<div>\n",
       "<style scoped>\n",
       "    .dataframe tbody tr th:only-of-type {\n",
       "        vertical-align: middle;\n",
       "    }\n",
       "\n",
       "    .dataframe tbody tr th {\n",
       "        vertical-align: top;\n",
       "    }\n",
       "\n",
       "    .dataframe thead th {\n",
       "        text-align: right;\n",
       "    }\n",
       "</style>\n",
       "<table border=\"1\" class=\"dataframe\">\n",
       "  <thead>\n",
       "    <tr style=\"text-align: right;\">\n",
       "      <th></th>\n",
       "      <th>author</th>\n",
       "      <th>created_utc</th>\n",
       "      <th>domain</th>\n",
       "      <th>id</th>\n",
       "      <th>is_self</th>\n",
       "      <th>num_comments</th>\n",
       "      <th>over_18</th>\n",
       "      <th>score</th>\n",
       "      <th>selftext</th>\n",
       "      <th>stickied</th>\n",
       "      <th>subreddit</th>\n",
       "      <th>thumbnail</th>\n",
       "      <th>title</th>\n",
       "      <th>promoted</th>\n",
       "      <th>search_term</th>\n",
       "      <th>period</th>\n",
       "      <th>full_link</th>\n",
       "      <th>author_deleted</th>\n",
       "    </tr>\n",
       "  </thead>\n",
       "  <tbody>\n",
       "    <tr>\n",
       "      <th>78364</th>\n",
       "      <td>feathand</td>\n",
       "      <td>1.584221e+09</td>\n",
       "      <td>NaN</td>\n",
       "      <td>fipqxs</td>\n",
       "      <td>False</td>\n",
       "      <td>0.0</td>\n",
       "      <td>False</td>\n",
       "      <td>1.0</td>\n",
       "      <td></td>\n",
       "      <td>False</td>\n",
       "      <td>Metal</td>\n",
       "      <td>default</td>\n",
       "      <td>Music Similiar to Doom (2016) and Doom Eternal...</td>\n",
       "      <td>NaN</td>\n",
       "      <td>DOOM Eternal</td>\n",
       "      <td>pre launch</td>\n",
       "      <td>https://www.reddit.com/r/Metal/comments/fipqxs...</td>\n",
       "      <td>0</td>\n",
       "    </tr>\n",
       "    <tr>\n",
       "      <th>83248</th>\n",
       "      <td>zitping</td>\n",
       "      <td>1.584839e+09</td>\n",
       "      <td>NaN</td>\n",
       "      <td>fmr2o1</td>\n",
       "      <td>False</td>\n",
       "      <td>4.0</td>\n",
       "      <td>False</td>\n",
       "      <td>1.0</td>\n",
       "      <td></td>\n",
       "      <td>False</td>\n",
       "      <td>Doom</td>\n",
       "      <td>default</td>\n",
       "      <td>[Troubleshooting] Doom Eternal - Constant cras...</td>\n",
       "      <td>NaN</td>\n",
       "      <td>DOOM Eternal</td>\n",
       "      <td>post launch</td>\n",
       "      <td>https://www.reddit.com/r/Doom/comments/fmr2o1/...</td>\n",
       "      <td>0</td>\n",
       "    </tr>\n",
       "    <tr>\n",
       "      <th>83450</th>\n",
       "      <td>Xenix1252</td>\n",
       "      <td>1.584852e+09</td>\n",
       "      <td>NaN</td>\n",
       "      <td>fmu6uk</td>\n",
       "      <td>False</td>\n",
       "      <td>5.0</td>\n",
       "      <td>False</td>\n",
       "      <td>1.0</td>\n",
       "      <td></td>\n",
       "      <td>False</td>\n",
       "      <td>Doom</td>\n",
       "      <td>spoiler</td>\n",
       "      <td>Samuel Hayden and his role in the story of the...</td>\n",
       "      <td>NaN</td>\n",
       "      <td>DOOM Eternal</td>\n",
       "      <td>post launch</td>\n",
       "      <td>https://www.reddit.com/r/Doom/comments/fmu6uk/...</td>\n",
       "      <td>0</td>\n",
       "    </tr>\n",
       "  </tbody>\n",
       "</table>\n",
       "</div>"
      ],
      "text/plain": [
       "          author   created_utc domain      id is_self  num_comments over_18  \\\n",
       "78364   feathand  1.584221e+09    NaN  fipqxs   False           0.0   False   \n",
       "83248    zitping  1.584839e+09    NaN  fmr2o1   False           4.0   False   \n",
       "83450  Xenix1252  1.584852e+09    NaN  fmu6uk   False           5.0   False   \n",
       "\n",
       "       score selftext stickied subreddit thumbnail  \\\n",
       "78364    1.0             False     Metal   default   \n",
       "83248    1.0             False      Doom   default   \n",
       "83450    1.0             False      Doom   spoiler   \n",
       "\n",
       "                                                   title promoted  \\\n",
       "78364  Music Similiar to Doom (2016) and Doom Eternal...      NaN   \n",
       "83248  [Troubleshooting] Doom Eternal - Constant cras...      NaN   \n",
       "83450  Samuel Hayden and his role in the story of the...      NaN   \n",
       "\n",
       "        search_term       period  \\\n",
       "78364  DOOM Eternal   pre launch   \n",
       "83248  DOOM Eternal  post launch   \n",
       "83450  DOOM Eternal  post launch   \n",
       "\n",
       "                                               full_link  author_deleted  \n",
       "78364  https://www.reddit.com/r/Metal/comments/fipqxs...               0  \n",
       "83248  https://www.reddit.com/r/Doom/comments/fmr2o1/...               0  \n",
       "83450  https://www.reddit.com/r/Doom/comments/fmu6uk/...               0  "
      ]
     },
     "execution_count": 17,
     "metadata": {},
     "output_type": "execute_result"
    }
   ],
   "source": [
    "submissions_df[submissions_df['domain'].isna()]"
   ]
  },
  {
   "cell_type": "code",
   "execution_count": 18,
   "metadata": {
    "ExecuteTime": {
     "end_time": "2021-07-07T12:00:26.969319Z",
     "start_time": "2021-07-07T12:00:26.947181Z"
    }
   },
   "outputs": [
    {
     "data": {
      "text/plain": [
       "0              self.Fallout\n",
       "1         self.pcmasterrace\n",
       "2              self.Fallout\n",
       "3                  self.fo4\n",
       "4               youtube.com\n",
       "                ...        \n",
       "86652    self.buildapcforme\n",
       "86653        self.GamerPals\n",
       "86654         self.Trophies\n",
       "86655     self.CrackSupport\n",
       "86656     self.pcmasterrace\n",
       "Name: domain, Length: 86657, dtype: object"
      ]
     },
     "execution_count": 18,
     "metadata": {},
     "output_type": "execute_result"
    }
   ],
   "source": [
    "submissions_df['domain']"
   ]
  },
  {
   "cell_type": "markdown",
   "metadata": {},
   "source": [
    "`is_self` is False, unsure how to impute, so drop rows."
   ]
  },
  {
   "cell_type": "markdown",
   "metadata": {},
   "source": [
    "**Stickied**"
   ]
  },
  {
   "cell_type": "code",
   "execution_count": 19,
   "metadata": {
    "ExecuteTime": {
     "end_time": "2021-07-07T12:00:26.984944Z",
     "start_time": "2021-07-07T12:00:26.969319Z"
    }
   },
   "outputs": [
    {
     "data": {
      "text/plain": [
       "False    81866\n",
       "True        70\n",
       "Name: stickied, dtype: int64"
      ]
     },
     "execution_count": 19,
     "metadata": {},
     "output_type": "execute_result"
    }
   ],
   "source": [
    "submissions_df['stickied'].value_counts()"
   ]
  },
  {
   "cell_type": "code",
   "execution_count": 20,
   "metadata": {
    "ExecuteTime": {
     "end_time": "2021-07-07T12:00:27.016198Z",
     "start_time": "2021-07-07T12:00:26.984944Z"
    }
   },
   "outputs": [
    {
     "data": {
      "text/html": [
       "<div>\n",
       "<style scoped>\n",
       "    .dataframe tbody tr th:only-of-type {\n",
       "        vertical-align: middle;\n",
       "    }\n",
       "\n",
       "    .dataframe tbody tr th {\n",
       "        vertical-align: top;\n",
       "    }\n",
       "\n",
       "    .dataframe thead th {\n",
       "        text-align: right;\n",
       "    }\n",
       "</style>\n",
       "<table border=\"1\" class=\"dataframe\">\n",
       "  <thead>\n",
       "    <tr style=\"text-align: right;\">\n",
       "      <th></th>\n",
       "      <th>author</th>\n",
       "      <th>created_utc</th>\n",
       "      <th>domain</th>\n",
       "      <th>id</th>\n",
       "      <th>is_self</th>\n",
       "      <th>num_comments</th>\n",
       "      <th>over_18</th>\n",
       "      <th>score</th>\n",
       "      <th>selftext</th>\n",
       "      <th>stickied</th>\n",
       "      <th>subreddit</th>\n",
       "      <th>thumbnail</th>\n",
       "      <th>title</th>\n",
       "      <th>promoted</th>\n",
       "      <th>search_term</th>\n",
       "      <th>period</th>\n",
       "      <th>full_link</th>\n",
       "      <th>author_deleted</th>\n",
       "    </tr>\n",
       "  </thead>\n",
       "  <tbody>\n",
       "    <tr>\n",
       "      <th>67260</th>\n",
       "      <td>ghkjdfhgjsdhgjklfhjk</td>\n",
       "      <td>1.313025e+09</td>\n",
       "      <td>self.gaming</td>\n",
       "      <td>jf77c</td>\n",
       "      <td>True</td>\n",
       "      <td>7.0</td>\n",
       "      <td>False</td>\n",
       "      <td>3.0</td>\n",
       "      <td>I'm torn.</td>\n",
       "      <td>NaN</td>\n",
       "      <td>gaming</td>\n",
       "      <td>self</td>\n",
       "      <td>Bastion or From Dust?</td>\n",
       "      <td>NaN</td>\n",
       "      <td>Bastion</td>\n",
       "      <td>pre launch</td>\n",
       "      <td>https://www.reddit.com/r/gaming/comments/jf77c...</td>\n",
       "      <td>0</td>\n",
       "    </tr>\n",
       "    <tr>\n",
       "      <th>67261</th>\n",
       "      <td>masamagic</td>\n",
       "      <td>1.313026e+09</td>\n",
       "      <td>self.tf2trade</td>\n",
       "      <td>jf7qj</td>\n",
       "      <td>True</td>\n",
       "      <td>0.0</td>\n",
       "      <td>False</td>\n",
       "      <td>0.0</td>\n",
       "      <td>Trading Bills, V. Whiskers and some other hats...</td>\n",
       "      <td>NaN</td>\n",
       "      <td>tf2trade</td>\n",
       "      <td>self</td>\n",
       "      <td>[W] Bastion [H] Bill's, V Whiskers + More</td>\n",
       "      <td>NaN</td>\n",
       "      <td>Bastion</td>\n",
       "      <td>pre launch</td>\n",
       "      <td>https://www.reddit.com/r/tf2trade/comments/jf7...</td>\n",
       "      <td>0</td>\n",
       "    </tr>\n",
       "    <tr>\n",
       "      <th>67262</th>\n",
       "      <td>[deleted]</td>\n",
       "      <td>1.313030e+09</td>\n",
       "      <td>self.SteamGameSwap</td>\n",
       "      <td>jf9qc</td>\n",
       "      <td>True</td>\n",
       "      <td>0.0</td>\n",
       "      <td>False</td>\n",
       "      <td>1.0</td>\n",
       "      <td></td>\n",
       "      <td>NaN</td>\n",
       "      <td>SteamGameSwap</td>\n",
       "      <td>default</td>\n",
       "      <td>[H] Amnesia: Dark Decent, Audiosurf, Day of De...</td>\n",
       "      <td>NaN</td>\n",
       "      <td>Bastion</td>\n",
       "      <td>pre launch</td>\n",
       "      <td>https://www.reddit.com/r/SteamGameSwap/comment...</td>\n",
       "      <td>1</td>\n",
       "    </tr>\n",
       "    <tr>\n",
       "      <th>67263</th>\n",
       "      <td>buggereet</td>\n",
       "      <td>1.313031e+09</td>\n",
       "      <td>self.SteamGameSwap</td>\n",
       "      <td>jfa9c</td>\n",
       "      <td>True</td>\n",
       "      <td>0.0</td>\n",
       "      <td>False</td>\n",
       "      <td>1.0</td>\n",
       "      <td></td>\n",
       "      <td>NaN</td>\n",
       "      <td>SteamGameSwap</td>\n",
       "      <td>self</td>\n",
       "      <td>[H] Audiosurf, Cogs, Portal (pick two) [W] Bas...</td>\n",
       "      <td>NaN</td>\n",
       "      <td>Bastion</td>\n",
       "      <td>pre launch</td>\n",
       "      <td>https://www.reddit.com/r/SteamGameSwap/comment...</td>\n",
       "      <td>0</td>\n",
       "    </tr>\n",
       "    <tr>\n",
       "      <th>67264</th>\n",
       "      <td>[deleted]</td>\n",
       "      <td>1.313046e+09</td>\n",
       "      <td>self.SteamGameSwap</td>\n",
       "      <td>jfgtf</td>\n",
       "      <td>True</td>\n",
       "      <td>0.0</td>\n",
       "      <td>False</td>\n",
       "      <td>1.0</td>\n",
       "      <td>Just want to put out there that I am not inter...</td>\n",
       "      <td>NaN</td>\n",
       "      <td>SteamGameSwap</td>\n",
       "      <td>default</td>\n",
       "      <td>[H] Terraria, LIMBO, Beat Hazard Complete [W] ...</td>\n",
       "      <td>NaN</td>\n",
       "      <td>Bastion</td>\n",
       "      <td>pre launch</td>\n",
       "      <td>https://www.reddit.com/r/SteamGameSwap/comment...</td>\n",
       "      <td>1</td>\n",
       "    </tr>\n",
       "  </tbody>\n",
       "</table>\n",
       "</div>"
      ],
      "text/plain": [
       "                     author   created_utc              domain     id is_self  \\\n",
       "67260  ghkjdfhgjsdhgjklfhjk  1.313025e+09         self.gaming  jf77c    True   \n",
       "67261             masamagic  1.313026e+09       self.tf2trade  jf7qj    True   \n",
       "67262             [deleted]  1.313030e+09  self.SteamGameSwap  jf9qc    True   \n",
       "67263             buggereet  1.313031e+09  self.SteamGameSwap  jfa9c    True   \n",
       "67264             [deleted]  1.313046e+09  self.SteamGameSwap  jfgtf    True   \n",
       "\n",
       "       num_comments over_18  score  \\\n",
       "67260           7.0   False    3.0   \n",
       "67261           0.0   False    0.0   \n",
       "67262           0.0   False    1.0   \n",
       "67263           0.0   False    1.0   \n",
       "67264           0.0   False    1.0   \n",
       "\n",
       "                                                selftext stickied  \\\n",
       "67260                                          I'm torn.      NaN   \n",
       "67261  Trading Bills, V. Whiskers and some other hats...      NaN   \n",
       "67262                                                         NaN   \n",
       "67263                                                         NaN   \n",
       "67264  Just want to put out there that I am not inter...      NaN   \n",
       "\n",
       "           subreddit thumbnail  \\\n",
       "67260         gaming      self   \n",
       "67261       tf2trade      self   \n",
       "67262  SteamGameSwap   default   \n",
       "67263  SteamGameSwap      self   \n",
       "67264  SteamGameSwap   default   \n",
       "\n",
       "                                                   title promoted search_term  \\\n",
       "67260                              Bastion or From Dust?      NaN     Bastion   \n",
       "67261          [W] Bastion [H] Bill's, V Whiskers + More      NaN     Bastion   \n",
       "67262  [H] Amnesia: Dark Decent, Audiosurf, Day of De...      NaN     Bastion   \n",
       "67263  [H] Audiosurf, Cogs, Portal (pick two) [W] Bas...      NaN     Bastion   \n",
       "67264  [H] Terraria, LIMBO, Beat Hazard Complete [W] ...      NaN     Bastion   \n",
       "\n",
       "           period                                          full_link  \\\n",
       "67260  pre launch  https://www.reddit.com/r/gaming/comments/jf77c...   \n",
       "67261  pre launch  https://www.reddit.com/r/tf2trade/comments/jf7...   \n",
       "67262  pre launch  https://www.reddit.com/r/SteamGameSwap/comment...   \n",
       "67263  pre launch  https://www.reddit.com/r/SteamGameSwap/comment...   \n",
       "67264  pre launch  https://www.reddit.com/r/SteamGameSwap/comment...   \n",
       "\n",
       "       author_deleted  \n",
       "67260               0  \n",
       "67261               0  \n",
       "67262               1  \n",
       "67263               0  \n",
       "67264               1  "
      ]
     },
     "execution_count": 20,
     "metadata": {},
     "output_type": "execute_result"
    }
   ],
   "source": [
    "submissions_df[submissions_df['stickied'].isna()].head()"
   ]
  },
  {
   "cell_type": "markdown",
   "metadata": {},
   "source": [
    "There are only 70 total stickied submissions vs the 81,864 non-stickied. Additionally, the no clear way to check if null values were sticked or not. So, drop the column."
   ]
  },
  {
   "cell_type": "code",
   "execution_count": 21,
   "metadata": {
    "ExecuteTime": {
     "end_time": "2021-07-07T12:00:27.047448Z",
     "start_time": "2021-07-07T12:00:27.016198Z"
    }
   },
   "outputs": [],
   "source": [
    "submissions_df.drop(columns='stickied', inplace=True)"
   ]
  },
  {
   "cell_type": "markdown",
   "metadata": {},
   "source": [
    "**Subreddit**"
   ]
  },
  {
   "cell_type": "code",
   "execution_count": 22,
   "metadata": {
    "ExecuteTime": {
     "end_time": "2021-07-07T12:00:27.069585Z",
     "start_time": "2021-07-07T12:00:27.047448Z"
    }
   },
   "outputs": [
    {
     "data": {
      "text/html": [
       "<div>\n",
       "<style scoped>\n",
       "    .dataframe tbody tr th:only-of-type {\n",
       "        vertical-align: middle;\n",
       "    }\n",
       "\n",
       "    .dataframe tbody tr th {\n",
       "        vertical-align: top;\n",
       "    }\n",
       "\n",
       "    .dataframe thead th {\n",
       "        text-align: right;\n",
       "    }\n",
       "</style>\n",
       "<table border=\"1\" class=\"dataframe\">\n",
       "  <thead>\n",
       "    <tr style=\"text-align: right;\">\n",
       "      <th></th>\n",
       "      <th>author</th>\n",
       "      <th>created_utc</th>\n",
       "      <th>domain</th>\n",
       "      <th>id</th>\n",
       "      <th>is_self</th>\n",
       "      <th>num_comments</th>\n",
       "      <th>over_18</th>\n",
       "      <th>score</th>\n",
       "      <th>selftext</th>\n",
       "      <th>subreddit</th>\n",
       "      <th>thumbnail</th>\n",
       "      <th>title</th>\n",
       "      <th>promoted</th>\n",
       "      <th>search_term</th>\n",
       "      <th>period</th>\n",
       "      <th>full_link</th>\n",
       "      <th>author_deleted</th>\n",
       "    </tr>\n",
       "  </thead>\n",
       "  <tbody>\n",
       "    <tr>\n",
       "      <th>133</th>\n",
       "      <td>[deleted]</td>\n",
       "      <td>1.446605e+09</td>\n",
       "      <td>rareitemapparel.com</td>\n",
       "      <td>3rfx7v</td>\n",
       "      <td>False</td>\n",
       "      <td>0.0</td>\n",
       "      <td>False</td>\n",
       "      <td>0.0</td>\n",
       "      <td></td>\n",
       "      <td>NaN</td>\n",
       "      <td>http://b.thumbs.redditmedia.com/KS4dX5huaXN0z2...</td>\n",
       "      <td>How I feel waiting for Fallout 4...</td>\n",
       "      <td>True</td>\n",
       "      <td>Fallout 4</td>\n",
       "      <td>pre launch</td>\n",
       "      <td>https://www.reddit.com/comments/3rfx7v/how_i_f...</td>\n",
       "      <td>1</td>\n",
       "    </tr>\n",
       "    <tr>\n",
       "      <th>1503</th>\n",
       "      <td>SickAcorn</td>\n",
       "      <td>1.446701e+09</td>\n",
       "      <td>twitch.tv</td>\n",
       "      <td>3rleos</td>\n",
       "      <td>False</td>\n",
       "      <td>0.0</td>\n",
       "      <td>False</td>\n",
       "      <td>1.0</td>\n",
       "      <td></td>\n",
       "      <td>NaN</td>\n",
       "      <td>default</td>\n",
       "      <td>Fallout 4 stream</td>\n",
       "      <td>True</td>\n",
       "      <td>Fallout 4</td>\n",
       "      <td>pre launch</td>\n",
       "      <td>https://www.reddit.com/comments/3rleos/fallout...</td>\n",
       "      <td>0</td>\n",
       "    </tr>\n",
       "    <tr>\n",
       "      <th>1862</th>\n",
       "      <td>LERAGESHIRTS</td>\n",
       "      <td>1.446736e+09</td>\n",
       "      <td>lerageshirts.com</td>\n",
       "      <td>3rmwzr</td>\n",
       "      <td>False</td>\n",
       "      <td>1.0</td>\n",
       "      <td>False</td>\n",
       "      <td>0.0</td>\n",
       "      <td></td>\n",
       "      <td>NaN</td>\n",
       "      <td>http://b.thumbs.redditmedia.com/ywNvlxU8A6IJzm...</td>\n",
       "      <td>In case you need this for the 400 hours of gam...</td>\n",
       "      <td>True</td>\n",
       "      <td>Fallout 4</td>\n",
       "      <td>pre launch</td>\n",
       "      <td>https://www.reddit.com/comments/3rmwzr/in_case...</td>\n",
       "      <td>0</td>\n",
       "    </tr>\n",
       "    <tr>\n",
       "      <th>8485</th>\n",
       "      <td>redditads</td>\n",
       "      <td>1.447135e+09</td>\n",
       "      <td>redbox.com</td>\n",
       "      <td>3s8nwi</td>\n",
       "      <td>False</td>\n",
       "      <td>146.0</td>\n",
       "      <td>False</td>\n",
       "      <td>0.0</td>\n",
       "      <td></td>\n",
       "      <td>NaN</td>\n",
       "      <td>http://b.thumbs.redditmedia.com/qBWq8Bt-YaF38q...</td>\n",
       "      <td>Gaming on a budget? For just $3 a day, you can...</td>\n",
       "      <td>True</td>\n",
       "      <td>Fallout 4</td>\n",
       "      <td>post launch</td>\n",
       "      <td>https://www.reddit.com/comments/3s8nwi/gaming_...</td>\n",
       "      <td>0</td>\n",
       "    </tr>\n",
       "    <tr>\n",
       "      <th>8504</th>\n",
       "      <td>redditads</td>\n",
       "      <td>1.447135e+09</td>\n",
       "      <td>redbox.com</td>\n",
       "      <td>3s8of5</td>\n",
       "      <td>False</td>\n",
       "      <td>134.0</td>\n",
       "      <td>False</td>\n",
       "      <td>0.0</td>\n",
       "      <td></td>\n",
       "      <td>NaN</td>\n",
       "      <td>http://b.thumbs.redditmedia.com/FFndVjpp_jctnv...</td>\n",
       "      <td>Gaming on a budget? For just $3 a day, you can...</td>\n",
       "      <td>True</td>\n",
       "      <td>Fallout 4</td>\n",
       "      <td>post launch</td>\n",
       "      <td>https://www.reddit.com/comments/3s8of5/gaming_...</td>\n",
       "      <td>0</td>\n",
       "    </tr>\n",
       "  </tbody>\n",
       "</table>\n",
       "</div>"
      ],
      "text/plain": [
       "            author   created_utc               domain      id is_self  \\\n",
       "133      [deleted]  1.446605e+09  rareitemapparel.com  3rfx7v   False   \n",
       "1503     SickAcorn  1.446701e+09            twitch.tv  3rleos   False   \n",
       "1862  LERAGESHIRTS  1.446736e+09     lerageshirts.com  3rmwzr   False   \n",
       "8485     redditads  1.447135e+09           redbox.com  3s8nwi   False   \n",
       "8504     redditads  1.447135e+09           redbox.com  3s8of5   False   \n",
       "\n",
       "      num_comments over_18  score selftext subreddit  \\\n",
       "133            0.0   False    0.0                NaN   \n",
       "1503           0.0   False    1.0                NaN   \n",
       "1862           1.0   False    0.0                NaN   \n",
       "8485         146.0   False    0.0                NaN   \n",
       "8504         134.0   False    0.0                NaN   \n",
       "\n",
       "                                              thumbnail  \\\n",
       "133   http://b.thumbs.redditmedia.com/KS4dX5huaXN0z2...   \n",
       "1503                                            default   \n",
       "1862  http://b.thumbs.redditmedia.com/ywNvlxU8A6IJzm...   \n",
       "8485  http://b.thumbs.redditmedia.com/qBWq8Bt-YaF38q...   \n",
       "8504  http://b.thumbs.redditmedia.com/FFndVjpp_jctnv...   \n",
       "\n",
       "                                                  title promoted search_term  \\\n",
       "133                 How I feel waiting for Fallout 4...     True   Fallout 4   \n",
       "1503                                   Fallout 4 stream     True   Fallout 4   \n",
       "1862  In case you need this for the 400 hours of gam...     True   Fallout 4   \n",
       "8485  Gaming on a budget? For just $3 a day, you can...     True   Fallout 4   \n",
       "8504  Gaming on a budget? For just $3 a day, you can...     True   Fallout 4   \n",
       "\n",
       "           period                                          full_link  \\\n",
       "133    pre launch  https://www.reddit.com/comments/3rfx7v/how_i_f...   \n",
       "1503   pre launch  https://www.reddit.com/comments/3rleos/fallout...   \n",
       "1862   pre launch  https://www.reddit.com/comments/3rmwzr/in_case...   \n",
       "8485  post launch  https://www.reddit.com/comments/3s8nwi/gaming_...   \n",
       "8504  post launch  https://www.reddit.com/comments/3s8of5/gaming_...   \n",
       "\n",
       "      author_deleted  \n",
       "133                1  \n",
       "1503               0  \n",
       "1862               0  \n",
       "8485               0  \n",
       "8504               0  "
      ]
     },
     "execution_count": 22,
     "metadata": {},
     "output_type": "execute_result"
    }
   ],
   "source": [
    "submissions_df[submissions_df['subreddit'].isna()].head()"
   ]
  },
  {
   "cell_type": "markdown",
   "metadata": {},
   "source": [
    "Looking at the `full_link` it seems as if these are not actual submissions. When clicking the page it leads to a page with no comments, title, or self text. It would be best to drop these rows."
   ]
  },
  {
   "cell_type": "markdown",
   "metadata": {},
   "source": [
    "**Thumbnail**"
   ]
  },
  {
   "cell_type": "code",
   "execution_count": 23,
   "metadata": {
    "ExecuteTime": {
     "end_time": "2021-07-07T12:00:27.100838Z",
     "start_time": "2021-07-07T12:00:27.069585Z"
    }
   },
   "outputs": [
    {
     "data": {
      "text/html": [
       "<div>\n",
       "<style scoped>\n",
       "    .dataframe tbody tr th:only-of-type {\n",
       "        vertical-align: middle;\n",
       "    }\n",
       "\n",
       "    .dataframe tbody tr th {\n",
       "        vertical-align: top;\n",
       "    }\n",
       "\n",
       "    .dataframe thead th {\n",
       "        text-align: right;\n",
       "    }\n",
       "</style>\n",
       "<table border=\"1\" class=\"dataframe\">\n",
       "  <thead>\n",
       "    <tr style=\"text-align: right;\">\n",
       "      <th></th>\n",
       "      <th>author</th>\n",
       "      <th>created_utc</th>\n",
       "      <th>domain</th>\n",
       "      <th>id</th>\n",
       "      <th>is_self</th>\n",
       "      <th>num_comments</th>\n",
       "      <th>over_18</th>\n",
       "      <th>score</th>\n",
       "      <th>selftext</th>\n",
       "      <th>subreddit</th>\n",
       "      <th>thumbnail</th>\n",
       "      <th>title</th>\n",
       "      <th>promoted</th>\n",
       "      <th>search_term</th>\n",
       "      <th>period</th>\n",
       "      <th>full_link</th>\n",
       "      <th>author_deleted</th>\n",
       "    </tr>\n",
       "  </thead>\n",
       "  <tbody>\n",
       "    <tr>\n",
       "      <th>53706</th>\n",
       "      <td>[deleted]</td>\n",
       "      <td>1.285188e+09</td>\n",
       "      <td>guardian.co.uk</td>\n",
       "      <td>dhiky</td>\n",
       "      <td>False</td>\n",
       "      <td>0.0</td>\n",
       "      <td>False</td>\n",
       "      <td>1.0</td>\n",
       "      <td></td>\n",
       "      <td>gaming</td>\n",
       "      <td>NaN</td>\n",
       "      <td>Review: Sid Meier's Civilization V</td>\n",
       "      <td>NaN</td>\n",
       "      <td>Sid Meier's Civilization® V</td>\n",
       "      <td>post launch</td>\n",
       "      <td>https://www.reddit.com/r/gaming/comments/dhiky...</td>\n",
       "      <td>1</td>\n",
       "    </tr>\n",
       "  </tbody>\n",
       "</table>\n",
       "</div>"
      ],
      "text/plain": [
       "          author   created_utc          domain     id is_self  num_comments  \\\n",
       "53706  [deleted]  1.285188e+09  guardian.co.uk  dhiky   False           0.0   \n",
       "\n",
       "      over_18  score selftext subreddit thumbnail  \\\n",
       "53706   False    1.0             gaming       NaN   \n",
       "\n",
       "                                    title promoted  \\\n",
       "53706  Review: Sid Meier's Civilization V      NaN   \n",
       "\n",
       "                       search_term       period  \\\n",
       "53706  Sid Meier's Civilization® V  post launch   \n",
       "\n",
       "                                               full_link  author_deleted  \n",
       "53706  https://www.reddit.com/r/gaming/comments/dhiky...               1  "
      ]
     },
     "execution_count": 23,
     "metadata": {},
     "output_type": "execute_result"
    }
   ],
   "source": [
    "submissions_df[submissions_df['thumbnail'].isna()]"
   ]
  },
  {
   "cell_type": "markdown",
   "metadata": {
    "ExecuteTime": {
     "end_time": "2021-07-06T12:34:50.658828Z",
     "start_time": "2021-07-06T12:34:50.627574Z"
    }
   },
   "source": [
    "Only one value, with a `[deleted]` author so will just drop the row."
   ]
  },
  {
   "cell_type": "markdown",
   "metadata": {},
   "source": [
    "**Promoted**"
   ]
  },
  {
   "cell_type": "code",
   "execution_count": 24,
   "metadata": {
    "ExecuteTime": {
     "end_time": "2021-07-07T12:00:27.116464Z",
     "start_time": "2021-07-07T12:00:27.100838Z"
    }
   },
   "outputs": [
    {
     "data": {
      "text/plain": [
       "True    473\n",
       "0         2\n",
       "Name: promoted, dtype: int64"
      ]
     },
     "execution_count": 24,
     "metadata": {},
     "output_type": "execute_result"
    }
   ],
   "source": [
    "submissions_df['promoted'].value_counts()"
   ]
  },
  {
   "cell_type": "markdown",
   "metadata": {},
   "source": [
    "Since there are no `False` values for promoted, assume null value are false."
   ]
  },
  {
   "cell_type": "code",
   "execution_count": 25,
   "metadata": {
    "ExecuteTime": {
     "end_time": "2021-07-07T12:00:27.132090Z",
     "start_time": "2021-07-07T12:00:27.116464Z"
    }
   },
   "outputs": [],
   "source": [
    "submissions_df['promoted'].fillna(False, inplace=True)"
   ]
  },
  {
   "cell_type": "markdown",
   "metadata": {},
   "source": [
    "**Final Cleanup**"
   ]
  },
  {
   "cell_type": "code",
   "execution_count": 26,
   "metadata": {
    "ExecuteTime": {
     "end_time": "2021-07-07T12:00:27.185480Z",
     "start_time": "2021-07-07T12:00:27.132090Z"
    }
   },
   "outputs": [
    {
     "data": {
      "text/plain": [
       "author             0\n",
       "created_utc        0\n",
       "domain             3\n",
       "id                 0\n",
       "is_self            0\n",
       "num_comments       0\n",
       "over_18            0\n",
       "score              0\n",
       "selftext           0\n",
       "subreddit         86\n",
       "thumbnail          1\n",
       "title              0\n",
       "promoted           0\n",
       "search_term        0\n",
       "period             0\n",
       "full_link          0\n",
       "author_deleted     0\n",
       "dtype: int64"
      ]
     },
     "execution_count": 26,
     "metadata": {},
     "output_type": "execute_result"
    }
   ],
   "source": [
    "submissions_df.isna().sum()"
   ]
  },
  {
   "cell_type": "markdown",
   "metadata": {},
   "source": [
    "Drop remaining null rows."
   ]
  },
  {
   "cell_type": "code",
   "execution_count": 27,
   "metadata": {
    "ExecuteTime": {
     "end_time": "2021-07-07T12:00:27.270130Z",
     "start_time": "2021-07-07T12:00:27.185480Z"
    }
   },
   "outputs": [
    {
     "name": "stdout",
     "output_type": "stream",
     "text": [
      "(86657, 17)\n",
      "(86567, 17)\n"
     ]
    }
   ],
   "source": [
    "print(submissions_df.shape)\n",
    "submissions_df.dropna(inplace=True)\n",
    "print(submissions_df.shape)"
   ]
  },
  {
   "cell_type": "markdown",
   "metadata": {},
   "source": [
    "### Comments"
   ]
  },
  {
   "cell_type": "code",
   "execution_count": 28,
   "metadata": {
    "ExecuteTime": {
     "end_time": "2021-07-07T12:00:27.285757Z",
     "start_time": "2021-07-07T12:00:27.270130Z"
    }
   },
   "outputs": [
    {
     "data": {
      "text/plain": [
       "(164408, 12)"
      ]
     },
     "execution_count": 28,
     "metadata": {},
     "output_type": "execute_result"
    }
   ],
   "source": [
    "comments_df.shape"
   ]
  },
  {
   "cell_type": "code",
   "execution_count": 29,
   "metadata": {
    "ExecuteTime": {
     "end_time": "2021-07-07T12:00:27.301382Z",
     "start_time": "2021-07-07T12:00:27.285757Z"
    },
    "scrolled": true
   },
   "outputs": [
    {
     "data": {
      "text/html": [
       "<div>\n",
       "<style scoped>\n",
       "    .dataframe tbody tr th:only-of-type {\n",
       "        vertical-align: middle;\n",
       "    }\n",
       "\n",
       "    .dataframe tbody tr th {\n",
       "        vertical-align: top;\n",
       "    }\n",
       "\n",
       "    .dataframe thead th {\n",
       "        text-align: right;\n",
       "    }\n",
       "</style>\n",
       "<table border=\"1\" class=\"dataframe\">\n",
       "  <thead>\n",
       "    <tr style=\"text-align: right;\">\n",
       "      <th></th>\n",
       "      <th>CommentID</th>\n",
       "      <th>AuthorID</th>\n",
       "      <th>Body</th>\n",
       "      <th>CreatedUTC</th>\n",
       "      <th>Distinguished</th>\n",
       "      <th>Edited</th>\n",
       "      <th>IsSubmitter</th>\n",
       "      <th>LinkID</th>\n",
       "      <th>ParentID</th>\n",
       "      <th>Score</th>\n",
       "      <th>Stickied</th>\n",
       "      <th>SubredditID</th>\n",
       "    </tr>\n",
       "  </thead>\n",
       "  <tbody>\n",
       "    <tr>\n",
       "      <th>0</th>\n",
       "      <td>cwnj5aq</td>\n",
       "      <td>5u01v</td>\n",
       "      <td>1. Yes you should be able to run at ultra.\\n2....</td>\n",
       "      <td>1446595365</td>\n",
       "      <td>0.0</td>\n",
       "      <td>0</td>\n",
       "      <td>0</td>\n",
       "      <td>t3_3rf9yg</td>\n",
       "      <td>t3_3rf9yg</td>\n",
       "      <td>2</td>\n",
       "      <td>0</td>\n",
       "      <td>t5_2sgp1</td>\n",
       "    </tr>\n",
       "    <tr>\n",
       "      <th>1</th>\n",
       "      <td>cwnj5cs</td>\n",
       "      <td>axyl0</td>\n",
       "      <td>Your gonna have to wait till the game comes ou...</td>\n",
       "      <td>1446595368</td>\n",
       "      <td>0.0</td>\n",
       "      <td>0</td>\n",
       "      <td>0</td>\n",
       "      <td>t3_3rf9yg</td>\n",
       "      <td>t3_3rf9yg</td>\n",
       "      <td>1</td>\n",
       "      <td>0</td>\n",
       "      <td>t5_2sgp1</td>\n",
       "    </tr>\n",
       "    <tr>\n",
       "      <th>2</th>\n",
       "      <td>cwnj5tv</td>\n",
       "      <td>lc8hr</td>\n",
       "      <td>1. Probably.\\n2. N/A\\n3. Wait for the sale.</td>\n",
       "      <td>1446595389</td>\n",
       "      <td>0.0</td>\n",
       "      <td>0</td>\n",
       "      <td>0</td>\n",
       "      <td>t3_3rf9yg</td>\n",
       "      <td>t3_3rf9yg</td>\n",
       "      <td>0</td>\n",
       "      <td>0</td>\n",
       "      <td>t5_2sgp1</td>\n",
       "    </tr>\n",
       "    <tr>\n",
       "      <th>3</th>\n",
       "      <td>cwnj8h9</td>\n",
       "      <td>db1a5</td>\n",
       "      <td>Alright, thank you!</td>\n",
       "      <td>1446595507</td>\n",
       "      <td>0.0</td>\n",
       "      <td>0</td>\n",
       "      <td>1</td>\n",
       "      <td>t3_3rf9yg</td>\n",
       "      <td>t1_cwnj5aq</td>\n",
       "      <td>1</td>\n",
       "      <td>0</td>\n",
       "      <td>t5_2sgp1</td>\n",
       "    </tr>\n",
       "    <tr>\n",
       "      <th>4</th>\n",
       "      <td>cwnj8jz</td>\n",
       "      <td>7tb54</td>\n",
       "      <td>https://www.youtube.com/watch?v=OyJbSxpjrf8\\n\\...</td>\n",
       "      <td>1446595510</td>\n",
       "      <td>0.0</td>\n",
       "      <td>0</td>\n",
       "      <td>0</td>\n",
       "      <td>t3_3rfaem</td>\n",
       "      <td>t3_3rfaem</td>\n",
       "      <td>1</td>\n",
       "      <td>0</td>\n",
       "      <td>t5_2qnzu</td>\n",
       "    </tr>\n",
       "  </tbody>\n",
       "</table>\n",
       "</div>"
      ],
      "text/plain": [
       "  CommentID AuthorID                                               Body  \\\n",
       "0   cwnj5aq    5u01v  1. Yes you should be able to run at ultra.\\n2....   \n",
       "1   cwnj5cs    axyl0  Your gonna have to wait till the game comes ou...   \n",
       "2   cwnj5tv    lc8hr        1. Probably.\\n2. N/A\\n3. Wait for the sale.   \n",
       "3   cwnj8h9    db1a5                                Alright, thank you!   \n",
       "4   cwnj8jz    7tb54  https://www.youtube.com/watch?v=OyJbSxpjrf8\\n\\...   \n",
       "\n",
       "   CreatedUTC  Distinguished  Edited  IsSubmitter     LinkID    ParentID  \\\n",
       "0  1446595365            0.0       0            0  t3_3rf9yg   t3_3rf9yg   \n",
       "1  1446595368            0.0       0            0  t3_3rf9yg   t3_3rf9yg   \n",
       "2  1446595389            0.0       0            0  t3_3rf9yg   t3_3rf9yg   \n",
       "3  1446595507            0.0       0            1  t3_3rf9yg  t1_cwnj5aq   \n",
       "4  1446595510            0.0       0            0  t3_3rfaem   t3_3rfaem   \n",
       "\n",
       "   Score  Stickied SubredditID  \n",
       "0      2         0    t5_2sgp1  \n",
       "1      1         0    t5_2sgp1  \n",
       "2      0         0    t5_2sgp1  \n",
       "3      1         0    t5_2sgp1  \n",
       "4      1         0    t5_2qnzu  "
      ]
     },
     "execution_count": 29,
     "metadata": {},
     "output_type": "execute_result"
    }
   ],
   "source": [
    "comments_df.head()"
   ]
  },
  {
   "cell_type": "code",
   "execution_count": 30,
   "metadata": {
    "ExecuteTime": {
     "end_time": "2021-07-07T12:00:27.401646Z",
     "start_time": "2021-07-07T12:00:27.301382Z"
    }
   },
   "outputs": [
    {
     "data": {
      "text/plain": [
       "CommentID        0.000000\n",
       "AuthorID         0.162997\n",
       "Body             0.000000\n",
       "CreatedUTC       0.000000\n",
       "Distinguished    0.763637\n",
       "Edited           0.000000\n",
       "IsSubmitter      0.000000\n",
       "LinkID           0.000000\n",
       "ParentID         0.000000\n",
       "Score            0.000000\n",
       "Stickied         0.000000\n",
       "SubredditID      0.000000\n",
       "dtype: float64"
      ]
     },
     "execution_count": 30,
     "metadata": {},
     "output_type": "execute_result"
    }
   ],
   "source": [
    "comments_df.isna().sum() / comments_df.shape[0]"
   ]
  },
  {
   "cell_type": "code",
   "execution_count": 31,
   "metadata": {
    "ExecuteTime": {
     "end_time": "2021-07-07T12:00:27.826124Z",
     "start_time": "2021-07-07T12:00:27.401646Z"
    }
   },
   "outputs": [
    {
     "data": {
      "text/plain": [
       "['Distinguished', 'Stickied']"
      ]
     },
     "execution_count": 31,
     "metadata": {},
     "output_type": "execute_result"
    }
   ],
   "source": [
    "useless_cols = []\n",
    "for col in comments_df.columns:\n",
    "    if len(comments_df[col].value_counts()) < 2:\n",
    "        useless_cols.append(col)\n",
    "useless_cols"
   ]
  },
  {
   "cell_type": "markdown",
   "metadata": {},
   "source": [
    "**AuthorID**\n",
    "\n",
    "If there is no author id the account was deleted.  \n",
    "Author id will be used to count number of comments per author.  "
   ]
  },
  {
   "cell_type": "code",
   "execution_count": 32,
   "metadata": {
    "ExecuteTime": {
     "end_time": "2021-07-07T12:00:27.913142Z",
     "start_time": "2021-07-07T12:00:27.826124Z"
    }
   },
   "outputs": [
    {
     "data": {
      "text/plain": [
       "6l4z3    290\n",
       "e4enr    240\n",
       "in4c5    240\n",
       "euyo5    165\n",
       "olhq8    162\n",
       "        ... \n",
       "5xeds      1\n",
       "hqyop      1\n",
       "hjguv      1\n",
       "fmanz      1\n",
       "giy64      1\n",
       "Name: AuthorID, Length: 58249, dtype: int64"
      ]
     },
     "execution_count": 32,
     "metadata": {},
     "output_type": "execute_result"
    }
   ],
   "source": [
    "comments_df['AuthorID'].value_counts()"
   ]
  },
  {
   "cell_type": "code",
   "execution_count": 33,
   "metadata": {
    "ExecuteTime": {
     "end_time": "2021-07-07T12:00:27.982152Z",
     "start_time": "2021-07-07T12:00:27.913142Z"
    }
   },
   "outputs": [
    {
     "data": {
      "text/plain": [
       "1    0.837003\n",
       "0    0.162997\n",
       "Name: has_author, dtype: float64"
      ]
     },
     "execution_count": 33,
     "metadata": {},
     "output_type": "execute_result"
    }
   ],
   "source": [
    "comments_df['has_author'] = comments_df['AuthorID'].map(lambda x: 1 \n",
    "                                                        if x else 0)\n",
    "comments_df['has_author'].value_counts(normalize=True)"
   ]
  },
  {
   "cell_type": "markdown",
   "metadata": {},
   "source": [
    "**Distinguished**"
   ]
  },
  {
   "cell_type": "code",
   "execution_count": 34,
   "metadata": {
    "ExecuteTime": {
     "end_time": "2021-07-07T12:00:27.997780Z",
     "start_time": "2021-07-07T12:00:27.982152Z"
    }
   },
   "outputs": [
    {
     "data": {
      "text/plain": [
       "0.0    38860\n",
       "Name: Distinguished, dtype: int64"
      ]
     },
     "execution_count": 34,
     "metadata": {},
     "output_type": "execute_result"
    }
   ],
   "source": [
    "comments_df['Distinguished'].value_counts()"
   ]
  },
  {
   "cell_type": "markdown",
   "metadata": {},
   "source": [
    "`Distinguished` feature is either False or null. Seems best to just drop the column."
   ]
  },
  {
   "cell_type": "code",
   "execution_count": 35,
   "metadata": {
    "ExecuteTime": {
     "end_time": "2021-07-07T12:00:28.044656Z",
     "start_time": "2021-07-07T12:00:27.997780Z"
    }
   },
   "outputs": [],
   "source": [
    "comments_df.drop(columns='Distinguished', inplace=True)"
   ]
  },
  {
   "cell_type": "markdown",
   "metadata": {},
   "source": [
    "**Stickied**"
   ]
  },
  {
   "cell_type": "code",
   "execution_count": 36,
   "metadata": {
    "ExecuteTime": {
     "end_time": "2021-07-07T12:00:28.060284Z",
     "start_time": "2021-07-07T12:00:28.044656Z"
    }
   },
   "outputs": [
    {
     "data": {
      "text/plain": [
       "0    164408\n",
       "Name: Stickied, dtype: int64"
      ]
     },
     "execution_count": 36,
     "metadata": {},
     "output_type": "execute_result"
    }
   ],
   "source": [
    "comments_df['Stickied'].value_counts()"
   ]
  },
  {
   "cell_type": "markdown",
   "metadata": {},
   "source": [
    "Seems wrong but no `Stickied` comments, drop `Stickied` column."
   ]
  },
  {
   "cell_type": "code",
   "execution_count": 37,
   "metadata": {
    "ExecuteTime": {
     "end_time": "2021-07-07T12:00:28.113680Z",
     "start_time": "2021-07-07T12:00:28.060284Z"
    }
   },
   "outputs": [],
   "source": [
    "comments_df.drop(columns='Stickied', inplace=True)"
   ]
  },
  {
   "cell_type": "markdown",
   "metadata": {},
   "source": [
    "### Users"
   ]
  },
  {
   "cell_type": "code",
   "execution_count": 38,
   "metadata": {
    "ExecuteTime": {
     "end_time": "2021-07-07T12:00:28.129307Z",
     "start_time": "2021-07-07T12:00:28.113680Z"
    }
   },
   "outputs": [
    {
     "data": {
      "text/plain": [
       "(58246, 9)"
      ]
     },
     "execution_count": 38,
     "metadata": {},
     "output_type": "execute_result"
    }
   ],
   "source": [
    "users_df.shape"
   ]
  },
  {
   "cell_type": "code",
   "execution_count": 39,
   "metadata": {
    "ExecuteTime": {
     "end_time": "2021-07-07T12:00:28.144930Z",
     "start_time": "2021-07-07T12:00:28.129307Z"
    }
   },
   "outputs": [
    {
     "data": {
      "text/html": [
       "<div>\n",
       "<style scoped>\n",
       "    .dataframe tbody tr th:only-of-type {\n",
       "        vertical-align: middle;\n",
       "    }\n",
       "\n",
       "    .dataframe tbody tr th {\n",
       "        vertical-align: top;\n",
       "    }\n",
       "\n",
       "    .dataframe thead th {\n",
       "        text-align: right;\n",
       "    }\n",
       "</style>\n",
       "<table border=\"1\" class=\"dataframe\">\n",
       "  <thead>\n",
       "    <tr style=\"text-align: right;\">\n",
       "      <th></th>\n",
       "      <th>UserID</th>\n",
       "      <th>CommentKarma</th>\n",
       "      <th>CreatedUTC</th>\n",
       "      <th>VerifiedEmail</th>\n",
       "      <th>IsEmployee</th>\n",
       "      <th>IsMod</th>\n",
       "      <th>IsGold</th>\n",
       "      <th>LinkKarma</th>\n",
       "      <th>Name</th>\n",
       "    </tr>\n",
       "  </thead>\n",
       "  <tbody>\n",
       "    <tr>\n",
       "      <th>0</th>\n",
       "      <td>11r6v</td>\n",
       "      <td>109958</td>\n",
       "      <td>1170109022</td>\n",
       "      <td>1.0</td>\n",
       "      <td>0</td>\n",
       "      <td>1</td>\n",
       "      <td>0</td>\n",
       "      <td>2608</td>\n",
       "      <td>apullin</td>\n",
       "    </tr>\n",
       "    <tr>\n",
       "      <th>1</th>\n",
       "      <td>12kj8</td>\n",
       "      <td>248529</td>\n",
       "      <td>1170444518</td>\n",
       "      <td>1.0</td>\n",
       "      <td>0</td>\n",
       "      <td>0</td>\n",
       "      <td>1</td>\n",
       "      <td>28625</td>\n",
       "      <td>antillus</td>\n",
       "    </tr>\n",
       "    <tr>\n",
       "      <th>2</th>\n",
       "      <td>12n8k</td>\n",
       "      <td>35612</td>\n",
       "      <td>1170485799</td>\n",
       "      <td>1.0</td>\n",
       "      <td>0</td>\n",
       "      <td>0</td>\n",
       "      <td>0</td>\n",
       "      <td>614</td>\n",
       "      <td>caster</td>\n",
       "    </tr>\n",
       "    <tr>\n",
       "      <th>3</th>\n",
       "      <td>12tkh</td>\n",
       "      <td>108198</td>\n",
       "      <td>1170611837</td>\n",
       "      <td>1.0</td>\n",
       "      <td>0</td>\n",
       "      <td>1</td>\n",
       "      <td>0</td>\n",
       "      <td>48457</td>\n",
       "      <td>THEMACGOD</td>\n",
       "    </tr>\n",
       "    <tr>\n",
       "      <th>4</th>\n",
       "      <td>139sx</td>\n",
       "      <td>81138</td>\n",
       "      <td>1170827928</td>\n",
       "      <td>1.0</td>\n",
       "      <td>0</td>\n",
       "      <td>0</td>\n",
       "      <td>0</td>\n",
       "      <td>5823</td>\n",
       "      <td>puttysan</td>\n",
       "    </tr>\n",
       "  </tbody>\n",
       "</table>\n",
       "</div>"
      ],
      "text/plain": [
       "  UserID  CommentKarma  CreatedUTC  VerifiedEmail  IsEmployee  IsMod  IsGold  \\\n",
       "0  11r6v        109958  1170109022            1.0           0      1       0   \n",
       "1  12kj8        248529  1170444518            1.0           0      0       1   \n",
       "2  12n8k         35612  1170485799            1.0           0      0       0   \n",
       "3  12tkh        108198  1170611837            1.0           0      1       0   \n",
       "4  139sx         81138  1170827928            1.0           0      0       0   \n",
       "\n",
       "   LinkKarma       Name  \n",
       "0       2608    apullin  \n",
       "1      28625   antillus  \n",
       "2        614     caster  \n",
       "3      48457  THEMACGOD  \n",
       "4       5823   puttysan  "
      ]
     },
     "execution_count": 39,
     "metadata": {},
     "output_type": "execute_result"
    }
   ],
   "source": [
    "users_df.head()"
   ]
  },
  {
   "cell_type": "code",
   "execution_count": 40,
   "metadata": {
    "ExecuteTime": {
     "end_time": "2021-07-07T12:00:28.160556Z",
     "start_time": "2021-07-07T12:00:28.144930Z"
    }
   },
   "outputs": [
    {
     "data": {
      "text/plain": [
       "UserID             0\n",
       "CommentKarma       0\n",
       "CreatedUTC         0\n",
       "VerifiedEmail    278\n",
       "IsEmployee         0\n",
       "IsMod              0\n",
       "IsGold             0\n",
       "LinkKarma          0\n",
       "Name               0\n",
       "dtype: int64"
      ]
     },
     "execution_count": 40,
     "metadata": {},
     "output_type": "execute_result"
    }
   ],
   "source": [
    "users_df.isna().sum()"
   ]
  },
  {
   "cell_type": "markdown",
   "metadata": {},
   "source": [
    "**VerifiedEmail**"
   ]
  },
  {
   "cell_type": "code",
   "execution_count": 41,
   "metadata": {
    "ExecuteTime": {
     "end_time": "2021-07-07T12:00:28.182695Z",
     "start_time": "2021-07-07T12:00:28.160556Z"
    }
   },
   "outputs": [
    {
     "data": {
      "text/plain": [
       "1.0    49079\n",
       "0.0     8889\n",
       "Name: VerifiedEmail, dtype: int64"
      ]
     },
     "execution_count": 41,
     "metadata": {},
     "output_type": "execute_result"
    }
   ],
   "source": [
    "users_df['VerifiedEmail'].value_counts()"
   ]
  },
  {
   "cell_type": "code",
   "execution_count": 42,
   "metadata": {
    "ExecuteTime": {
     "end_time": "2021-07-07T12:00:28.198321Z",
     "start_time": "2021-07-07T12:00:28.182695Z"
    }
   },
   "outputs": [],
   "source": [
    "users_df.dropna(inplace=True)"
   ]
  },
  {
   "cell_type": "markdown",
   "metadata": {},
   "source": [
    "## Exploratory Data Analysis"
   ]
  },
  {
   "cell_type": "markdown",
   "metadata": {},
   "source": [
    "### Dates  \n",
    "Convert epoch dates to datetime and pull out the Hour. Date spread is 5 days pre and post release date. So getting the month, year, or day of week does not make sense."
   ]
  },
  {
   "cell_type": "code",
   "execution_count": 43,
   "metadata": {
    "ExecuteTime": {
     "end_time": "2021-07-07T12:00:28.282958Z",
     "start_time": "2021-07-07T12:00:28.198321Z"
    }
   },
   "outputs": [],
   "source": [
    "submissions_df = convert_epoch(submissions_df, 'created_utc', hour=True)\n",
    "comments_df = convert_epoch(comments_df, 'CreatedUTC', hour=True)\n",
    "users_df = convert_epoch(users_df, 'CreatedUTC', hour=True)"
   ]
  },
  {
   "cell_type": "markdown",
   "metadata": {},
   "source": [
    "### Boolean Columns  \n",
    "Convert boolean columns to integers."
   ]
  },
  {
   "cell_type": "code",
   "execution_count": 44,
   "metadata": {
    "ExecuteTime": {
     "end_time": "2021-07-07T12:00:28.497951Z",
     "start_time": "2021-07-07T12:00:28.282958Z"
    },
    "scrolled": true
   },
   "outputs": [],
   "source": [
    "submissions_df = bool_to_int(submissions_df, ['is_self', \n",
    "                                              'over_18', \n",
    "                                              'promoted'])\n",
    "users_df = bool_to_int(users_df, ['VerifiedEmail'])"
   ]
  },
  {
   "cell_type": "markdown",
   "metadata": {},
   "source": [
    "### Submissions EDA  \n"
   ]
  },
  {
   "cell_type": "code",
   "execution_count": 45,
   "metadata": {
    "ExecuteTime": {
     "end_time": "2021-07-07T12:00:28.513581Z",
     "start_time": "2021-07-07T12:00:28.497951Z"
    }
   },
   "outputs": [
    {
     "data": {
      "text/html": [
       "<div>\n",
       "<style scoped>\n",
       "    .dataframe tbody tr th:only-of-type {\n",
       "        vertical-align: middle;\n",
       "    }\n",
       "\n",
       "    .dataframe tbody tr th {\n",
       "        vertical-align: top;\n",
       "    }\n",
       "\n",
       "    .dataframe thead th {\n",
       "        text-align: right;\n",
       "    }\n",
       "</style>\n",
       "<table border=\"1\" class=\"dataframe\">\n",
       "  <thead>\n",
       "    <tr style=\"text-align: right;\">\n",
       "      <th></th>\n",
       "      <th>author</th>\n",
       "      <th>created_utc</th>\n",
       "      <th>domain</th>\n",
       "      <th>id</th>\n",
       "      <th>is_self</th>\n",
       "      <th>num_comments</th>\n",
       "      <th>over_18</th>\n",
       "      <th>score</th>\n",
       "      <th>selftext</th>\n",
       "      <th>subreddit</th>\n",
       "      <th>thumbnail</th>\n",
       "      <th>title</th>\n",
       "      <th>promoted</th>\n",
       "      <th>search_term</th>\n",
       "      <th>period</th>\n",
       "      <th>full_link</th>\n",
       "      <th>author_deleted</th>\n",
       "      <th>created_date</th>\n",
       "      <th>created_hour</th>\n",
       "    </tr>\n",
       "  </thead>\n",
       "  <tbody>\n",
       "    <tr>\n",
       "      <th>0</th>\n",
       "      <td>watisdisanywais</td>\n",
       "      <td>1.446595e+09</td>\n",
       "      <td>self.Fallout</td>\n",
       "      <td>3rf9t3</td>\n",
       "      <td>1</td>\n",
       "      <td>13.0</td>\n",
       "      <td>0</td>\n",
       "      <td>0.0</td>\n",
       "      <td>Well guys, out of curiosity, I called my local...</td>\n",
       "      <td>Fallout</td>\n",
       "      <td>self</td>\n",
       "      <td>Picking up your copy early</td>\n",
       "      <td>0</td>\n",
       "      <td>Fallout 4</td>\n",
       "      <td>pre launch</td>\n",
       "      <td>https://www.reddit.com/r/Fallout/comments/3rf9...</td>\n",
       "      <td>0</td>\n",
       "      <td>2015-11-04 00:00:07</td>\n",
       "      <td>0</td>\n",
       "    </tr>\n",
       "    <tr>\n",
       "      <th>1</th>\n",
       "      <td>fatyg5</td>\n",
       "      <td>1.446595e+09</td>\n",
       "      <td>self.pcmasterrace</td>\n",
       "      <td>3rf9yg</td>\n",
       "      <td>1</td>\n",
       "      <td>13.0</td>\n",
       "      <td>0</td>\n",
       "      <td>0.0</td>\n",
       "      <td>1. Will my PC run it decently well? Important ...</td>\n",
       "      <td>pcmasterrace</td>\n",
       "      <td>self</td>\n",
       "      <td>Fallout 4 Questions</td>\n",
       "      <td>0</td>\n",
       "      <td>Fallout 4</td>\n",
       "      <td>pre launch</td>\n",
       "      <td>https://www.reddit.com/r/pcmasterrace/comments...</td>\n",
       "      <td>0</td>\n",
       "      <td>2015-11-04 00:01:01</td>\n",
       "      <td>0</td>\n",
       "    </tr>\n",
       "    <tr>\n",
       "      <th>2</th>\n",
       "      <td>Rodolfo619</td>\n",
       "      <td>1.446595e+09</td>\n",
       "      <td>self.Fallout</td>\n",
       "      <td>3rfaem</td>\n",
       "      <td>1</td>\n",
       "      <td>10.0</td>\n",
       "      <td>0</td>\n",
       "      <td>0.0</td>\n",
       "      <td>I'm planning on buying fallout 4 but I've neve...</td>\n",
       "      <td>Fallout</td>\n",
       "      <td>self</td>\n",
       "      <td>Noob question regarding the lore/story of the ...</td>\n",
       "      <td>0</td>\n",
       "      <td>Fallout 4</td>\n",
       "      <td>pre launch</td>\n",
       "      <td>https://www.reddit.com/r/Fallout/comments/3rfa...</td>\n",
       "      <td>0</td>\n",
       "      <td>2015-11-04 00:04:22</td>\n",
       "      <td>0</td>\n",
       "    </tr>\n",
       "    <tr>\n",
       "      <th>3</th>\n",
       "      <td>INBREEDCLOWN</td>\n",
       "      <td>1.446596e+09</td>\n",
       "      <td>self.fo4</td>\n",
       "      <td>3rfai7</td>\n",
       "      <td>1</td>\n",
       "      <td>0.0</td>\n",
       "      <td>0</td>\n",
       "      <td>1.0</td>\n",
       "      <td>[removed]</td>\n",
       "      <td>fo4</td>\n",
       "      <td>default</td>\n",
       "      <td>M1 Garand in fallout 4</td>\n",
       "      <td>0</td>\n",
       "      <td>Fallout 4</td>\n",
       "      <td>pre launch</td>\n",
       "      <td>https://www.reddit.com/r/fo4/comments/3rfai7/m...</td>\n",
       "      <td>0</td>\n",
       "      <td>2015-11-04 00:05:05</td>\n",
       "      <td>0</td>\n",
       "    </tr>\n",
       "    <tr>\n",
       "      <th>4</th>\n",
       "      <td>pyjamapants8</td>\n",
       "      <td>1.446596e+09</td>\n",
       "      <td>youtube.com</td>\n",
       "      <td>3rfame</td>\n",
       "      <td>0</td>\n",
       "      <td>2.0</td>\n",
       "      <td>0</td>\n",
       "      <td>4.0</td>\n",
       "      <td></td>\n",
       "      <td>VGCovers</td>\n",
       "      <td>http://b.thumbs.redditmedia.com/WZv98MQXwi13jP...</td>\n",
       "      <td>Fallout 4 - Main Theme [Cover] - 'War Never Ch...</td>\n",
       "      <td>0</td>\n",
       "      <td>Fallout 4</td>\n",
       "      <td>pre launch</td>\n",
       "      <td>https://www.reddit.com/r/VGCovers/comments/3rf...</td>\n",
       "      <td>0</td>\n",
       "      <td>2015-11-04 00:05:47</td>\n",
       "      <td>0</td>\n",
       "    </tr>\n",
       "  </tbody>\n",
       "</table>\n",
       "</div>"
      ],
      "text/plain": [
       "            author   created_utc             domain      id  is_self  \\\n",
       "0  watisdisanywais  1.446595e+09       self.Fallout  3rf9t3        1   \n",
       "1           fatyg5  1.446595e+09  self.pcmasterrace  3rf9yg        1   \n",
       "2       Rodolfo619  1.446595e+09       self.Fallout  3rfaem        1   \n",
       "3     INBREEDCLOWN  1.446596e+09           self.fo4  3rfai7        1   \n",
       "4     pyjamapants8  1.446596e+09        youtube.com  3rfame        0   \n",
       "\n",
       "   num_comments  over_18  score  \\\n",
       "0          13.0        0    0.0   \n",
       "1          13.0        0    0.0   \n",
       "2          10.0        0    0.0   \n",
       "3           0.0        0    1.0   \n",
       "4           2.0        0    4.0   \n",
       "\n",
       "                                            selftext     subreddit  \\\n",
       "0  Well guys, out of curiosity, I called my local...       Fallout   \n",
       "1  1. Will my PC run it decently well? Important ...  pcmasterrace   \n",
       "2  I'm planning on buying fallout 4 but I've neve...       Fallout   \n",
       "3                                          [removed]           fo4   \n",
       "4                                                         VGCovers   \n",
       "\n",
       "                                           thumbnail  \\\n",
       "0                                               self   \n",
       "1                                               self   \n",
       "2                                               self   \n",
       "3                                            default   \n",
       "4  http://b.thumbs.redditmedia.com/WZv98MQXwi13jP...   \n",
       "\n",
       "                                               title  promoted search_term  \\\n",
       "0                         Picking up your copy early         0   Fallout 4   \n",
       "1                                Fallout 4 Questions         0   Fallout 4   \n",
       "2  Noob question regarding the lore/story of the ...         0   Fallout 4   \n",
       "3                             M1 Garand in fallout 4         0   Fallout 4   \n",
       "4  Fallout 4 - Main Theme [Cover] - 'War Never Ch...         0   Fallout 4   \n",
       "\n",
       "       period                                          full_link  \\\n",
       "0  pre launch  https://www.reddit.com/r/Fallout/comments/3rf9...   \n",
       "1  pre launch  https://www.reddit.com/r/pcmasterrace/comments...   \n",
       "2  pre launch  https://www.reddit.com/r/Fallout/comments/3rfa...   \n",
       "3  pre launch  https://www.reddit.com/r/fo4/comments/3rfai7/m...   \n",
       "4  pre launch  https://www.reddit.com/r/VGCovers/comments/3rf...   \n",
       "\n",
       "   author_deleted        created_date  created_hour  \n",
       "0               0 2015-11-04 00:00:07             0  \n",
       "1               0 2015-11-04 00:01:01             0  \n",
       "2               0 2015-11-04 00:04:22             0  \n",
       "3               0 2015-11-04 00:05:05             0  \n",
       "4               0 2015-11-04 00:05:47             0  "
      ]
     },
     "execution_count": 45,
     "metadata": {},
     "output_type": "execute_result"
    }
   ],
   "source": [
    "submissions_df.head()"
   ]
  },
  {
   "cell_type": "code",
   "execution_count": 46,
   "metadata": {
    "ExecuteTime": {
     "end_time": "2021-07-07T12:00:28.544833Z",
     "start_time": "2021-07-07T12:00:28.513581Z"
    }
   },
   "outputs": [
    {
     "data": {
      "text/html": [
       "<div>\n",
       "<style scoped>\n",
       "    .dataframe tbody tr th:only-of-type {\n",
       "        vertical-align: middle;\n",
       "    }\n",
       "\n",
       "    .dataframe tbody tr th {\n",
       "        vertical-align: top;\n",
       "    }\n",
       "\n",
       "    .dataframe thead th {\n",
       "        text-align: right;\n",
       "    }\n",
       "</style>\n",
       "<table border=\"1\" class=\"dataframe\">\n",
       "  <thead>\n",
       "    <tr style=\"text-align: right;\">\n",
       "      <th></th>\n",
       "      <th>author</th>\n",
       "      <th>created_utc</th>\n",
       "      <th>domain</th>\n",
       "      <th>id</th>\n",
       "      <th>is_self</th>\n",
       "      <th>num_comments</th>\n",
       "      <th>over_18</th>\n",
       "      <th>score</th>\n",
       "      <th>selftext</th>\n",
       "      <th>subreddit</th>\n",
       "      <th>thumbnail</th>\n",
       "      <th>title</th>\n",
       "      <th>promoted</th>\n",
       "      <th>search_term</th>\n",
       "      <th>period</th>\n",
       "      <th>full_link</th>\n",
       "      <th>author_deleted</th>\n",
       "      <th>created_date</th>\n",
       "      <th>created_hour</th>\n",
       "    </tr>\n",
       "  </thead>\n",
       "  <tbody>\n",
       "    <tr>\n",
       "      <th>7666</th>\n",
       "      <td>RIPmod</td>\n",
       "      <td>1.447123e+09</td>\n",
       "      <td>self.RIPpcmasterrace</td>\n",
       "      <td>3s7yux</td>\n",
       "      <td>1</td>\n",
       "      <td>1.0</td>\n",
       "      <td>0</td>\n",
       "      <td>1.0</td>\n",
       "      <td>[deleted]</td>\n",
       "      <td>RIPpcmasterrace</td>\n",
       "      <td>self</td>\n",
       "      <td>Fallout 4 Giveaway for 2 Lucky Winners! Ends a...</td>\n",
       "      <td>0</td>\n",
       "      <td>Fallout 4</td>\n",
       "      <td>post launch</td>\n",
       "      <td>https://www.reddit.com/r/RIPpcmasterrace/comme...</td>\n",
       "      <td>0</td>\n",
       "      <td>2015-11-10 02:39:52</td>\n",
       "      <td>2</td>\n",
       "    </tr>\n",
       "  </tbody>\n",
       "</table>\n",
       "</div>"
      ],
      "text/plain": [
       "      author   created_utc                domain      id  is_self  \\\n",
       "7666  RIPmod  1.447123e+09  self.RIPpcmasterrace  3s7yux        1   \n",
       "\n",
       "      num_comments  over_18  score   selftext        subreddit thumbnail  \\\n",
       "7666           1.0        0    1.0  [deleted]  RIPpcmasterrace      self   \n",
       "\n",
       "                                                  title  promoted search_term  \\\n",
       "7666  Fallout 4 Giveaway for 2 Lucky Winners! Ends a...         0   Fallout 4   \n",
       "\n",
       "           period                                          full_link  \\\n",
       "7666  post launch  https://www.reddit.com/r/RIPpcmasterrace/comme...   \n",
       "\n",
       "      author_deleted        created_date  created_hour  \n",
       "7666               0 2015-11-10 02:39:52             2  "
      ]
     },
     "execution_count": 46,
     "metadata": {},
     "output_type": "execute_result"
    }
   ],
   "source": [
    "submissions_df[(submissions_df['selftext'] == '[deleted]') & (submissions_df['author'] != '[deleted]')]"
   ]
  },
  {
   "cell_type": "code",
   "execution_count": 47,
   "metadata": {
    "ExecuteTime": {
     "end_time": "2021-07-07T12:00:28.660724Z",
     "start_time": "2021-07-07T12:00:28.544833Z"
    }
   },
   "outputs": [],
   "source": [
    "submissions_df['text'] = submissions_df['title'] + submissions_df['selftext']\n",
    "submissions_df['text'] = submissions_df['text'].replace('[deleted]', '')\n",
    "submissions_df['text'] = submissions_df['text'].replace('[removed]', '')\n",
    "\n",
    "submissions_df['text_length'] = submissions_df['text'].map(lambda x: len(str(x)))"
   ]
  },
  {
   "cell_type": "code",
   "execution_count": 48,
   "metadata": {
    "ExecuteTime": {
     "end_time": "2021-07-07T12:00:28.729749Z",
     "start_time": "2021-07-07T12:00:28.660724Z"
    }
   },
   "outputs": [
    {
     "data": {
      "text/html": [
       "<div>\n",
       "<style scoped>\n",
       "    .dataframe tbody tr th:only-of-type {\n",
       "        vertical-align: middle;\n",
       "    }\n",
       "\n",
       "    .dataframe tbody tr th {\n",
       "        vertical-align: top;\n",
       "    }\n",
       "\n",
       "    .dataframe thead th {\n",
       "        text-align: right;\n",
       "    }\n",
       "</style>\n",
       "<table border=\"1\" class=\"dataframe\">\n",
       "  <thead>\n",
       "    <tr style=\"text-align: right;\">\n",
       "      <th></th>\n",
       "      <th>created_utc</th>\n",
       "      <th>is_self</th>\n",
       "      <th>num_comments</th>\n",
       "      <th>over_18</th>\n",
       "      <th>score</th>\n",
       "      <th>promoted</th>\n",
       "      <th>author_deleted</th>\n",
       "      <th>created_hour</th>\n",
       "      <th>text_length</th>\n",
       "    </tr>\n",
       "  </thead>\n",
       "  <tbody>\n",
       "    <tr>\n",
       "      <th>count</th>\n",
       "      <td>8.656700e+04</td>\n",
       "      <td>86567.000000</td>\n",
       "      <td>86567.000000</td>\n",
       "      <td>86567.000000</td>\n",
       "      <td>86567.000000</td>\n",
       "      <td>86567.000000</td>\n",
       "      <td>86567.000000</td>\n",
       "      <td>86567.000000</td>\n",
       "      <td>86567.000000</td>\n",
       "    </tr>\n",
       "    <tr>\n",
       "      <th>mean</th>\n",
       "      <td>1.507930e+09</td>\n",
       "      <td>0.583074</td>\n",
       "      <td>14.534846</td>\n",
       "      <td>0.021405</td>\n",
       "      <td>16.052884</td>\n",
       "      <td>0.004471</td>\n",
       "      <td>0.097855</td>\n",
       "      <td>12.492439</td>\n",
       "      <td>667.165155</td>\n",
       "    </tr>\n",
       "    <tr>\n",
       "      <th>std</th>\n",
       "      <td>9.262344e+07</td>\n",
       "      <td>0.493053</td>\n",
       "      <td>130.253318</td>\n",
       "      <td>0.144732</td>\n",
       "      <td>171.569382</td>\n",
       "      <td>0.066713</td>\n",
       "      <td>0.297120</td>\n",
       "      <td>7.232351</td>\n",
       "      <td>2517.506073</td>\n",
       "    </tr>\n",
       "    <tr>\n",
       "      <th>min</th>\n",
       "      <td>0.000000e+00</td>\n",
       "      <td>0.000000</td>\n",
       "      <td>0.000000</td>\n",
       "      <td>0.000000</td>\n",
       "      <td>0.000000</td>\n",
       "      <td>0.000000</td>\n",
       "      <td>0.000000</td>\n",
       "      <td>0.000000</td>\n",
       "      <td>1.000000</td>\n",
       "    </tr>\n",
       "    <tr>\n",
       "      <th>25%</th>\n",
       "      <td>1.447190e+09</td>\n",
       "      <td>0.000000</td>\n",
       "      <td>0.000000</td>\n",
       "      <td>0.000000</td>\n",
       "      <td>1.000000</td>\n",
       "      <td>0.000000</td>\n",
       "      <td>0.000000</td>\n",
       "      <td>6.000000</td>\n",
       "      <td>52.000000</td>\n",
       "    </tr>\n",
       "    <tr>\n",
       "      <th>50%</th>\n",
       "      <td>1.463430e+09</td>\n",
       "      <td>1.000000</td>\n",
       "      <td>2.000000</td>\n",
       "      <td>0.000000</td>\n",
       "      <td>1.000000</td>\n",
       "      <td>0.000000</td>\n",
       "      <td>0.000000</td>\n",
       "      <td>14.000000</td>\n",
       "      <td>99.000000</td>\n",
       "    </tr>\n",
       "    <tr>\n",
       "      <th>75%</th>\n",
       "      <td>1.607565e+09</td>\n",
       "      <td>1.000000</td>\n",
       "      <td>7.000000</td>\n",
       "      <td>0.000000</td>\n",
       "      <td>1.000000</td>\n",
       "      <td>0.000000</td>\n",
       "      <td>0.000000</td>\n",
       "      <td>19.000000</td>\n",
       "      <td>390.000000</td>\n",
       "    </tr>\n",
       "    <tr>\n",
       "      <th>max</th>\n",
       "      <td>1.612742e+09</td>\n",
       "      <td>1.000000</td>\n",
       "      <td>16057.000000</td>\n",
       "      <td>1.000000</td>\n",
       "      <td>9631.000000</td>\n",
       "      <td>1.000000</td>\n",
       "      <td>1.000000</td>\n",
       "      <td>23.000000</td>\n",
       "      <td>40107.000000</td>\n",
       "    </tr>\n",
       "  </tbody>\n",
       "</table>\n",
       "</div>"
      ],
      "text/plain": [
       "        created_utc       is_self  num_comments       over_18         score  \\\n",
       "count  8.656700e+04  86567.000000  86567.000000  86567.000000  86567.000000   \n",
       "mean   1.507930e+09      0.583074     14.534846      0.021405     16.052884   \n",
       "std    9.262344e+07      0.493053    130.253318      0.144732    171.569382   \n",
       "min    0.000000e+00      0.000000      0.000000      0.000000      0.000000   \n",
       "25%    1.447190e+09      0.000000      0.000000      0.000000      1.000000   \n",
       "50%    1.463430e+09      1.000000      2.000000      0.000000      1.000000   \n",
       "75%    1.607565e+09      1.000000      7.000000      0.000000      1.000000   \n",
       "max    1.612742e+09      1.000000  16057.000000      1.000000   9631.000000   \n",
       "\n",
       "           promoted  author_deleted  created_hour   text_length  \n",
       "count  86567.000000    86567.000000  86567.000000  86567.000000  \n",
       "mean       0.004471        0.097855     12.492439    667.165155  \n",
       "std        0.066713        0.297120      7.232351   2517.506073  \n",
       "min        0.000000        0.000000      0.000000      1.000000  \n",
       "25%        0.000000        0.000000      6.000000     52.000000  \n",
       "50%        0.000000        0.000000     14.000000     99.000000  \n",
       "75%        0.000000        0.000000     19.000000    390.000000  \n",
       "max        1.000000        1.000000     23.000000  40107.000000  "
      ]
     },
     "execution_count": 48,
     "metadata": {},
     "output_type": "execute_result"
    }
   ],
   "source": [
    "submissions_df.describe()"
   ]
  },
  {
   "cell_type": "code",
   "execution_count": 49,
   "metadata": {
    "ExecuteTime": {
     "end_time": "2021-07-07T12:00:29.430364Z",
     "start_time": "2021-07-07T12:00:28.729749Z"
    }
   },
   "outputs": [
    {
     "data": {
      "image/png": "[encoded data removed]",
      "text/plain": [
       "<Figure size 720x720 with 12 Axes>"
      ]
     },
     "metadata": {
      "needs_background": "light"
     },
     "output_type": "display_data"
    }
   ],
   "source": [
    "submissions_df.hist(figsize=(10, 10))\n",
    "plt.tight_layout;"
   ]
  },
  {
   "cell_type": "markdown",
   "metadata": {},
   "source": [
    "For features that are not booleans or in relation to date the distributions are very heavily positively skewed. These distributions also show that there are some very large outliers, however, these outliers may provide important information later on and a model that can handle outliers should be used."
   ]
  },
  {
   "cell_type": "code",
   "execution_count": 50,
   "metadata": {
    "ExecuteTime": {
     "end_time": "2021-07-07T12:00:29.471627Z",
     "start_time": "2021-07-07T12:00:29.430364Z"
    }
   },
   "outputs": [
    {
     "data": {
      "text/html": [
       "<div>\n",
       "<style scoped>\n",
       "    .dataframe tbody tr th:only-of-type {\n",
       "        vertical-align: middle;\n",
       "    }\n",
       "\n",
       "    .dataframe tbody tr th {\n",
       "        vertical-align: top;\n",
       "    }\n",
       "\n",
       "    .dataframe thead th {\n",
       "        text-align: right;\n",
       "    }\n",
       "</style>\n",
       "<table border=\"1\" class=\"dataframe\">\n",
       "  <thead>\n",
       "    <tr style=\"text-align: right;\">\n",
       "      <th></th>\n",
       "      <th>created_utc</th>\n",
       "      <th>num_comments</th>\n",
       "      <th>over_18</th>\n",
       "      <th>score</th>\n",
       "      <th>promoted</th>\n",
       "      <th>author_deleted</th>\n",
       "      <th>created_hour</th>\n",
       "      <th>text_length</th>\n",
       "    </tr>\n",
       "    <tr>\n",
       "      <th>is_self</th>\n",
       "      <th></th>\n",
       "      <th></th>\n",
       "      <th></th>\n",
       "      <th></th>\n",
       "      <th></th>\n",
       "      <th></th>\n",
       "      <th></th>\n",
       "      <th></th>\n",
       "    </tr>\n",
       "  </thead>\n",
       "  <tbody>\n",
       "    <tr>\n",
       "      <th>0</th>\n",
       "      <td>1.520582e+09</td>\n",
       "      <td>12.080738</td>\n",
       "      <td>0.021473</td>\n",
       "      <td>23.630167</td>\n",
       "      <td>0.010723</td>\n",
       "      <td>0.104344</td>\n",
       "      <td>12.717777</td>\n",
       "      <td>62.065638</td>\n",
       "    </tr>\n",
       "    <tr>\n",
       "      <th>1</th>\n",
       "      <td>1.498883e+09</td>\n",
       "      <td>16.289648</td>\n",
       "      <td>0.021357</td>\n",
       "      <td>10.634770</td>\n",
       "      <td>0.000000</td>\n",
       "      <td>0.093214</td>\n",
       "      <td>12.331313</td>\n",
       "      <td>1099.839782</td>\n",
       "    </tr>\n",
       "  </tbody>\n",
       "</table>\n",
       "</div>"
      ],
      "text/plain": [
       "          created_utc  num_comments   over_18      score  promoted  \\\n",
       "is_self                                                              \n",
       "0        1.520582e+09     12.080738  0.021473  23.630167  0.010723   \n",
       "1        1.498883e+09     16.289648  0.021357  10.634770  0.000000   \n",
       "\n",
       "         author_deleted  created_hour  text_length  \n",
       "is_self                                             \n",
       "0              0.104344     12.717777    62.065638  \n",
       "1              0.093214     12.331313  1099.839782  "
      ]
     },
     "execution_count": 50,
     "metadata": {},
     "output_type": "execute_result"
    }
   ],
   "source": [
    "submissions_df.groupby(by='is_self').mean()"
   ]
  },
  {
   "cell_type": "code",
   "execution_count": 51,
   "metadata": {
    "ExecuteTime": {
     "end_time": "2021-07-07T12:00:29.556264Z",
     "start_time": "2021-07-07T12:00:29.471627Z"
    }
   },
   "outputs": [],
   "source": [
    "submission_authors = submissions_df.groupby(by='author').agg({\n",
    "    'id': 'count',\n",
    "    'is_self': 'mean',\n",
    "    'num_comments': 'mean',\n",
    "    'score': 'mean',\n",
    "    'text_length': 'mean'\n",
    "#     'subreddit': join_text,\n",
    "})"
   ]
  },
  {
   "cell_type": "code",
   "execution_count": 52,
   "metadata": {
    "ExecuteTime": {
     "end_time": "2021-07-07T12:00:29.571892Z",
     "start_time": "2021-07-07T12:00:29.556264Z"
    }
   },
   "outputs": [],
   "source": [
    "submission_authors.reset_index(inplace=True)"
   ]
  },
  {
   "cell_type": "markdown",
   "metadata": {},
   "source": [
    "### Comments EDA"
   ]
  },
  {
   "cell_type": "code",
   "execution_count": 53,
   "metadata": {
    "ExecuteTime": {
     "end_time": "2021-07-07T12:00:29.587519Z",
     "start_time": "2021-07-07T12:00:29.571892Z"
    }
   },
   "outputs": [
    {
     "data": {
      "text/html": [
       "<div>\n",
       "<style scoped>\n",
       "    .dataframe tbody tr th:only-of-type {\n",
       "        vertical-align: middle;\n",
       "    }\n",
       "\n",
       "    .dataframe tbody tr th {\n",
       "        vertical-align: top;\n",
       "    }\n",
       "\n",
       "    .dataframe thead th {\n",
       "        text-align: right;\n",
       "    }\n",
       "</style>\n",
       "<table border=\"1\" class=\"dataframe\">\n",
       "  <thead>\n",
       "    <tr style=\"text-align: right;\">\n",
       "      <th></th>\n",
       "      <th>CommentID</th>\n",
       "      <th>AuthorID</th>\n",
       "      <th>Body</th>\n",
       "      <th>CreatedUTC</th>\n",
       "      <th>Edited</th>\n",
       "      <th>IsSubmitter</th>\n",
       "      <th>LinkID</th>\n",
       "      <th>ParentID</th>\n",
       "      <th>Score</th>\n",
       "      <th>SubredditID</th>\n",
       "      <th>has_author</th>\n",
       "      <th>created_date</th>\n",
       "      <th>created_hour</th>\n",
       "    </tr>\n",
       "  </thead>\n",
       "  <tbody>\n",
       "    <tr>\n",
       "      <th>0</th>\n",
       "      <td>cwnj5aq</td>\n",
       "      <td>5u01v</td>\n",
       "      <td>1. Yes you should be able to run at ultra.\\n2....</td>\n",
       "      <td>1446595365</td>\n",
       "      <td>0</td>\n",
       "      <td>0</td>\n",
       "      <td>t3_3rf9yg</td>\n",
       "      <td>t3_3rf9yg</td>\n",
       "      <td>2</td>\n",
       "      <td>t5_2sgp1</td>\n",
       "      <td>1</td>\n",
       "      <td>2015-11-04 00:02:45</td>\n",
       "      <td>0</td>\n",
       "    </tr>\n",
       "    <tr>\n",
       "      <th>1</th>\n",
       "      <td>cwnj5cs</td>\n",
       "      <td>axyl0</td>\n",
       "      <td>Your gonna have to wait till the game comes ou...</td>\n",
       "      <td>1446595368</td>\n",
       "      <td>0</td>\n",
       "      <td>0</td>\n",
       "      <td>t3_3rf9yg</td>\n",
       "      <td>t3_3rf9yg</td>\n",
       "      <td>1</td>\n",
       "      <td>t5_2sgp1</td>\n",
       "      <td>1</td>\n",
       "      <td>2015-11-04 00:02:48</td>\n",
       "      <td>0</td>\n",
       "    </tr>\n",
       "    <tr>\n",
       "      <th>2</th>\n",
       "      <td>cwnj5tv</td>\n",
       "      <td>lc8hr</td>\n",
       "      <td>1. Probably.\\n2. N/A\\n3. Wait for the sale.</td>\n",
       "      <td>1446595389</td>\n",
       "      <td>0</td>\n",
       "      <td>0</td>\n",
       "      <td>t3_3rf9yg</td>\n",
       "      <td>t3_3rf9yg</td>\n",
       "      <td>0</td>\n",
       "      <td>t5_2sgp1</td>\n",
       "      <td>1</td>\n",
       "      <td>2015-11-04 00:03:09</td>\n",
       "      <td>0</td>\n",
       "    </tr>\n",
       "    <tr>\n",
       "      <th>3</th>\n",
       "      <td>cwnj8h9</td>\n",
       "      <td>db1a5</td>\n",
       "      <td>Alright, thank you!</td>\n",
       "      <td>1446595507</td>\n",
       "      <td>0</td>\n",
       "      <td>1</td>\n",
       "      <td>t3_3rf9yg</td>\n",
       "      <td>t1_cwnj5aq</td>\n",
       "      <td>1</td>\n",
       "      <td>t5_2sgp1</td>\n",
       "      <td>1</td>\n",
       "      <td>2015-11-04 00:05:07</td>\n",
       "      <td>0</td>\n",
       "    </tr>\n",
       "    <tr>\n",
       "      <th>4</th>\n",
       "      <td>cwnj8jz</td>\n",
       "      <td>7tb54</td>\n",
       "      <td>https://www.youtube.com/watch?v=OyJbSxpjrf8\\n\\...</td>\n",
       "      <td>1446595510</td>\n",
       "      <td>0</td>\n",
       "      <td>0</td>\n",
       "      <td>t3_3rfaem</td>\n",
       "      <td>t3_3rfaem</td>\n",
       "      <td>1</td>\n",
       "      <td>t5_2qnzu</td>\n",
       "      <td>1</td>\n",
       "      <td>2015-11-04 00:05:10</td>\n",
       "      <td>0</td>\n",
       "    </tr>\n",
       "  </tbody>\n",
       "</table>\n",
       "</div>"
      ],
      "text/plain": [
       "  CommentID AuthorID                                               Body  \\\n",
       "0   cwnj5aq    5u01v  1. Yes you should be able to run at ultra.\\n2....   \n",
       "1   cwnj5cs    axyl0  Your gonna have to wait till the game comes ou...   \n",
       "2   cwnj5tv    lc8hr        1. Probably.\\n2. N/A\\n3. Wait for the sale.   \n",
       "3   cwnj8h9    db1a5                                Alright, thank you!   \n",
       "4   cwnj8jz    7tb54  https://www.youtube.com/watch?v=OyJbSxpjrf8\\n\\...   \n",
       "\n",
       "   CreatedUTC  Edited  IsSubmitter     LinkID    ParentID  Score SubredditID  \\\n",
       "0  1446595365       0            0  t3_3rf9yg   t3_3rf9yg      2    t5_2sgp1   \n",
       "1  1446595368       0            0  t3_3rf9yg   t3_3rf9yg      1    t5_2sgp1   \n",
       "2  1446595389       0            0  t3_3rf9yg   t3_3rf9yg      0    t5_2sgp1   \n",
       "3  1446595507       0            1  t3_3rf9yg  t1_cwnj5aq      1    t5_2sgp1   \n",
       "4  1446595510       0            0  t3_3rfaem   t3_3rfaem      1    t5_2qnzu   \n",
       "\n",
       "   has_author        created_date  created_hour  \n",
       "0           1 2015-11-04 00:02:45             0  \n",
       "1           1 2015-11-04 00:02:48             0  \n",
       "2           1 2015-11-04 00:03:09             0  \n",
       "3           1 2015-11-04 00:05:07             0  \n",
       "4           1 2015-11-04 00:05:10             0  "
      ]
     },
     "execution_count": 53,
     "metadata": {},
     "output_type": "execute_result"
    }
   ],
   "source": [
    "comments_df.head()"
   ]
  },
  {
   "cell_type": "code",
   "execution_count": 54,
   "metadata": {
    "ExecuteTime": {
     "end_time": "2021-07-07T12:00:29.656530Z",
     "start_time": "2021-07-07T12:00:29.587519Z"
    }
   },
   "outputs": [],
   "source": [
    "comments_df['body_length'] = comments_df['Body'].apply(lambda x: len(x))"
   ]
  },
  {
   "cell_type": "code",
   "execution_count": 55,
   "metadata": {
    "ExecuteTime": {
     "end_time": "2021-07-07T12:00:29.703408Z",
     "start_time": "2021-07-07T12:00:29.656530Z"
    }
   },
   "outputs": [
    {
     "data": {
      "text/html": [
       "<div>\n",
       "<style scoped>\n",
       "    .dataframe tbody tr th:only-of-type {\n",
       "        vertical-align: middle;\n",
       "    }\n",
       "\n",
       "    .dataframe tbody tr th {\n",
       "        vertical-align: top;\n",
       "    }\n",
       "\n",
       "    .dataframe thead th {\n",
       "        text-align: right;\n",
       "    }\n",
       "</style>\n",
       "<table border=\"1\" class=\"dataframe\">\n",
       "  <thead>\n",
       "    <tr style=\"text-align: right;\">\n",
       "      <th></th>\n",
       "      <th>CreatedUTC</th>\n",
       "      <th>Edited</th>\n",
       "      <th>IsSubmitter</th>\n",
       "      <th>Score</th>\n",
       "      <th>has_author</th>\n",
       "      <th>created_hour</th>\n",
       "      <th>body_length</th>\n",
       "    </tr>\n",
       "  </thead>\n",
       "  <tbody>\n",
       "    <tr>\n",
       "      <th>count</th>\n",
       "      <td>1.644080e+05</td>\n",
       "      <td>164408.000000</td>\n",
       "      <td>164408.000000</td>\n",
       "      <td>164408.000000</td>\n",
       "      <td>164408.000000</td>\n",
       "      <td>164408.000000</td>\n",
       "      <td>164408.000000</td>\n",
       "    </tr>\n",
       "    <tr>\n",
       "      <th>mean</th>\n",
       "      <td>1.446879e+09</td>\n",
       "      <td>4.365992</td>\n",
       "      <td>0.051834</td>\n",
       "      <td>5.316396</td>\n",
       "      <td>0.837003</td>\n",
       "      <td>12.355992</td>\n",
       "      <td>131.067497</td>\n",
       "    </tr>\n",
       "    <tr>\n",
       "      <th>std</th>\n",
       "      <td>4.450950e+05</td>\n",
       "      <td>23.139195</td>\n",
       "      <td>0.221693</td>\n",
       "      <td>45.151458</td>\n",
       "      <td>0.369364</td>\n",
       "      <td>7.484467</td>\n",
       "      <td>246.184441</td>\n",
       "    </tr>\n",
       "    <tr>\n",
       "      <th>min</th>\n",
       "      <td>1.446595e+09</td>\n",
       "      <td>0.000000</td>\n",
       "      <td>0.000000</td>\n",
       "      <td>-214.000000</td>\n",
       "      <td>0.000000</td>\n",
       "      <td>0.000000</td>\n",
       "      <td>0.000000</td>\n",
       "    </tr>\n",
       "    <tr>\n",
       "      <th>25%</th>\n",
       "      <td>1.446739e+09</td>\n",
       "      <td>0.000000</td>\n",
       "      <td>0.000000</td>\n",
       "      <td>1.000000</td>\n",
       "      <td>1.000000</td>\n",
       "      <td>5.000000</td>\n",
       "      <td>21.000000</td>\n",
       "    </tr>\n",
       "    <tr>\n",
       "      <th>50%</th>\n",
       "      <td>1.446850e+09</td>\n",
       "      <td>0.000000</td>\n",
       "      <td>0.000000</td>\n",
       "      <td>1.000000</td>\n",
       "      <td>1.000000</td>\n",
       "      <td>14.000000</td>\n",
       "      <td>65.000000</td>\n",
       "    </tr>\n",
       "    <tr>\n",
       "      <th>75%</th>\n",
       "      <td>1.446993e+09</td>\n",
       "      <td>0.000000</td>\n",
       "      <td>0.000000</td>\n",
       "      <td>2.000000</td>\n",
       "      <td>1.000000</td>\n",
       "      <td>19.000000</td>\n",
       "      <td>149.000000</td>\n",
       "    </tr>\n",
       "    <tr>\n",
       "      <th>max</th>\n",
       "      <td>1.557539e+09</td>\n",
       "      <td>127.000000</td>\n",
       "      <td>1.000000</td>\n",
       "      <td>5792.000000</td>\n",
       "      <td>1.000000</td>\n",
       "      <td>23.000000</td>\n",
       "      <td>9997.000000</td>\n",
       "    </tr>\n",
       "  </tbody>\n",
       "</table>\n",
       "</div>"
      ],
      "text/plain": [
       "         CreatedUTC         Edited    IsSubmitter          Score  \\\n",
       "count  1.644080e+05  164408.000000  164408.000000  164408.000000   \n",
       "mean   1.446879e+09       4.365992       0.051834       5.316396   \n",
       "std    4.450950e+05      23.139195       0.221693      45.151458   \n",
       "min    1.446595e+09       0.000000       0.000000    -214.000000   \n",
       "25%    1.446739e+09       0.000000       0.000000       1.000000   \n",
       "50%    1.446850e+09       0.000000       0.000000       1.000000   \n",
       "75%    1.446993e+09       0.000000       0.000000       2.000000   \n",
       "max    1.557539e+09     127.000000       1.000000    5792.000000   \n",
       "\n",
       "          has_author   created_hour    body_length  \n",
       "count  164408.000000  164408.000000  164408.000000  \n",
       "mean        0.837003      12.355992     131.067497  \n",
       "std         0.369364       7.484467     246.184441  \n",
       "min         0.000000       0.000000       0.000000  \n",
       "25%         1.000000       5.000000      21.000000  \n",
       "50%         1.000000      14.000000      65.000000  \n",
       "75%         1.000000      19.000000     149.000000  \n",
       "max         1.000000      23.000000    9997.000000  "
      ]
     },
     "execution_count": 55,
     "metadata": {},
     "output_type": "execute_result"
    }
   ],
   "source": [
    "comments_df.describe()"
   ]
  },
  {
   "cell_type": "code",
   "execution_count": 56,
   "metadata": {
    "ExecuteTime": {
     "end_time": "2021-07-07T12:00:29.719037Z",
     "start_time": "2021-07-07T12:00:29.703408Z"
    }
   },
   "outputs": [
    {
     "data": {
      "text/plain": [
       "0      0.965622\n",
       "127    0.034378\n",
       "Name: Edited, dtype: float64"
      ]
     },
     "execution_count": 56,
     "metadata": {},
     "output_type": "execute_result"
    }
   ],
   "source": [
    "comments_df['Edited'].value_counts(normalize=True)"
   ]
  },
  {
   "cell_type": "code",
   "execution_count": 57,
   "metadata": {
    "ExecuteTime": {
     "end_time": "2021-07-07T12:00:29.734661Z",
     "start_time": "2021-07-07T12:00:29.719037Z"
    }
   },
   "outputs": [
    {
     "data": {
      "text/plain": [
       "0    0.948166\n",
       "1    0.051834\n",
       "Name: IsSubmitter, dtype: float64"
      ]
     },
     "execution_count": 57,
     "metadata": {},
     "output_type": "execute_result"
    }
   ],
   "source": [
    "comments_df['IsSubmitter'].value_counts(normalize=True)"
   ]
  },
  {
   "cell_type": "code",
   "execution_count": 58,
   "metadata": {
    "ExecuteTime": {
     "end_time": "2021-07-07T12:00:29.872687Z",
     "start_time": "2021-07-07T12:00:29.734661Z"
    }
   },
   "outputs": [],
   "source": [
    "comment_authors = comments_df.groupby(by='AuthorID').agg({\n",
    "    'CommentID': 'count',\n",
    "    'body_length': 'mean',\n",
    "    'Edited': 'mean',\n",
    "    'IsSubmitter': 'mean',\n",
    "    'Score': 'mean'\n",
    "})\n",
    "comment_authors.rename(columns={'CommentID': 'comment_count',\n",
    "                                'body_length': 'avg_comment_length',\n",
    "                                'Edited': 'avg_edited_comments',\n",
    "                                'IsSubmitter': 'avg_is_submitter',\n",
    "                                'Score': 'avg_comment_score'}, inplace=True)"
   ]
  },
  {
   "cell_type": "code",
   "execution_count": 59,
   "metadata": {
    "ExecuteTime": {
     "end_time": "2021-07-07T12:00:29.888313Z",
     "start_time": "2021-07-07T12:00:29.872687Z"
    }
   },
   "outputs": [],
   "source": [
    "comment_authors.reset_index(inplace=True)"
   ]
  },
  {
   "cell_type": "markdown",
   "metadata": {},
   "source": [
    "### Users EDA"
   ]
  },
  {
   "cell_type": "code",
   "execution_count": 60,
   "metadata": {
    "ExecuteTime": {
     "end_time": "2021-07-07T12:00:29.903941Z",
     "start_time": "2021-07-07T12:00:29.888313Z"
    }
   },
   "outputs": [
    {
     "data": {
      "text/html": [
       "<div>\n",
       "<style scoped>\n",
       "    .dataframe tbody tr th:only-of-type {\n",
       "        vertical-align: middle;\n",
       "    }\n",
       "\n",
       "    .dataframe tbody tr th {\n",
       "        vertical-align: top;\n",
       "    }\n",
       "\n",
       "    .dataframe thead th {\n",
       "        text-align: right;\n",
       "    }\n",
       "</style>\n",
       "<table border=\"1\" class=\"dataframe\">\n",
       "  <thead>\n",
       "    <tr style=\"text-align: right;\">\n",
       "      <th></th>\n",
       "      <th>UserID</th>\n",
       "      <th>CommentKarma</th>\n",
       "      <th>CreatedUTC</th>\n",
       "      <th>VerifiedEmail</th>\n",
       "      <th>IsEmployee</th>\n",
       "      <th>IsMod</th>\n",
       "      <th>IsGold</th>\n",
       "      <th>LinkKarma</th>\n",
       "      <th>Name</th>\n",
       "      <th>created_date</th>\n",
       "      <th>created_hour</th>\n",
       "    </tr>\n",
       "  </thead>\n",
       "  <tbody>\n",
       "    <tr>\n",
       "      <th>0</th>\n",
       "      <td>11r6v</td>\n",
       "      <td>109958</td>\n",
       "      <td>1170109022</td>\n",
       "      <td>1</td>\n",
       "      <td>0</td>\n",
       "      <td>1</td>\n",
       "      <td>0</td>\n",
       "      <td>2608</td>\n",
       "      <td>apullin</td>\n",
       "      <td>2007-01-29 22:17:02</td>\n",
       "      <td>22</td>\n",
       "    </tr>\n",
       "    <tr>\n",
       "      <th>1</th>\n",
       "      <td>12kj8</td>\n",
       "      <td>248529</td>\n",
       "      <td>1170444518</td>\n",
       "      <td>1</td>\n",
       "      <td>0</td>\n",
       "      <td>0</td>\n",
       "      <td>1</td>\n",
       "      <td>28625</td>\n",
       "      <td>antillus</td>\n",
       "      <td>2007-02-02 19:28:38</td>\n",
       "      <td>19</td>\n",
       "    </tr>\n",
       "    <tr>\n",
       "      <th>2</th>\n",
       "      <td>12n8k</td>\n",
       "      <td>35612</td>\n",
       "      <td>1170485799</td>\n",
       "      <td>1</td>\n",
       "      <td>0</td>\n",
       "      <td>0</td>\n",
       "      <td>0</td>\n",
       "      <td>614</td>\n",
       "      <td>caster</td>\n",
       "      <td>2007-02-03 06:56:39</td>\n",
       "      <td>6</td>\n",
       "    </tr>\n",
       "    <tr>\n",
       "      <th>3</th>\n",
       "      <td>12tkh</td>\n",
       "      <td>108198</td>\n",
       "      <td>1170611837</td>\n",
       "      <td>1</td>\n",
       "      <td>0</td>\n",
       "      <td>1</td>\n",
       "      <td>0</td>\n",
       "      <td>48457</td>\n",
       "      <td>THEMACGOD</td>\n",
       "      <td>2007-02-04 17:57:17</td>\n",
       "      <td>17</td>\n",
       "    </tr>\n",
       "    <tr>\n",
       "      <th>4</th>\n",
       "      <td>139sx</td>\n",
       "      <td>81138</td>\n",
       "      <td>1170827928</td>\n",
       "      <td>1</td>\n",
       "      <td>0</td>\n",
       "      <td>0</td>\n",
       "      <td>0</td>\n",
       "      <td>5823</td>\n",
       "      <td>puttysan</td>\n",
       "      <td>2007-02-07 05:58:48</td>\n",
       "      <td>5</td>\n",
       "    </tr>\n",
       "  </tbody>\n",
       "</table>\n",
       "</div>"
      ],
      "text/plain": [
       "  UserID  CommentKarma  CreatedUTC  VerifiedEmail  IsEmployee  IsMod  IsGold  \\\n",
       "0  11r6v        109958  1170109022              1           0      1       0   \n",
       "1  12kj8        248529  1170444518              1           0      0       1   \n",
       "2  12n8k         35612  1170485799              1           0      0       0   \n",
       "3  12tkh        108198  1170611837              1           0      1       0   \n",
       "4  139sx         81138  1170827928              1           0      0       0   \n",
       "\n",
       "   LinkKarma       Name        created_date  created_hour  \n",
       "0       2608    apullin 2007-01-29 22:17:02            22  \n",
       "1      28625   antillus 2007-02-02 19:28:38            19  \n",
       "2        614     caster 2007-02-03 06:56:39             6  \n",
       "3      48457  THEMACGOD 2007-02-04 17:57:17            17  \n",
       "4       5823   puttysan 2007-02-07 05:58:48             5  "
      ]
     },
     "execution_count": 60,
     "metadata": {},
     "output_type": "execute_result"
    }
   ],
   "source": [
    "users_df.head()"
   ]
  },
  {
   "cell_type": "code",
   "execution_count": 61,
   "metadata": {
    "ExecuteTime": {
     "end_time": "2021-07-07T12:00:29.957325Z",
     "start_time": "2021-07-07T12:00:29.903941Z"
    }
   },
   "outputs": [
    {
     "data": {
      "text/html": [
       "<div>\n",
       "<style scoped>\n",
       "    .dataframe tbody tr th:only-of-type {\n",
       "        vertical-align: middle;\n",
       "    }\n",
       "\n",
       "    .dataframe tbody tr th {\n",
       "        vertical-align: top;\n",
       "    }\n",
       "\n",
       "    .dataframe thead th {\n",
       "        text-align: right;\n",
       "    }\n",
       "</style>\n",
       "<table border=\"1\" class=\"dataframe\">\n",
       "  <thead>\n",
       "    <tr style=\"text-align: right;\">\n",
       "      <th></th>\n",
       "      <th>CommentKarma</th>\n",
       "      <th>CreatedUTC</th>\n",
       "      <th>VerifiedEmail</th>\n",
       "      <th>IsEmployee</th>\n",
       "      <th>IsMod</th>\n",
       "      <th>IsGold</th>\n",
       "      <th>LinkKarma</th>\n",
       "      <th>created_hour</th>\n",
       "    </tr>\n",
       "  </thead>\n",
       "  <tbody>\n",
       "    <tr>\n",
       "      <th>count</th>\n",
       "      <td>57968.00000</td>\n",
       "      <td>57968.00000</td>\n",
       "      <td>57968.00000</td>\n",
       "      <td>57968.00000</td>\n",
       "      <td>57968.00000</td>\n",
       "      <td>57968.00000</td>\n",
       "      <td>57968.00000</td>\n",
       "      <td>57968.00000</td>\n",
       "    </tr>\n",
       "    <tr>\n",
       "      <th>mean</th>\n",
       "      <td>28790.50000</td>\n",
       "      <td>1373306483.59140</td>\n",
       "      <td>0.84666</td>\n",
       "      <td>0.00002</td>\n",
       "      <td>0.26213</td>\n",
       "      <td>0.01340</td>\n",
       "      <td>6779.04518</td>\n",
       "      <td>12.03840</td>\n",
       "    </tr>\n",
       "    <tr>\n",
       "      <th>std</th>\n",
       "      <td>79202.92178</td>\n",
       "      <td>47765894.69372</td>\n",
       "      <td>0.36032</td>\n",
       "      <td>0.00415</td>\n",
       "      <td>0.43980</td>\n",
       "      <td>0.11500</td>\n",
       "      <td>52015.59252</td>\n",
       "      <td>7.52167</td>\n",
       "    </tr>\n",
       "    <tr>\n",
       "      <th>min</th>\n",
       "      <td>-100.00000</td>\n",
       "      <td>1123732800.00000</td>\n",
       "      <td>0.00000</td>\n",
       "      <td>0.00000</td>\n",
       "      <td>0.00000</td>\n",
       "      <td>0.00000</td>\n",
       "      <td>1.00000</td>\n",
       "      <td>0.00000</td>\n",
       "    </tr>\n",
       "    <tr>\n",
       "      <th>25%</th>\n",
       "      <td>1033.00000</td>\n",
       "      <td>1340389248.75000</td>\n",
       "      <td>1.00000</td>\n",
       "      <td>0.00000</td>\n",
       "      <td>0.00000</td>\n",
       "      <td>0.00000</td>\n",
       "      <td>115.00000</td>\n",
       "      <td>5.00000</td>\n",
       "    </tr>\n",
       "    <tr>\n",
       "      <th>50%</th>\n",
       "      <td>5794.00000</td>\n",
       "      <td>1378533772.00000</td>\n",
       "      <td>1.00000</td>\n",
       "      <td>0.00000</td>\n",
       "      <td>0.00000</td>\n",
       "      <td>0.00000</td>\n",
       "      <td>919.00000</td>\n",
       "      <td>13.00000</td>\n",
       "    </tr>\n",
       "    <tr>\n",
       "      <th>75%</th>\n",
       "      <td>24528.25000</td>\n",
       "      <td>1412020082.25000</td>\n",
       "      <td>1.00000</td>\n",
       "      <td>0.00000</td>\n",
       "      <td>1.00000</td>\n",
       "      <td>0.00000</td>\n",
       "      <td>4320.00000</td>\n",
       "      <td>19.00000</td>\n",
       "    </tr>\n",
       "    <tr>\n",
       "      <th>max</th>\n",
       "      <td>4595096.00000</td>\n",
       "      <td>1459022357.00000</td>\n",
       "      <td>1.00000</td>\n",
       "      <td>1.00000</td>\n",
       "      <td>1.00000</td>\n",
       "      <td>1.00000</td>\n",
       "      <td>5531552.00000</td>\n",
       "      <td>23.00000</td>\n",
       "    </tr>\n",
       "  </tbody>\n",
       "</table>\n",
       "</div>"
      ],
      "text/plain": [
       "        CommentKarma        CreatedUTC VerifiedEmail   IsEmployee  \\\n",
       "count    57968.00000       57968.00000   57968.00000  57968.00000   \n",
       "mean     28790.50000  1373306483.59140       0.84666      0.00002   \n",
       "std      79202.92178    47765894.69372       0.36032      0.00415   \n",
       "min       -100.00000  1123732800.00000       0.00000      0.00000   \n",
       "25%       1033.00000  1340389248.75000       1.00000      0.00000   \n",
       "50%       5794.00000  1378533772.00000       1.00000      0.00000   \n",
       "75%      24528.25000  1412020082.25000       1.00000      0.00000   \n",
       "max    4595096.00000  1459022357.00000       1.00000      1.00000   \n",
       "\n",
       "             IsMod       IsGold      LinkKarma created_hour  \n",
       "count  57968.00000  57968.00000    57968.00000  57968.00000  \n",
       "mean       0.26213      0.01340     6779.04518     12.03840  \n",
       "std        0.43980      0.11500    52015.59252      7.52167  \n",
       "min        0.00000      0.00000        1.00000      0.00000  \n",
       "25%        0.00000      0.00000      115.00000      5.00000  \n",
       "50%        0.00000      0.00000      919.00000     13.00000  \n",
       "75%        1.00000      0.00000     4320.00000     19.00000  \n",
       "max        1.00000      1.00000  5531552.00000     23.00000  "
      ]
     },
     "execution_count": 61,
     "metadata": {},
     "output_type": "execute_result"
    }
   ],
   "source": [
    "# Appendix Code Ref 2\n",
    "users_df.describe().apply(lambda s: s.apply('{0:.5f}'.format))"
   ]
  },
  {
   "cell_type": "markdown",
   "metadata": {},
   "source": [
    "**Check for imbalanced columns that may note be helpful**"
   ]
  },
  {
   "cell_type": "code",
   "execution_count": 62,
   "metadata": {
    "ExecuteTime": {
     "end_time": "2021-07-07T12:00:29.972951Z",
     "start_time": "2021-07-07T12:00:29.957325Z"
    }
   },
   "outputs": [
    {
     "data": {
      "text/plain": [
       "1    0.846657\n",
       "0    0.153343\n",
       "Name: VerifiedEmail, dtype: float64"
      ]
     },
     "execution_count": 62,
     "metadata": {},
     "output_type": "execute_result"
    }
   ],
   "source": [
    "users_df['VerifiedEmail'].value_counts(normalize=True)"
   ]
  },
  {
   "cell_type": "code",
   "execution_count": 63,
   "metadata": {
    "ExecuteTime": {
     "end_time": "2021-07-07T12:00:29.988577Z",
     "start_time": "2021-07-07T12:00:29.972951Z"
    }
   },
   "outputs": [
    {
     "data": {
      "text/plain": [
       "0    0.737873\n",
       "1    0.262127\n",
       "Name: IsMod, dtype: float64"
      ]
     },
     "execution_count": 63,
     "metadata": {},
     "output_type": "execute_result"
    }
   ],
   "source": [
    "users_df['IsMod'].value_counts(normalize=True)"
   ]
  },
  {
   "cell_type": "code",
   "execution_count": 64,
   "metadata": {
    "ExecuteTime": {
     "end_time": "2021-07-07T12:00:30.004203Z",
     "start_time": "2021-07-07T12:00:29.988577Z"
    }
   },
   "outputs": [
    {
     "data": {
      "text/plain": [
       "0    57967\n",
       "1        1\n",
       "Name: IsEmployee, dtype: int64"
      ]
     },
     "execution_count": 64,
     "metadata": {},
     "output_type": "execute_result"
    }
   ],
   "source": [
    "users_df['IsEmployee'].value_counts()"
   ]
  },
  {
   "cell_type": "code",
   "execution_count": 65,
   "metadata": {
    "ExecuteTime": {
     "end_time": "2021-07-07T12:00:30.019829Z",
     "start_time": "2021-07-07T12:00:30.004203Z"
    }
   },
   "outputs": [
    {
     "data": {
      "text/plain": [
       "0    57191\n",
       "1      777\n",
       "Name: IsGold, dtype: int64"
      ]
     },
     "execution_count": 65,
     "metadata": {},
     "output_type": "execute_result"
    }
   ],
   "source": [
    "users_df['IsGold'].value_counts()"
   ]
  },
  {
   "cell_type": "markdown",
   "metadata": {},
   "source": [
    "**Notes:**  \n",
    "Exclude `IsEmployee` and `IsGold` from the model as most of the users are `False`"
   ]
  },
  {
   "cell_type": "code",
   "execution_count": 66,
   "metadata": {
    "ExecuteTime": {
     "end_time": "2021-07-07T12:00:30.035455Z",
     "start_time": "2021-07-07T12:00:30.019829Z"
    }
   },
   "outputs": [],
   "source": [
    "users_df.drop(columns=['IsEmployee', 'IsGold'], inplace=True)"
   ]
  },
  {
   "cell_type": "code",
   "execution_count": 67,
   "metadata": {
    "ExecuteTime": {
     "end_time": "2021-07-07T12:00:30.057591Z",
     "start_time": "2021-07-07T12:00:30.035455Z"
    },
    "scrolled": true
   },
   "outputs": [],
   "source": [
    "users_df['name_length'] = users_df['Name'].map(lambda x: len(x))"
   ]
  },
  {
   "cell_type": "code",
   "execution_count": 68,
   "metadata": {
    "ExecuteTime": {
     "end_time": "2021-07-07T12:00:30.613769Z",
     "start_time": "2021-07-07T12:00:30.057591Z"
    }
   },
   "outputs": [
    {
     "data": {
      "image/png": "[encoded data removed]",
      "text/plain": [
       "<Figure size 720x720 with 9 Axes>"
      ]
     },
     "metadata": {
      "needs_background": "light"
     },
     "output_type": "display_data"
    }
   ],
   "source": [
    "users_df.hist(figsize=(10, 10));"
   ]
  },
  {
   "cell_type": "markdown",
   "metadata": {},
   "source": [
    "## Final Dataset"
   ]
  },
  {
   "cell_type": "markdown",
   "metadata": {},
   "source": [
    "**Merge Data**"
   ]
  },
  {
   "cell_type": "code",
   "execution_count": 69,
   "metadata": {
    "ExecuteTime": {
     "end_time": "2021-07-07T12:00:30.685172Z",
     "start_time": "2021-07-07T12:00:30.613769Z"
    }
   },
   "outputs": [
    {
     "data": {
      "text/html": [
       "<div>\n",
       "<style scoped>\n",
       "    .dataframe tbody tr th:only-of-type {\n",
       "        vertical-align: middle;\n",
       "    }\n",
       "\n",
       "    .dataframe tbody tr th {\n",
       "        vertical-align: top;\n",
       "    }\n",
       "\n",
       "    .dataframe thead th {\n",
       "        text-align: right;\n",
       "    }\n",
       "</style>\n",
       "<table border=\"1\" class=\"dataframe\">\n",
       "  <thead>\n",
       "    <tr style=\"text-align: right;\">\n",
       "      <th></th>\n",
       "      <th>UserID</th>\n",
       "      <th>CommentKarma</th>\n",
       "      <th>CreatedUTC</th>\n",
       "      <th>VerifiedEmail</th>\n",
       "      <th>IsMod</th>\n",
       "      <th>LinkKarma</th>\n",
       "      <th>Name</th>\n",
       "      <th>created_date</th>\n",
       "      <th>created_hour</th>\n",
       "      <th>name_length</th>\n",
       "      <th>AuthorID</th>\n",
       "      <th>comment_count</th>\n",
       "      <th>avg_comment_length</th>\n",
       "      <th>avg_edited_comments</th>\n",
       "      <th>avg_is_submitter</th>\n",
       "      <th>avg_comment_score</th>\n",
       "    </tr>\n",
       "  </thead>\n",
       "  <tbody>\n",
       "    <tr>\n",
       "      <th>0</th>\n",
       "      <td>11r6v</td>\n",
       "      <td>109958</td>\n",
       "      <td>1170109022</td>\n",
       "      <td>1</td>\n",
       "      <td>1</td>\n",
       "      <td>2608</td>\n",
       "      <td>apullin</td>\n",
       "      <td>2007-01-29 22:17:02</td>\n",
       "      <td>22</td>\n",
       "      <td>7</td>\n",
       "      <td>11r6v</td>\n",
       "      <td>1</td>\n",
       "      <td>148.0</td>\n",
       "      <td>0.0</td>\n",
       "      <td>0.0</td>\n",
       "      <td>1.000000</td>\n",
       "    </tr>\n",
       "    <tr>\n",
       "      <th>1</th>\n",
       "      <td>12kj8</td>\n",
       "      <td>248529</td>\n",
       "      <td>1170444518</td>\n",
       "      <td>1</td>\n",
       "      <td>0</td>\n",
       "      <td>28625</td>\n",
       "      <td>antillus</td>\n",
       "      <td>2007-02-02 19:28:38</td>\n",
       "      <td>19</td>\n",
       "      <td>8</td>\n",
       "      <td>12kj8</td>\n",
       "      <td>1</td>\n",
       "      <td>123.0</td>\n",
       "      <td>0.0</td>\n",
       "      <td>0.0</td>\n",
       "      <td>3.000000</td>\n",
       "    </tr>\n",
       "    <tr>\n",
       "      <th>2</th>\n",
       "      <td>12n8k</td>\n",
       "      <td>35612</td>\n",
       "      <td>1170485799</td>\n",
       "      <td>1</td>\n",
       "      <td>0</td>\n",
       "      <td>614</td>\n",
       "      <td>caster</td>\n",
       "      <td>2007-02-03 06:56:39</td>\n",
       "      <td>6</td>\n",
       "      <td>6</td>\n",
       "      <td>12n8k</td>\n",
       "      <td>1</td>\n",
       "      <td>273.0</td>\n",
       "      <td>0.0</td>\n",
       "      <td>0.0</td>\n",
       "      <td>13.000000</td>\n",
       "    </tr>\n",
       "    <tr>\n",
       "      <th>3</th>\n",
       "      <td>12tkh</td>\n",
       "      <td>108198</td>\n",
       "      <td>1170611837</td>\n",
       "      <td>1</td>\n",
       "      <td>1</td>\n",
       "      <td>48457</td>\n",
       "      <td>THEMACGOD</td>\n",
       "      <td>2007-02-04 17:57:17</td>\n",
       "      <td>17</td>\n",
       "      <td>9</td>\n",
       "      <td>12tkh</td>\n",
       "      <td>2</td>\n",
       "      <td>47.5</td>\n",
       "      <td>0.0</td>\n",
       "      <td>0.0</td>\n",
       "      <td>-0.500000</td>\n",
       "    </tr>\n",
       "    <tr>\n",
       "      <th>4</th>\n",
       "      <td>139sx</td>\n",
       "      <td>81138</td>\n",
       "      <td>1170827928</td>\n",
       "      <td>1</td>\n",
       "      <td>0</td>\n",
       "      <td>5823</td>\n",
       "      <td>puttysan</td>\n",
       "      <td>2007-02-07 05:58:48</td>\n",
       "      <td>5</td>\n",
       "      <td>8</td>\n",
       "      <td>139sx</td>\n",
       "      <td>3</td>\n",
       "      <td>144.0</td>\n",
       "      <td>0.0</td>\n",
       "      <td>0.0</td>\n",
       "      <td>2.333333</td>\n",
       "    </tr>\n",
       "  </tbody>\n",
       "</table>\n",
       "</div>"
      ],
      "text/plain": [
       "  UserID  CommentKarma  CreatedUTC  VerifiedEmail  IsMod  LinkKarma  \\\n",
       "0  11r6v        109958  1170109022              1      1       2608   \n",
       "1  12kj8        248529  1170444518              1      0      28625   \n",
       "2  12n8k         35612  1170485799              1      0        614   \n",
       "3  12tkh        108198  1170611837              1      1      48457   \n",
       "4  139sx         81138  1170827928              1      0       5823   \n",
       "\n",
       "        Name        created_date  created_hour  name_length AuthorID  \\\n",
       "0    apullin 2007-01-29 22:17:02            22            7    11r6v   \n",
       "1   antillus 2007-02-02 19:28:38            19            8    12kj8   \n",
       "2     caster 2007-02-03 06:56:39             6            6    12n8k   \n",
       "3  THEMACGOD 2007-02-04 17:57:17            17            9    12tkh   \n",
       "4   puttysan 2007-02-07 05:58:48             5            8    139sx   \n",
       "\n",
       "   comment_count  avg_comment_length  avg_edited_comments  avg_is_submitter  \\\n",
       "0              1               148.0                  0.0               0.0   \n",
       "1              1               123.0                  0.0               0.0   \n",
       "2              1               273.0                  0.0               0.0   \n",
       "3              2                47.5                  0.0               0.0   \n",
       "4              3               144.0                  0.0               0.0   \n",
       "\n",
       "   avg_comment_score  \n",
       "0           1.000000  \n",
       "1           3.000000  \n",
       "2          13.000000  \n",
       "3          -0.500000  \n",
       "4           2.333333  "
      ]
     },
     "execution_count": 69,
     "metadata": {},
     "output_type": "execute_result"
    }
   ],
   "source": [
    "df = pd.merge(users_df, comment_authors, \n",
    "              how='left',\n",
    "              left_on='UserID', \n",
    "              right_on='AuthorID',\n",
    "              suffixes=('', 'comments'))\n",
    "df.head()"
   ]
  },
  {
   "cell_type": "code",
   "execution_count": 70,
   "metadata": {
    "ExecuteTime": {
     "end_time": "2021-07-07T12:00:30.716425Z",
     "start_time": "2021-07-07T12:00:30.685172Z"
    }
   },
   "outputs": [
    {
     "data": {
      "text/plain": [
       "UserID                 0\n",
       "CommentKarma           0\n",
       "CreatedUTC             0\n",
       "VerifiedEmail          0\n",
       "IsMod                  0\n",
       "LinkKarma              0\n",
       "Name                   0\n",
       "created_date           0\n",
       "created_hour           0\n",
       "name_length            0\n",
       "AuthorID               0\n",
       "comment_count          0\n",
       "avg_comment_length     0\n",
       "avg_edited_comments    0\n",
       "avg_is_submitter       0\n",
       "avg_comment_score      0\n",
       "dtype: int64"
      ]
     },
     "execution_count": 70,
     "metadata": {},
     "output_type": "execute_result"
    }
   ],
   "source": [
    "df.isna().sum()"
   ]
  },
  {
   "cell_type": "markdown",
   "metadata": {},
   "source": [
    "**Check for null values after merging submissions**"
   ]
  },
  {
   "cell_type": "code",
   "execution_count": 71,
   "metadata": {
    "ExecuteTime": {
     "end_time": "2021-07-07T12:00:30.801062Z",
     "start_time": "2021-07-07T12:00:30.716425Z"
    }
   },
   "outputs": [
    {
     "data": {
      "text/plain": [
       "UserID                     0\n",
       "CommentKarma               0\n",
       "CreatedUTC                 0\n",
       "VerifiedEmail              0\n",
       "IsMod                      0\n",
       "LinkKarma                  0\n",
       "Name                       0\n",
       "created_date               0\n",
       "created_hour               0\n",
       "name_length                0\n",
       "AuthorID                   0\n",
       "comment_count              0\n",
       "avg_comment_length         0\n",
       "avg_edited_comments        0\n",
       "avg_is_submitter           0\n",
       "avg_comment_score          0\n",
       "author                 52791\n",
       "id                     52791\n",
       "is_self                52791\n",
       "num_comments           52791\n",
       "score                  52791\n",
       "text_length            52791\n",
       "dtype: int64"
      ]
     },
     "execution_count": 71,
     "metadata": {},
     "output_type": "execute_result"
    }
   ],
   "source": [
    "pd.merge(df, submission_authors, \n",
    "         how='left', \n",
    "         left_on='Name', \n",
    "         right_on='author',\n",
    "         suffixes=('', 'submissions')).isna().sum()"
   ]
  },
  {
   "cell_type": "code",
   "execution_count": 72,
   "metadata": {
    "ExecuteTime": {
     "end_time": "2021-07-07T12:00:30.932578Z",
     "start_time": "2021-07-07T12:00:30.801062Z"
    }
   },
   "outputs": [
    {
     "data": {
      "text/html": [
       "<div>\n",
       "<style scoped>\n",
       "    .dataframe tbody tr th:only-of-type {\n",
       "        vertical-align: middle;\n",
       "    }\n",
       "\n",
       "    .dataframe tbody tr th {\n",
       "        vertical-align: top;\n",
       "    }\n",
       "\n",
       "    .dataframe thead th {\n",
       "        text-align: right;\n",
       "    }\n",
       "</style>\n",
       "<table border=\"1\" class=\"dataframe\">\n",
       "  <thead>\n",
       "    <tr style=\"text-align: right;\">\n",
       "      <th></th>\n",
       "      <th>CommentKarma</th>\n",
       "      <th>CreatedUTC</th>\n",
       "      <th>VerifiedEmail</th>\n",
       "      <th>IsMod</th>\n",
       "      <th>LinkKarma</th>\n",
       "      <th>created_hour</th>\n",
       "      <th>name_length</th>\n",
       "      <th>comment_count</th>\n",
       "      <th>avg_comment_length</th>\n",
       "      <th>avg_edited_comments</th>\n",
       "      <th>avg_is_submitter</th>\n",
       "      <th>avg_comment_score</th>\n",
       "    </tr>\n",
       "  </thead>\n",
       "  <tbody>\n",
       "    <tr>\n",
       "      <th>count</th>\n",
       "      <td>5.796800e+04</td>\n",
       "      <td>5.796800e+04</td>\n",
       "      <td>57968.000000</td>\n",
       "      <td>57968.000000</td>\n",
       "      <td>5.796800e+04</td>\n",
       "      <td>57968.000000</td>\n",
       "      <td>57968.000000</td>\n",
       "      <td>57968.000000</td>\n",
       "      <td>57968.000000</td>\n",
       "      <td>57968.000000</td>\n",
       "      <td>57968.000000</td>\n",
       "      <td>57968.000000</td>\n",
       "    </tr>\n",
       "    <tr>\n",
       "      <th>mean</th>\n",
       "      <td>2.879050e+04</td>\n",
       "      <td>1.373306e+09</td>\n",
       "      <td>0.846657</td>\n",
       "      <td>0.262127</td>\n",
       "      <td>6.779045e+03</td>\n",
       "      <td>12.038400</td>\n",
       "      <td>10.428392</td>\n",
       "      <td>2.365823</td>\n",
       "      <td>104.341948</td>\n",
       "      <td>2.428413</td>\n",
       "      <td>0.027346</td>\n",
       "      <td>4.780143</td>\n",
       "    </tr>\n",
       "    <tr>\n",
       "      <th>std</th>\n",
       "      <td>7.920292e+04</td>\n",
       "      <td>4.776589e+07</td>\n",
       "      <td>0.360321</td>\n",
       "      <td>0.439795</td>\n",
       "      <td>5.201559e+04</td>\n",
       "      <td>7.521669</td>\n",
       "      <td>3.401345</td>\n",
       "      <td>4.610707</td>\n",
       "      <td>179.430900</td>\n",
       "      <td>14.594103</td>\n",
       "      <td>0.155004</td>\n",
       "      <td>35.275886</td>\n",
       "    </tr>\n",
       "    <tr>\n",
       "      <th>min</th>\n",
       "      <td>-1.000000e+02</td>\n",
       "      <td>1.123733e+09</td>\n",
       "      <td>0.000000</td>\n",
       "      <td>0.000000</td>\n",
       "      <td>1.000000e+00</td>\n",
       "      <td>0.000000</td>\n",
       "      <td>3.000000</td>\n",
       "      <td>1.000000</td>\n",
       "      <td>0.000000</td>\n",
       "      <td>0.000000</td>\n",
       "      <td>0.000000</td>\n",
       "      <td>-52.000000</td>\n",
       "    </tr>\n",
       "    <tr>\n",
       "      <th>25%</th>\n",
       "      <td>1.033000e+03</td>\n",
       "      <td>1.340389e+09</td>\n",
       "      <td>1.000000</td>\n",
       "      <td>0.000000</td>\n",
       "      <td>1.150000e+02</td>\n",
       "      <td>5.000000</td>\n",
       "      <td>8.000000</td>\n",
       "      <td>1.000000</td>\n",
       "      <td>16.000000</td>\n",
       "      <td>0.000000</td>\n",
       "      <td>0.000000</td>\n",
       "      <td>1.000000</td>\n",
       "    </tr>\n",
       "    <tr>\n",
       "      <th>50%</th>\n",
       "      <td>5.794000e+03</td>\n",
       "      <td>1.378534e+09</td>\n",
       "      <td>1.000000</td>\n",
       "      <td>0.000000</td>\n",
       "      <td>9.190000e+02</td>\n",
       "      <td>13.000000</td>\n",
       "      <td>10.000000</td>\n",
       "      <td>1.000000</td>\n",
       "      <td>56.000000</td>\n",
       "      <td>0.000000</td>\n",
       "      <td>0.000000</td>\n",
       "      <td>1.000000</td>\n",
       "    </tr>\n",
       "    <tr>\n",
       "      <th>75%</th>\n",
       "      <td>2.452825e+04</td>\n",
       "      <td>1.412020e+09</td>\n",
       "      <td>1.000000</td>\n",
       "      <td>1.000000</td>\n",
       "      <td>4.320000e+03</td>\n",
       "      <td>19.000000</td>\n",
       "      <td>13.000000</td>\n",
       "      <td>2.000000</td>\n",
       "      <td>127.000000</td>\n",
       "      <td>0.000000</td>\n",
       "      <td>0.000000</td>\n",
       "      <td>2.000000</td>\n",
       "    </tr>\n",
       "    <tr>\n",
       "      <th>max</th>\n",
       "      <td>4.595096e+06</td>\n",
       "      <td>1.459022e+09</td>\n",
       "      <td>1.000000</td>\n",
       "      <td>1.000000</td>\n",
       "      <td>5.531552e+06</td>\n",
       "      <td>23.000000</td>\n",
       "      <td>20.000000</td>\n",
       "      <td>290.000000</td>\n",
       "      <td>9990.000000</td>\n",
       "      <td>127.000000</td>\n",
       "      <td>1.000000</td>\n",
       "      <td>2851.000000</td>\n",
       "    </tr>\n",
       "  </tbody>\n",
       "</table>\n",
       "</div>"
      ],
      "text/plain": [
       "       CommentKarma    CreatedUTC  VerifiedEmail         IsMod     LinkKarma  \\\n",
       "count  5.796800e+04  5.796800e+04   57968.000000  57968.000000  5.796800e+04   \n",
       "mean   2.879050e+04  1.373306e+09       0.846657      0.262127  6.779045e+03   \n",
       "std    7.920292e+04  4.776589e+07       0.360321      0.439795  5.201559e+04   \n",
       "min   -1.000000e+02  1.123733e+09       0.000000      0.000000  1.000000e+00   \n",
       "25%    1.033000e+03  1.340389e+09       1.000000      0.000000  1.150000e+02   \n",
       "50%    5.794000e+03  1.378534e+09       1.000000      0.000000  9.190000e+02   \n",
       "75%    2.452825e+04  1.412020e+09       1.000000      1.000000  4.320000e+03   \n",
       "max    4.595096e+06  1.459022e+09       1.000000      1.000000  5.531552e+06   \n",
       "\n",
       "       created_hour   name_length  comment_count  avg_comment_length  \\\n",
       "count  57968.000000  57968.000000   57968.000000        57968.000000   \n",
       "mean      12.038400     10.428392       2.365823          104.341948   \n",
       "std        7.521669      3.401345       4.610707          179.430900   \n",
       "min        0.000000      3.000000       1.000000            0.000000   \n",
       "25%        5.000000      8.000000       1.000000           16.000000   \n",
       "50%       13.000000     10.000000       1.000000           56.000000   \n",
       "75%       19.000000     13.000000       2.000000          127.000000   \n",
       "max       23.000000     20.000000     290.000000         9990.000000   \n",
       "\n",
       "       avg_edited_comments  avg_is_submitter  avg_comment_score  \n",
       "count         57968.000000      57968.000000       57968.000000  \n",
       "mean              2.428413          0.027346           4.780143  \n",
       "std              14.594103          0.155004          35.275886  \n",
       "min               0.000000          0.000000         -52.000000  \n",
       "25%               0.000000          0.000000           1.000000  \n",
       "50%               0.000000          0.000000           1.000000  \n",
       "75%               0.000000          0.000000           2.000000  \n",
       "max             127.000000          1.000000        2851.000000  "
      ]
     },
     "execution_count": 72,
     "metadata": {},
     "output_type": "execute_result"
    }
   ],
   "source": [
    "df.describe()"
   ]
  },
  {
   "cell_type": "code",
   "execution_count": 73,
   "metadata": {
    "ExecuteTime": {
     "end_time": "2021-07-07T12:00:31.867440Z",
     "start_time": "2021-07-07T12:00:30.932578Z"
    }
   },
   "outputs": [
    {
     "data": {
      "image/png": "[encoded data removed]",
      "text/plain": [
       "<Figure size 1080x1080 with 16 Axes>"
      ]
     },
     "metadata": {
      "needs_background": "light"
     },
     "output_type": "display_data"
    }
   ],
   "source": [
    "df.hist(figsize=(15, 15));"
   ]
  },
  {
   "cell_type": "markdown",
   "metadata": {},
   "source": [
    "**Drop unnecessary or redundant columns**"
   ]
  },
  {
   "cell_type": "code",
   "execution_count": 74,
   "metadata": {
    "ExecuteTime": {
     "end_time": "2021-07-07T12:00:31.893087Z",
     "start_time": "2021-07-07T12:00:31.867440Z"
    }
   },
   "outputs": [],
   "source": [
    "df.drop(columns=['AuthorID'], inplace=True)"
   ]
  },
  {
   "cell_type": "markdown",
   "metadata": {},
   "source": [
    "**Data Dictionary**\n",
    "\n",
    "|Feature|type|Dataset|Description|\n",
    "| :--- | :--- | :--- | :--- |\n",
    "|UserID|*String*|Users|Unique ID given to each user by Reddit, base 36.|\n",
    "|CommentKarma|*int64*|Users|Total karma score accumulated by user from comments.|\n",
    "|CreatedUTC|*int64*|Users|Created date and time of the user account in seconds.|\n",
    "|VerifiedEmail|*int64*|Users|Whether the user has a verified email (boolean).|\n",
    "|IsMod|*int64*|Users|Whether the user is a mod of any subreddit (boolean).|\n",
    "|LinkKarma|*int64*|Users|Total karma score accumulated by user from submissions.|\n",
    "|Name|*String*|Users|User name.|\n",
    "|created_date|*datetime64*|Users|Date that user created their account.|\n",
    "|created_hour|*int64*|Users|Hour that user account was created (1 - 24).|\n",
    "|name_length|*int64*|Users|Length of username.|\n",
    "|comment_count|*int64*|Comments|Number of comments posted by user.|\n",
    "|avg_comment_length|*float64*|Comments|Average comment length.|\n",
    "|avg_edited_comments|*float64*|Comments|Percentage of comments that were edited by user.|\n",
    "|avg_is_submittter|*float64*|Comments|Percentage of comments where the user posted the submission in which they commented.|\n",
    "|avg_comment_score|*float64*|Comments|Average comment score (karma).|"
   ]
  },
  {
   "cell_type": "markdown",
   "metadata": {},
   "source": [
    "## Modeling  \n",
    "Agglomerative Clustering and DBSCAN as models, using Silhouette Score as the model metric.\n",
    "* Keeping outliers.\n",
    "* Standard Scale"
   ]
  },
  {
   "cell_type": "markdown",
   "metadata": {},
   "source": [
    "### Selecting Features"
   ]
  },
  {
   "cell_type": "markdown",
   "metadata": {},
   "source": [
    "Don't have enough ram, must reduce size of dataset."
   ]
  },
  {
   "cell_type": "code",
   "execution_count": 76,
   "metadata": {
    "ExecuteTime": {
     "end_time": "2021-07-07T12:00:31.924338Z",
     "start_time": "2021-07-07T12:00:31.908712Z"
    }
   },
   "outputs": [],
   "source": [
    "df = df[:40_000]"
   ]
  },
  {
   "cell_type": "code",
   "execution_count": 77,
   "metadata": {
    "ExecuteTime": {
     "end_time": "2021-07-07T12:00:31.939964Z",
     "start_time": "2021-07-07T12:00:31.924338Z"
    }
   },
   "outputs": [],
   "source": [
    "X = df[[  # .265\n",
    "    'CommentKarma',  # .299\n",
    "#     'CreatedUTC',  # .37\n",
    "    'VerifiedEmail',  # .271\n",
    "#     'IsMod',  # .344\n",
    "    'LinkKarma',  # .277\n",
    "#     'name_length',  # .383\n",
    "    'comment_count',  # .300\n",
    "    'avg_is_submitter',  # .281\n",
    "#     'avg_comment_length',  # .322\n",
    "    'avg_comment_score'  # .281\n",
    "]].values"
   ]
  },
  {
   "cell_type": "code",
   "execution_count": 78,
   "metadata": {
    "ExecuteTime": {
     "end_time": "2021-07-07T12:00:31.955591Z",
     "start_time": "2021-07-07T12:00:31.939964Z"
    }
   },
   "outputs": [],
   "source": [
    "ss = StandardScaler()\n",
    "X_scaled = ss.fit_transform(X)"
   ]
  },
  {
   "cell_type": "markdown",
   "metadata": {},
   "source": [
    "### Agglomerative Clustering"
   ]
  },
  {
   "cell_type": "code",
   "execution_count": 79,
   "metadata": {
    "ExecuteTime": {
     "end_time": "2021-07-07T12:13:42.537384Z",
     "start_time": "2021-07-07T12:00:31.955591Z"
    }
   },
   "outputs": [
    {
     "data": {
      "image/png": "[encoded data removed]",
      "text/plain": [
       "<Figure size 720x504 with 1 Axes>"
      ]
     },
     "metadata": {
      "needs_background": "light"
     },
     "output_type": "display_data"
    }
   ],
   "source": [
    "plt.figure(figsize=(10, 7))\n",
    "plt.title(\"Dendrogram: Agglomerative Clustering\",\n",
    "          loc='left',\n",
    "          fontweight='bold',\n",
    "          fontsize=18)\n",
    "plt.ylabel('Distance', fontsize=14)\n",
    "dend = shc.dendrogram(shc.linkage(X_scaled, method='ward'))\n",
    "plt.axhline(y=190, color='r', linestyle='--')\n",
    "plt.savefig('./images/dendrogram.png')"
   ]
  },
  {
   "cell_type": "markdown",
   "metadata": {},
   "source": [
    "**Interpretation:**  \n",
    "Above is a dendrogram of the for the dataset. The longest distance between samples is overall on the right, however, looking at the whole tree it seems as if the distance threshold is around 170, which cuts the dendrogram at 6 or 7 points or clusters."
   ]
  },
  {
   "cell_type": "code",
   "execution_count": 80,
   "metadata": {
    "ExecuteTime": {
     "end_time": "2021-07-07T12:15:21.911514Z",
     "start_time": "2021-07-07T12:13:42.537384Z"
    }
   },
   "outputs": [
    {
     "data": {
      "text/plain": [
       "0.741746890608749"
      ]
     },
     "execution_count": 80,
     "metadata": {},
     "output_type": "execute_result"
    }
   ],
   "source": [
    "aggl_6 = AgglomerativeClustering(n_clusters=6)\n",
    "aggl_6.fit(X_scaled)\n",
    "\n",
    "silhouette_score(X_scaled, aggl_6.labels_)"
   ]
  },
  {
   "cell_type": "markdown",
   "metadata": {},
   "source": [
    "### DBSCAN"
   ]
  },
  {
   "cell_type": "code",
   "execution_count": 81,
   "metadata": {
    "ExecuteTime": {
     "end_time": "2021-07-07T12:15:52.227749Z",
     "start_time": "2021-07-07T12:15:21.913529Z"
    }
   },
   "outputs": [
    {
     "data": {
      "text/plain": [
       "DBSCAN(eps=0.75, min_samples=12)"
      ]
     },
     "execution_count": 81,
     "metadata": {},
     "output_type": "execute_result"
    }
   ],
   "source": [
    "dbscan = DBSCAN(eps=.75, min_samples=12)\n",
    "dbscan.fit(X_scaled)"
   ]
  },
  {
   "cell_type": "code",
   "execution_count": 82,
   "metadata": {
    "ExecuteTime": {
     "end_time": "2021-07-07T12:16:17.455683Z",
     "start_time": "2021-07-07T12:15:52.229768Z"
    }
   },
   "outputs": [
    {
     "data": {
      "text/plain": [
       "0.6750454377479989"
      ]
     },
     "execution_count": 82,
     "metadata": {},
     "output_type": "execute_result"
    }
   ],
   "source": [
    "silhouette_score(X_scaled, dbscan.labels_)"
   ]
  },
  {
   "cell_type": "markdown",
   "metadata": {},
   "source": [
    "## Cluster Analysis  \n",
    "The model with the best silhouette score is the Agglomerative Clustering Model. Use this model to look for patterns in each cluster group."
   ]
  },
  {
   "cell_type": "code",
   "execution_count": 83,
   "metadata": {
    "ExecuteTime": {
     "end_time": "2021-07-07T12:16:17.475770Z",
     "start_time": "2021-07-07T12:16:17.455683Z"
    }
   },
   "outputs": [],
   "source": [
    "df['cluster'] = aggl_6.labels_"
   ]
  },
  {
   "cell_type": "code",
   "execution_count": 84,
   "metadata": {
    "ExecuteTime": {
     "end_time": "2021-07-07T12:16:17.734526Z",
     "start_time": "2021-07-07T12:16:17.475770Z"
    }
   },
   "outputs": [
    {
     "data": {
      "text/html": [
       "<div>\n",
       "<style scoped>\n",
       "    .dataframe tbody tr th:only-of-type {\n",
       "        vertical-align: middle;\n",
       "    }\n",
       "\n",
       "    .dataframe tbody tr th {\n",
       "        vertical-align: top;\n",
       "    }\n",
       "\n",
       "    .dataframe thead th {\n",
       "        text-align: right;\n",
       "    }\n",
       "</style>\n",
       "<table border=\"1\" class=\"dataframe\">\n",
       "  <thead>\n",
       "    <tr style=\"text-align: right;\">\n",
       "      <th>cluster</th>\n",
       "      <th>0</th>\n",
       "      <th>1</th>\n",
       "      <th>2</th>\n",
       "      <th>3</th>\n",
       "      <th>4</th>\n",
       "      <th>5</th>\n",
       "    </tr>\n",
       "  </thead>\n",
       "  <tbody>\n",
       "    <tr>\n",
       "      <th>CommentKarma</th>\n",
       "      <td>317865.52</td>\n",
       "      <td>1314544.25</td>\n",
       "      <td>25660.37</td>\n",
       "      <td>19023.37</td>\n",
       "      <td>203750.60</td>\n",
       "      <td>16880.77</td>\n",
       "    </tr>\n",
       "    <tr>\n",
       "      <th>CreatedUTC</th>\n",
       "      <td>1336813520.37</td>\n",
       "      <td>1370720540.25</td>\n",
       "      <td>1349456156.14</td>\n",
       "      <td>1359887518.56</td>\n",
       "      <td>1312777316.30</td>\n",
       "      <td>1355127240.04</td>\n",
       "    </tr>\n",
       "    <tr>\n",
       "      <th>VerifiedEmail</th>\n",
       "      <td>0.96</td>\n",
       "      <td>1.00</td>\n",
       "      <td>1.00</td>\n",
       "      <td>0.00</td>\n",
       "      <td>0.90</td>\n",
       "      <td>0.91</td>\n",
       "    </tr>\n",
       "    <tr>\n",
       "      <th>IsMod</th>\n",
       "      <td>0.58</td>\n",
       "      <td>1.00</td>\n",
       "      <td>0.30</td>\n",
       "      <td>0.14</td>\n",
       "      <td>0.40</td>\n",
       "      <td>0.28</td>\n",
       "    </tr>\n",
       "    <tr>\n",
       "      <th>LinkKarma</th>\n",
       "      <td>66036.48</td>\n",
       "      <td>4343624.50</td>\n",
       "      <td>5622.83</td>\n",
       "      <td>1954.57</td>\n",
       "      <td>5517.00</td>\n",
       "      <td>10451.91</td>\n",
       "    </tr>\n",
       "    <tr>\n",
       "      <th>created_hour</th>\n",
       "      <td>12.18</td>\n",
       "      <td>13.25</td>\n",
       "      <td>11.99</td>\n",
       "      <td>11.75</td>\n",
       "      <td>8.80</td>\n",
       "      <td>11.79</td>\n",
       "    </tr>\n",
       "    <tr>\n",
       "      <th>name_length</th>\n",
       "      <td>10.49</td>\n",
       "      <td>9.75</td>\n",
       "      <td>10.08</td>\n",
       "      <td>10.74</td>\n",
       "      <td>9.80</td>\n",
       "      <td>10.17</td>\n",
       "    </tr>\n",
       "    <tr>\n",
       "      <th>comment_count</th>\n",
       "      <td>11.59</td>\n",
       "      <td>4.50</td>\n",
       "      <td>1.94</td>\n",
       "      <td>1.76</td>\n",
       "      <td>1.30</td>\n",
       "      <td>4.06</td>\n",
       "    </tr>\n",
       "    <tr>\n",
       "      <th>avg_comment_length</th>\n",
       "      <td>162.32</td>\n",
       "      <td>699.50</td>\n",
       "      <td>102.34</td>\n",
       "      <td>102.40</td>\n",
       "      <td>158.80</td>\n",
       "      <td>141.55</td>\n",
       "    </tr>\n",
       "    <tr>\n",
       "      <th>avg_edited_comments</th>\n",
       "      <td>3.17</td>\n",
       "      <td>0.00</td>\n",
       "      <td>2.47</td>\n",
       "      <td>2.57</td>\n",
       "      <td>12.70</td>\n",
       "      <td>2.72</td>\n",
       "    </tr>\n",
       "    <tr>\n",
       "      <th>avg_is_submitter</th>\n",
       "      <td>0.02</td>\n",
       "      <td>0.00</td>\n",
       "      <td>0.00</td>\n",
       "      <td>0.00</td>\n",
       "      <td>0.00</td>\n",
       "      <td>0.96</td>\n",
       "    </tr>\n",
       "    <tr>\n",
       "      <th>avg_comment_score</th>\n",
       "      <td>8.30</td>\n",
       "      <td>25.79</td>\n",
       "      <td>4.64</td>\n",
       "      <td>3.87</td>\n",
       "      <td>1960.75</td>\n",
       "      <td>3.06</td>\n",
       "    </tr>\n",
       "  </tbody>\n",
       "</table>\n",
       "</div>"
      ],
      "text/plain": [
       "cluster                          0              1              2  \\\n",
       "CommentKarma             317865.52     1314544.25       25660.37   \n",
       "CreatedUTC           1336813520.37  1370720540.25  1349456156.14   \n",
       "VerifiedEmail                 0.96           1.00           1.00   \n",
       "IsMod                         0.58           1.00           0.30   \n",
       "LinkKarma                 66036.48     4343624.50        5622.83   \n",
       "created_hour                 12.18          13.25          11.99   \n",
       "name_length                  10.49           9.75          10.08   \n",
       "comment_count                11.59           4.50           1.94   \n",
       "avg_comment_length          162.32         699.50         102.34   \n",
       "avg_edited_comments           3.17           0.00           2.47   \n",
       "avg_is_submitter              0.02           0.00           0.00   \n",
       "avg_comment_score             8.30          25.79           4.64   \n",
       "\n",
       "cluster                          3              4              5  \n",
       "CommentKarma              19023.37      203750.60       16880.77  \n",
       "CreatedUTC           1359887518.56  1312777316.30  1355127240.04  \n",
       "VerifiedEmail                 0.00           0.90           0.91  \n",
       "IsMod                         0.14           0.40           0.28  \n",
       "LinkKarma                  1954.57        5517.00       10451.91  \n",
       "created_hour                 11.75           8.80          11.79  \n",
       "name_length                  10.74           9.80          10.17  \n",
       "comment_count                 1.76           1.30           4.06  \n",
       "avg_comment_length          102.40         158.80         141.55  \n",
       "avg_edited_comments           2.57          12.70           2.72  \n",
       "avg_is_submitter              0.00           0.00           0.96  \n",
       "avg_comment_score             3.87        1960.75           3.06  "
      ]
     },
     "execution_count": 84,
     "metadata": {},
     "output_type": "execute_result"
    }
   ],
   "source": [
    "df.groupby('cluster').mean().T.apply(lambda s: s.apply('{0:.2f}'.format))"
   ]
  },
  {
   "cell_type": "markdown",
   "metadata": {},
   "source": [
    "**Interpretation:**  \n",
    "Above is a table of the means for each column separated by cluster. The columns that show interesting differences between mean by cluster are `LinkKarma`, `comment_count`, `avg_is_submitter`, `avg_comment_score`."
   ]
  },
  {
   "cell_type": "code",
   "execution_count": 85,
   "metadata": {
    "ExecuteTime": {
     "end_time": "2021-07-07T12:16:39.288600Z",
     "start_time": "2021-07-07T12:16:17.734526Z"
    },
    "scrolled": false
   },
   "outputs": [
    {
     "name": "stderr",
     "output_type": "stream",
     "text": [
      "C:\\Users\\Sam\\anaconda3\\envs\\ga-dsir-capstone\\lib\\site-packages\\seaborn\\distributions.py:306: UserWarning: Dataset has 0 variance; skipping density estimate.\n",
      "  warnings.warn(msg, UserWarning)\n",
      "C:\\Users\\Sam\\anaconda3\\envs\\ga-dsir-capstone\\lib\\site-packages\\seaborn\\distributions.py:306: UserWarning: Dataset has 0 variance; skipping density estimate.\n",
      "  warnings.warn(msg, UserWarning)\n"
     ]
    },
    {
     "data": {
      "image/png": "[encoded data removed]",
      "text/plain": [
       "<Figure size 1482.38x1440 with 20 Axes>"
      ]
     },
     "metadata": {
      "needs_background": "light"
     },
     "output_type": "display_data"
    }
   ],
   "source": [
    "sns.pairplot(df[['cluster',\n",
    "                 'LinkKarma',\n",
    "                 'comment_count',\n",
    "                 'avg_is_submitter',\n",
    "                 'avg_comment_score',\n",
    "                ]], \n",
    "             hue='cluster', \n",
    "             palette='viridis',\n",
    "             height=5);"
   ]
  },
  {
   "cell_type": "markdown",
   "metadata": {},
   "source": [
    "**Interpretation:**  \n",
    "Above is a pairplot of the features that had the most interesting difference in means per cluster. One immediate trend is that all of the distributions are very heavily positively skewed therefore it probably makes sense that these features have the most interesting means per cluster. "
   ]
  },
  {
   "cell_type": "code",
   "execution_count": 95,
   "metadata": {
    "ExecuteTime": {
     "end_time": "2021-07-07T12:24:40.535489Z",
     "start_time": "2021-07-07T12:24:38.667275Z"
    }
   },
   "outputs": [
    {
     "data": {
      "image/png": "[encoded data removed]",
      "text/plain": [
       "<Figure size 576x504 with 1 Axes>"
      ]
     },
     "metadata": {
      "needs_background": "light"
     },
     "output_type": "display_data"
    }
   ],
   "source": [
    "plt.figure(figsize=(8, 7))\n",
    "plt.scatter(df['comment_count'], df['avg_is_submitter'], \n",
    "            c=df['cluster'], \n",
    "            cmap='viridis',\n",
    "            alpha=.5,\n",
    "            s=25);\n",
    "plt.title('Cluster: Comment Count vs % Comment on Self Submission',\n",
    "          loc='left',\n",
    "          fontweight='bold',\n",
    "          fontsize=16.5)\n",
    "plt.xlabel('Comment Count per Author', fontsize=14)\n",
    "plt.ylabel('% Commented on Submission', fontsize=14)\n",
    "plt.legend([0, 1, 2, 3, 4, 5], title='Clusters')\n",
    "plt.tight_layout()\n",
    "plt.savefig('./images/cluster_comment_count_vs_%_comment_submission.png');"
   ]
  },
  {
   "cell_type": "markdown",
   "metadata": {},
   "source": [
    "**Interpretation:**  "
   ]
  },
  {
   "cell_type": "markdown",
   "metadata": {},
   "source": [
    "## Results & Conclusions\n",
    "\n",
    "Although a silhouette score of 0.741 is not great the differences in mean between some features of the dataset indicate that there are features that can be used to segment reddit users. The most notable features are `LinkKarma`, `comment_count`, `avg_is_submitter`, and `avg_comment_score`. \n",
    "\n",
    "`CommentKarma` and `LinkKarma` seem to be the best separators of clusters as most clusters have very distinct mean values for these two features. On the other hand there are multiple features such as `avg_comment_score` and `comment_count` that are distinct for some clusters but for others have very similar mean values. However, these differences seem to note that there is segmentation in reddit users by how much karma they have accumulated, how much they post, and their average score per post or comment. This is unsurprising and expected, further analysis needs to be done using NLP to get a better idea of user segmentation."
   ]
  },
  {
   "cell_type": "markdown",
   "metadata": {},
   "source": [
    "## Next Steps\n",
    "\n",
    "Immediate next steps for this project include moving the process into a cloud service, collecting more data, and conducting NLP on comments and submissions. Collecting more data would include using variations of the video game name to search for submissions that should be included within the dataset. For example 'Sid Meier's Civilization® V', could have been refered to as 'Civilization V', 'Civ 5', or 'Civ V', among other names. Additionally, all posts from each user could be pulled during the same time period as the submissions. This would allow for a deeper analysis of reddit users such as the total comments vs comments about the video game could be compared and overall NLP of all comments the user posted, allowing for a more nuanced model.\n",
    "\n",
    "NLP could be used to build a better picture of typical reddit users and to check the overall sentiment of users pre and post release date of a game. Further features can be engineered through looking at self focus vs other people, parts of speech usage, and overall sentiment analysis.\n",
    "    \n",
    "The next step, conceptually, for this project is to use clustered users, comments, and submission data split into pre and post subsets to predict video game sales based on features such as overall sentiment change pre and post launch and the percentage of users withing different clusters posting comments and submissions."
   ]
  },
  {
   "cell_type": "code",
   "execution_count": null,
   "metadata": {},
   "outputs": [],
   "source": []
  }
 ],
 "metadata": {
  "kernelspec": {
   "display_name": "ga-dsir-capstone",
   "language": "python",
   "name": "ga-dsir-capstone"
  },
  "language_info": {
   "codemirror_mode": {
    "name": "ipython",
    "version": 3
   },
   "file_extension": ".py",
   "mimetype": "text/x-python",
   "name": "python",
   "nbconvert_exporter": "python",
   "pygments_lexer": "ipython3",
   "version": "3.8.10"
  }
 },
 "nbformat": 4,
 "nbformat_minor": 4
}
