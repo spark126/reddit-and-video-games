{
 "cells": [
  {
   "cell_type": "code",
   "execution_count": null,
   "metadata": {
    "ExecuteTime": {
     "end_time": "2021-07-06T12:32:22.396182Z",
     "start_time": "2021-07-06T12:32:22.380557Z"
    }
   },
   "outputs": [],
   "source": [
    "last_index = submissions_df[submissions_df['id'] == '3s0obx'].index[0] + 1\n",
    "print(last_index)\n",
    "submissions_df['id'][last_index:].values"
   ]
  },
  {
   "cell_type": "markdown",
   "metadata": {},
   "source": [
    "# Problem Statement"
   ]
  },
  {
   "cell_type": "markdown",
   "metadata": {},
   "source": [
    "## Table of Contents\n",
    "- [Data Cleaning](#Data-Cleaning)\n",
    "    - [Submissions](#Submissions)\n",
    "    - [Comments](#Comments)\n",
    "    - [Users](#Users)\n",
    "- [Exploratory Data Analysis](#Exploratory-Data-Analysis)\n",
    "    - [Submissions](#Submissions-EDA)\n",
    "    - [Comments](#Comments-EDA)\n",
    "    - [Users](#Users-EDA)\n",
    "- [Modeling](#Modeling)\n",
    "- [Results & Conclusions](#Results-&-Conclusions)"
   ]
  },
  {
   "cell_type": "markdown",
   "metadata": {},
   "source": [
    "### Imports"
   ]
  },
  {
   "cell_type": "code",
   "execution_count": 1,
   "metadata": {
    "ExecuteTime": {
     "end_time": "2021-07-06T12:33:03.622659Z",
     "start_time": "2021-07-06T12:33:01.933819Z"
    }
   },
   "outputs": [],
   "source": [
    "import configparser\n",
    "import datetime as dt\n",
    "\n",
    "import pandas as pd\n",
    "import matplotlib.pyplot as plt\n",
    "import seaborn as sns\n",
    "\n",
    "from sklearn.feature_extraction.text import CountVectorizer, TfidfVectorizer\n",
    "\n",
    "from aws_mysql import MySqlConn\n",
    "from sklearn.cluster import DBSCAN\n",
    "from sklearn.metrics import silhouette_score\n",
    "from sklearn.preprocessing import StandardScaler"
   ]
  },
  {
   "cell_type": "markdown",
   "metadata": {},
   "source": [
    "### Functions"
   ]
  },
  {
   "cell_type": "code",
   "execution_count": 142,
   "metadata": {
    "ExecuteTime": {
     "end_time": "2021-07-06T16:21:18.903958Z",
     "start_time": "2021-07-06T16:21:18.879953Z"
    }
   },
   "outputs": [],
   "source": [
    "def bool_to_int(df_o, bool_cols):\n",
    "    \"\"\"\n",
    "    Takes a DataFrame and list of boolean columns and maps the boolean values\n",
    "    to integers. Does not work with strings.\n",
    "    :param: Pandas DataFrame.\n",
    "    :param: List of column names of booleans.\n",
    "    :return: Pandas DataFrame.\n",
    "    \"\"\"\n",
    "    bool_func = lambda x: 1 if x else 0\n",
    "    df_ = df_o.copy()\n",
    "    for col in bool_cols:\n",
    "        df_[col] = df_[col].map(bool_func)\n",
    "    return df_\n",
    "    \n",
    "# Dates ---------------------------------------------------------------------\n",
    "# year and month are false as the spread of days we are looking at is 11 days\n",
    "def convert_epoch(df_o, epoch_col, \n",
    "                  year=False, month=False, dayofweek=True, hour=True):\n",
    "    \"\"\"\n",
    "    Takes a the DataFrame and converts a column of epoch datetime to a\n",
    "    datetime object. The original column is dropped and a new column\n",
    "    'created_date' is added to the dataframe. \n",
    "    :param df_: Pandas DataFrame with a column of datetime in epoch format.\n",
    "    :param epoch_col: Name of column with epoch datetime.\n",
    "    :param year: Boolean Optional (Default True), whether a 'year' column is \n",
    "    created. \n",
    "    :param month: Boolean Optional (Default True), whether a 'month' column is\n",
    "    created.\n",
    "    :param dayofweek: Boolean Optional (Default True), whether a 'day_of_week'\n",
    "    column is created.\n",
    "    :param hour: Boolean Optional (Default True), whether a 'hour' column is\n",
    "    created.\n",
    "    :return: Pandas DataFrame.\n",
    "    \"\"\"\n",
    "    df_ = df_o.copy()\n",
    "    df_['created_date'] = pd.to_datetime(df_[epoch_col], unit='s')\n",
    "    \n",
    "    if year:\n",
    "        df_['created_year'] = df_['created_date'].dt.year\n",
    "    if month:\n",
    "        df_['created_month'] = df_['created_date'].dt.month\n",
    "    if dayofweek:\n",
    "        df_['created_day_of_week'] = df_['created_date'].dt.dayofweek\n",
    "    if hour:\n",
    "        df_['created_hour'] = df_['created_date'].dt.hour\n",
    "    \n",
    "    return df_\n",
    "\n",
    "# NLP -----------------------------------------------------------------------\n",
    "def clean_submission_df(df_o):\n",
    "    \"\"\"\n",
    "    Takes DataFrame and drops na values, duplicates, empty 'selftext' columns,\n",
    "    and pinned content.\n",
    "    :param df_o: pandas Dataframe to clean.\n",
    "    :return: pandas DataFrame.\n",
    "    \"\"\"\n",
    "    df_ = df_o.copy()\n",
    "    df_.dropna(inplace=True)  # cannot fix na values of selftext\n",
    "    df_.drop_duplicates(subset=['id'], inplace=True)  # init check\n",
    "    df_ = df_[~df_['selftext'].isin(['[deleted]', '[removed]'])]\n",
    "    df_ = df_[~df_['pinned']]  # pinned content is most likely rules/faq/etc\n",
    "    return df_\n",
    "\n",
    "\n",
    "# cleans text using all cleaning functions\n",
    "def clean_text(X, word_list=[]):\n",
    "    \"\"\"\n",
    "    \n",
    "    \"\"\"\n",
    "    # order is very important\n",
    "    X = replace_url(X)\n",
    "    X = replace_amp(X)\n",
    "    X = replace_nbsp(X)\n",
    "    X = replace_newline(X)\n",
    "    X = replace_nonalpha(X)\n",
    "    X = replace_small_words(X)\n",
    "    X = remove_words(X, word_list)\n",
    "    return X\n",
    "\n",
    "\n",
    "def replace_url(X):\n",
    "    \"\"\"\n",
    "    Takes pandas series of text and removes urls.\n",
    "    :param X: Pandas series.\n",
    "    :return: Pandas series.\n",
    "    \"\"\"\n",
    "    return X.str.replace('http\\S+|www.\\S+', '', case=False)  # ref 1\n",
    "\n",
    "\n",
    "def replace_amp(X):\n",
    "    \"\"\"\n",
    "    Takes pandas series of text and removes '&'.\n",
    "    :param X: Pandas series.\n",
    "    :return: Pandas series.\n",
    "    \"\"\"\n",
    "    return X.str.replace('&amp;', ' ', regex=False)\n",
    "\n",
    "\n",
    "def replace_nbsp(X):\n",
    "    \"\"\"\n",
    "    Takes pandas series of text and removes 'nbsp'.\n",
    "    :param X: Pandas series.\n",
    "    :return: Pandas series.\n",
    "    \"\"\"\n",
    "    return X.str.replace('nbsp;', ' ', regex=False)\n",
    "\n",
    "\n",
    "def replace_newline(X):\n",
    "    \"\"\"\n",
    "    Takes pandas series of text and removes '\\n'.\n",
    "    :param X: Pandas series.\n",
    "    :return: Pandas series.\n",
    "    \"\"\"\n",
    "    return X.str.replace('\\n', ' ', regex=False)\n",
    "\n",
    "\n",
    "def replace_nonalpha(X):\n",
    "    \"\"\"\n",
    "    Takes pandas series of text and non alpha characters.\n",
    "    :param X: Pandas series.\n",
    "    :return: Pandas series.\n",
    "    \"\"\"\n",
    "    return X.str.replace('[^a-zA-Z ]', ' ')  # ref 2 \n",
    "\n",
    "\n",
    "def replace_small_words(X):\n",
    "    \"\"\"\n",
    "    Takes pandas series of text and removes words below 4 characters.\n",
    "    :param X: Pandas series.\n",
    "    :return: Pandas series.\n",
    "    \"\"\"\n",
    "    return X.str.replace(r'\\b[a-zA-Z]{1,3}\\b', '')  # ref 3\n",
    "\n",
    "\n",
    "def remove_words(X, words=[]):\n",
    "    \"\"\"\n",
    "    Takes pandas series of text and removes `words`.\n",
    "    :param X: Pandas series.\n",
    "    :param words: List of strings, words to be removed from text \n",
    "    (case sensitive).\n",
    "    :return: Pandas series.\n",
    "    \"\"\"\n",
    "    for word in words:\n",
    "        X = X.str.replace(word, '')\n",
    "    return X"
   ]
  },
  {
   "cell_type": "markdown",
   "metadata": {},
   "source": [
    "## Data"
   ]
  },
  {
   "cell_type": "code",
   "execution_count": 3,
   "metadata": {
    "ExecuteTime": {
     "end_time": "2021-07-06T12:34:23.183527Z",
     "start_time": "2021-07-06T12:34:16.735198Z"
    }
   },
   "outputs": [],
   "source": [
    "# get data from AWS rds\n",
    "config = configparser.ConfigParser()\n",
    "config.read('./config.ini')\n",
    "\n",
    "db = MySqlConn(endpoint = config['rds']['endpoint'], \n",
    "               user     = config['rds']['user'], \n",
    "               password = config['rds']['password'], \n",
    "               dbname   = config['rds']['dbname'])\n",
    "\n",
    "db.connect()\n",
    "\n",
    "comments_df = pd.read_sql(\"\"\"SELECT * FROM comments\"\"\", db.conn)\n",
    "users_df    = pd.read_sql(\"\"\"SELECT * FROM users\"\"\", db.conn)\n",
    "\n",
    "db.close()"
   ]
  },
  {
   "cell_type": "code",
   "execution_count": 4,
   "metadata": {
    "ExecuteTime": {
     "end_time": "2021-07-06T12:34:25.546634Z",
     "start_time": "2021-07-06T12:34:23.183527Z"
    }
   },
   "outputs": [
    {
     "name": "stderr",
     "output_type": "stream",
     "text": [
      "C:\\Users\\Sam\\anaconda3\\envs\\ga-dsir-capstone\\lib\\site-packages\\IPython\\core\\interactiveshell.py:3145: DtypeWarning: Columns (12,21,33,36,37,39,40,43,46,47,48,49,50,51,52,53,54,55,56,57,58,59,60,61,62,63,64,65,66,67,68,70,71,72,74,75,77,79,81,82,86,87,88,89,90,91,92,93,94,95,96,97,98,99,100,101,102,103,104,105,106,107,108,109,110,111,112,113,114,116,117,118,120) have mixed types.Specify dtype option on import or set low_memory=False.\n",
      "  has_raised = await self.run_ast_nodes(code_ast.body, cell_name,\n"
     ]
    }
   ],
   "source": [
    "submissions_df = pd.read_csv('./data/submissions.csv')"
   ]
  },
  {
   "cell_type": "markdown",
   "metadata": {},
   "source": [
    "## Data Cleaning\n",
    "\n",
    "Purpose:\n",
    "* Drop Features that are not helpful.\n",
    "* Impute or remove null values"
   ]
  },
  {
   "cell_type": "markdown",
   "metadata": {},
   "source": [
    "### Submissions"
   ]
  },
  {
   "cell_type": "code",
   "execution_count": 5,
   "metadata": {
    "ExecuteTime": {
     "end_time": "2021-07-06T12:34:25.562263Z",
     "start_time": "2021-07-06T12:34:25.546634Z"
    }
   },
   "outputs": [
    {
     "data": {
      "text/plain": [
       "(86657, 122)"
      ]
     },
     "execution_count": 5,
     "metadata": {},
     "output_type": "execute_result"
    }
   ],
   "source": [
    "submissions_df.shape"
   ]
  },
  {
   "cell_type": "markdown",
   "metadata": {},
   "source": [
    "**Selftext**"
   ]
  },
  {
   "cell_type": "code",
   "execution_count": 6,
   "metadata": {
    "ExecuteTime": {
     "end_time": "2021-07-06T12:34:27.915204Z",
     "start_time": "2021-07-06T12:34:27.883959Z"
    }
   },
   "outputs": [
    {
     "data": {
      "text/plain": [
       "0.4170465167268657"
      ]
     },
     "execution_count": 6,
     "metadata": {},
     "output_type": "execute_result"
    }
   ],
   "source": [
    "submissions_df['selftext'].isna().sum() / submissions_df.shape[0]"
   ]
  },
  {
   "cell_type": "markdown",
   "metadata": {},
   "source": [
    "41.7+ percent of the `selftext` of submissions are blank. There could be many reasons for this:\n",
    "- Might be media of some sort: image, video\n",
    "- Could be link to article/content on another website\n",
    "- All necessary text fit into the title\n",
    "\n",
    "Fill null `selftext` with a blank string, `''`. No other way to impute values."
   ]
  },
  {
   "cell_type": "code",
   "execution_count": 7,
   "metadata": {
    "ExecuteTime": {
     "end_time": "2021-07-06T12:34:28.585781Z",
     "start_time": "2021-07-06T12:34:28.570155Z"
    }
   },
   "outputs": [],
   "source": [
    "submissions_df['selftext'].fillna('', inplace=True)"
   ]
  },
  {
   "cell_type": "markdown",
   "metadata": {},
   "source": [
    "**Select Columns**  \n",
    "Automatically drop columns with greater than 50% null values as `selftext` is missing ~42%. Also looked through columns manually to add to keep_cols if they seem useful."
   ]
  },
  {
   "cell_type": "code",
   "execution_count": 8,
   "metadata": {
    "ExecuteTime": {
     "end_time": "2021-07-06T12:34:29.387881Z",
     "start_time": "2021-07-06T12:34:29.087094Z"
    }
   },
   "outputs": [
    {
     "data": {
      "text/plain": [
       "Index(['author', 'author_fullname', 'created_utc', 'domain', 'full_link', 'id',\n",
       "       'is_self', 'locked', 'media_embed', 'num_comments', 'over_18',\n",
       "       'permalink', 'retrieved_on', 'score', 'secure_media_embed', 'selftext',\n",
       "       'stickied', 'subreddit', 'subreddit_id', 'thumbnail', 'title', 'url',\n",
       "       'search_term', 'period'],\n",
       "      dtype='object')"
      ]
     },
     "execution_count": 8,
     "metadata": {},
     "output_type": "execute_result"
    }
   ],
   "source": [
    "drop_cols = submissions_df.columns[submissions_df.isna().sum() / submissions_df.shape[0] > 0.50].values\n",
    "drop_cols = set(drop_cols)\n",
    "\n",
    "submissions_df.drop(columns=(drop_cols)).columns"
   ]
  },
  {
   "cell_type": "code",
   "execution_count": 9,
   "metadata": {
    "ExecuteTime": {
     "end_time": "2021-07-06T12:34:29.403508Z",
     "start_time": "2021-07-06T12:34:29.387881Z"
    }
   },
   "outputs": [],
   "source": [
    "# reviewed all columns and decided on this list\n",
    "keep_cols = [\n",
    "    'author',\n",
    "    'created_utc', \n",
    "    'domain', \n",
    "    'id',\n",
    "    'is_self',\n",
    "    'num_comments', \n",
    "    'over_18',\n",
    "    'score', \n",
    "    'selftext',\n",
    "    'stickied', \n",
    "    'subreddit', \n",
    "    'thumbnail', \n",
    "    'title',\n",
    "    'promoted',\n",
    "    'search_term', \n",
    "    'period',\n",
    "    'full_link'\n",
    "]"
   ]
  },
  {
   "cell_type": "code",
   "execution_count": 10,
   "metadata": {
    "ExecuteTime": {
     "end_time": "2021-07-06T12:34:30.390283Z",
     "start_time": "2021-07-06T12:34:30.305618Z"
    }
   },
   "outputs": [],
   "source": [
    "submissions_df = submissions_df[keep_cols]"
   ]
  },
  {
   "cell_type": "markdown",
   "metadata": {},
   "source": [
    "**Check for Null Values for Selected Columns**"
   ]
  },
  {
   "cell_type": "code",
   "execution_count": 11,
   "metadata": {
    "ExecuteTime": {
     "end_time": "2021-07-06T12:34:31.377288Z",
     "start_time": "2021-07-06T12:34:31.323918Z"
    }
   },
   "outputs": [
    {
     "data": {
      "text/plain": [
       "author          0.000012\n",
       "created_utc     0.000000\n",
       "domain          0.000035\n",
       "id              0.000000\n",
       "is_self         0.000000\n",
       "num_comments    0.000000\n",
       "over_18         0.000000\n",
       "score           0.000000\n",
       "selftext        0.000000\n",
       "stickied        0.054502\n",
       "subreddit       0.000992\n",
       "thumbnail       0.000012\n",
       "title           0.000000\n",
       "promoted        0.994542\n",
       "search_term     0.000000\n",
       "period          0.000000\n",
       "full_link       0.000000\n",
       "dtype: float64"
      ]
     },
     "execution_count": 11,
     "metadata": {},
     "output_type": "execute_result"
    }
   ],
   "source": [
    "submissions_df.isna().sum() / submissions_df.shape[0]"
   ]
  },
  {
   "cell_type": "code",
   "execution_count": 12,
   "metadata": {
    "ExecuteTime": {
     "end_time": "2021-07-06T12:34:31.709332Z",
     "start_time": "2021-07-06T12:34:31.678079Z"
    }
   },
   "outputs": [
    {
     "data": {
      "text/html": [
       "<div>\n",
       "<style scoped>\n",
       "    .dataframe tbody tr th:only-of-type {\n",
       "        vertical-align: middle;\n",
       "    }\n",
       "\n",
       "    .dataframe tbody tr th {\n",
       "        vertical-align: top;\n",
       "    }\n",
       "\n",
       "    .dataframe thead th {\n",
       "        text-align: right;\n",
       "    }\n",
       "</style>\n",
       "<table border=\"1\" class=\"dataframe\">\n",
       "  <thead>\n",
       "    <tr style=\"text-align: right;\">\n",
       "      <th></th>\n",
       "      <th>created_utc</th>\n",
       "      <th>num_comments</th>\n",
       "      <th>score</th>\n",
       "    </tr>\n",
       "  </thead>\n",
       "  <tbody>\n",
       "    <tr>\n",
       "      <th>count</th>\n",
       "      <td>8.665700e+04</td>\n",
       "      <td>86657.000000</td>\n",
       "      <td>86657.000000</td>\n",
       "    </tr>\n",
       "    <tr>\n",
       "      <th>mean</th>\n",
       "      <td>1.507940e+09</td>\n",
       "      <td>14.525139</td>\n",
       "      <td>16.037804</td>\n",
       "    </tr>\n",
       "    <tr>\n",
       "      <th>std</th>\n",
       "      <td>9.230622e+07</td>\n",
       "      <td>130.187858</td>\n",
       "      <td>171.480920</td>\n",
       "    </tr>\n",
       "    <tr>\n",
       "      <th>min</th>\n",
       "      <td>1.284756e+09</td>\n",
       "      <td>-3.000000</td>\n",
       "      <td>0.000000</td>\n",
       "    </tr>\n",
       "    <tr>\n",
       "      <th>25%</th>\n",
       "      <td>1.447190e+09</td>\n",
       "      <td>0.000000</td>\n",
       "      <td>1.000000</td>\n",
       "    </tr>\n",
       "    <tr>\n",
       "      <th>50%</th>\n",
       "      <td>1.463432e+09</td>\n",
       "      <td>2.000000</td>\n",
       "      <td>1.000000</td>\n",
       "    </tr>\n",
       "    <tr>\n",
       "      <th>75%</th>\n",
       "      <td>1.607565e+09</td>\n",
       "      <td>7.000000</td>\n",
       "      <td>1.000000</td>\n",
       "    </tr>\n",
       "    <tr>\n",
       "      <th>max</th>\n",
       "      <td>1.612742e+09</td>\n",
       "      <td>16057.000000</td>\n",
       "      <td>9631.000000</td>\n",
       "    </tr>\n",
       "  </tbody>\n",
       "</table>\n",
       "</div>"
      ],
      "text/plain": [
       "        created_utc  num_comments         score\n",
       "count  8.665700e+04  86657.000000  86657.000000\n",
       "mean   1.507940e+09     14.525139     16.037804\n",
       "std    9.230622e+07    130.187858    171.480920\n",
       "min    1.284756e+09     -3.000000      0.000000\n",
       "25%    1.447190e+09      0.000000      1.000000\n",
       "50%    1.463432e+09      2.000000      1.000000\n",
       "75%    1.607565e+09      7.000000      1.000000\n",
       "max    1.612742e+09  16057.000000   9631.000000"
      ]
     },
     "execution_count": 12,
     "metadata": {},
     "output_type": "execute_result"
    }
   ],
   "source": [
    "submissions_df.describe()"
   ]
  },
  {
   "cell_type": "markdown",
   "metadata": {},
   "source": [
    "**Number of Comments**  \n",
    "Replace negative number of comments with 0."
   ]
  },
  {
   "cell_type": "code",
   "execution_count": 13,
   "metadata": {
    "ExecuteTime": {
     "end_time": "2021-07-06T12:34:32.611414Z",
     "start_time": "2021-07-06T12:34:32.564525Z"
    }
   },
   "outputs": [],
   "source": [
    "submissions_df[submissions_df['num_comments'] < 0] = 0"
   ]
  },
  {
   "cell_type": "markdown",
   "metadata": {
    "ExecuteTime": {
     "end_time": "2021-07-05T01:56:54.931149Z",
     "start_time": "2021-07-05T01:56:54.913145Z"
    }
   },
   "source": [
    "**Author**  \n",
    "`author_fullname` and `author_id` columns are also null when `author` is null."
   ]
  },
  {
   "cell_type": "code",
   "execution_count": 14,
   "metadata": {
    "ExecuteTime": {
     "end_time": "2021-07-06T12:34:34.685800Z",
     "start_time": "2021-07-06T12:34:34.616787Z"
    },
    "scrolled": true
   },
   "outputs": [
    {
     "data": {
      "text/html": [
       "<div>\n",
       "<style scoped>\n",
       "    .dataframe tbody tr th:only-of-type {\n",
       "        vertical-align: middle;\n",
       "    }\n",
       "\n",
       "    .dataframe tbody tr th {\n",
       "        vertical-align: top;\n",
       "    }\n",
       "\n",
       "    .dataframe thead th {\n",
       "        text-align: right;\n",
       "    }\n",
       "</style>\n",
       "<table border=\"1\" class=\"dataframe\">\n",
       "  <thead>\n",
       "    <tr style=\"text-align: right;\">\n",
       "      <th></th>\n",
       "      <th>author</th>\n",
       "      <th>created_utc</th>\n",
       "      <th>domain</th>\n",
       "      <th>id</th>\n",
       "      <th>is_self</th>\n",
       "      <th>num_comments</th>\n",
       "      <th>over_18</th>\n",
       "      <th>score</th>\n",
       "      <th>selftext</th>\n",
       "      <th>stickied</th>\n",
       "      <th>subreddit</th>\n",
       "      <th>thumbnail</th>\n",
       "      <th>title</th>\n",
       "      <th>promoted</th>\n",
       "      <th>search_term</th>\n",
       "      <th>period</th>\n",
       "      <th>full_link</th>\n",
       "    </tr>\n",
       "  </thead>\n",
       "  <tbody>\n",
       "    <tr>\n",
       "      <th>68237</th>\n",
       "      <td>NaN</td>\n",
       "      <td>1.302772e+09</td>\n",
       "      <td>gameshampoo.com</td>\n",
       "      <td>gps20</td>\n",
       "      <td>False</td>\n",
       "      <td>50.0</td>\n",
       "      <td>False</td>\n",
       "      <td>0.0</td>\n",
       "      <td></td>\n",
       "      <td>NaN</td>\n",
       "      <td>promos</td>\n",
       "      <td>http://thumbs.reddit.com/t3_gps20.png?v=d26045...</td>\n",
       "      <td>Win a free copy of Portal 2!</td>\n",
       "      <td>True</td>\n",
       "      <td>Portal 2</td>\n",
       "      <td>pre launch</td>\n",
       "      <td>https://www.reddit.com/comments/gps20/win_a_fr...</td>\n",
       "    </tr>\n",
       "  </tbody>\n",
       "</table>\n",
       "</div>"
      ],
      "text/plain": [
       "      author   created_utc           domain     id is_self  num_comments  \\\n",
       "68237    NaN  1.302772e+09  gameshampoo.com  gps20   False          50.0   \n",
       "\n",
       "      over_18  score selftext stickied subreddit  \\\n",
       "68237   False    0.0               NaN    promos   \n",
       "\n",
       "                                               thumbnail  \\\n",
       "68237  http://thumbs.reddit.com/t3_gps20.png?v=d26045...   \n",
       "\n",
       "                              title promoted search_term      period  \\\n",
       "68237  Win a free copy of Portal 2!     True    Portal 2  pre launch   \n",
       "\n",
       "                                               full_link  \n",
       "68237  https://www.reddit.com/comments/gps20/win_a_fr...  "
      ]
     },
     "execution_count": 14,
     "metadata": {},
     "output_type": "execute_result"
    }
   ],
   "source": [
    "submissions_df[submissions_df['author'].isna()]"
   ]
  },
  {
   "cell_type": "markdown",
   "metadata": {},
   "source": [
    "Assuming that if `author` is null then it is equivalent to `'[deleted]'`"
   ]
  },
  {
   "cell_type": "code",
   "execution_count": 15,
   "metadata": {
    "ExecuteTime": {
     "end_time": "2021-07-06T12:34:35.503551Z",
     "start_time": "2021-07-06T12:34:35.465774Z"
    }
   },
   "outputs": [],
   "source": [
    "submissions_df['author'].fillna('[deleted]', inplace=True)\n",
    "submissions_df['author_deleted'] = submissions_df['author']\\\n",
    "                                    .map(lambda x: 1 \n",
    "                                         if x == '[deleted]' \n",
    "                                         else 0)"
   ]
  },
  {
   "cell_type": "code",
   "execution_count": 16,
   "metadata": {
    "ExecuteTime": {
     "end_time": "2021-07-06T12:34:35.835581Z",
     "start_time": "2021-07-06T12:34:35.819954Z"
    },
    "scrolled": true
   },
   "outputs": [
    {
     "data": {
      "text/plain": [
       "0    78183\n",
       "1     8474\n",
       "Name: author_deleted, dtype: int64"
      ]
     },
     "execution_count": 16,
     "metadata": {},
     "output_type": "execute_result"
    }
   ],
   "source": [
    "submissions_df['author_deleted'].value_counts()"
   ]
  },
  {
   "cell_type": "markdown",
   "metadata": {},
   "source": [
    "**Domain**"
   ]
  },
  {
   "cell_type": "code",
   "execution_count": 17,
   "metadata": {
    "ExecuteTime": {
     "end_time": "2021-07-06T12:34:36.506179Z",
     "start_time": "2021-07-06T12:34:36.474924Z"
    }
   },
   "outputs": [
    {
     "data": {
      "text/html": [
       "<div>\n",
       "<style scoped>\n",
       "    .dataframe tbody tr th:only-of-type {\n",
       "        vertical-align: middle;\n",
       "    }\n",
       "\n",
       "    .dataframe tbody tr th {\n",
       "        vertical-align: top;\n",
       "    }\n",
       "\n",
       "    .dataframe thead th {\n",
       "        text-align: right;\n",
       "    }\n",
       "</style>\n",
       "<table border=\"1\" class=\"dataframe\">\n",
       "  <thead>\n",
       "    <tr style=\"text-align: right;\">\n",
       "      <th></th>\n",
       "      <th>author</th>\n",
       "      <th>created_utc</th>\n",
       "      <th>domain</th>\n",
       "      <th>id</th>\n",
       "      <th>is_self</th>\n",
       "      <th>num_comments</th>\n",
       "      <th>over_18</th>\n",
       "      <th>score</th>\n",
       "      <th>selftext</th>\n",
       "      <th>stickied</th>\n",
       "      <th>subreddit</th>\n",
       "      <th>thumbnail</th>\n",
       "      <th>title</th>\n",
       "      <th>promoted</th>\n",
       "      <th>search_term</th>\n",
       "      <th>period</th>\n",
       "      <th>full_link</th>\n",
       "      <th>author_deleted</th>\n",
       "    </tr>\n",
       "  </thead>\n",
       "  <tbody>\n",
       "    <tr>\n",
       "      <th>78364</th>\n",
       "      <td>feathand</td>\n",
       "      <td>1.584221e+09</td>\n",
       "      <td>NaN</td>\n",
       "      <td>fipqxs</td>\n",
       "      <td>False</td>\n",
       "      <td>0.0</td>\n",
       "      <td>False</td>\n",
       "      <td>1.0</td>\n",
       "      <td></td>\n",
       "      <td>False</td>\n",
       "      <td>Metal</td>\n",
       "      <td>default</td>\n",
       "      <td>Music Similiar to Doom (2016) and Doom Eternal...</td>\n",
       "      <td>NaN</td>\n",
       "      <td>DOOM Eternal</td>\n",
       "      <td>pre launch</td>\n",
       "      <td>https://www.reddit.com/r/Metal/comments/fipqxs...</td>\n",
       "      <td>0</td>\n",
       "    </tr>\n",
       "    <tr>\n",
       "      <th>83248</th>\n",
       "      <td>zitping</td>\n",
       "      <td>1.584839e+09</td>\n",
       "      <td>NaN</td>\n",
       "      <td>fmr2o1</td>\n",
       "      <td>False</td>\n",
       "      <td>4.0</td>\n",
       "      <td>False</td>\n",
       "      <td>1.0</td>\n",
       "      <td></td>\n",
       "      <td>False</td>\n",
       "      <td>Doom</td>\n",
       "      <td>default</td>\n",
       "      <td>[Troubleshooting] Doom Eternal - Constant cras...</td>\n",
       "      <td>NaN</td>\n",
       "      <td>DOOM Eternal</td>\n",
       "      <td>post launch</td>\n",
       "      <td>https://www.reddit.com/r/Doom/comments/fmr2o1/...</td>\n",
       "      <td>0</td>\n",
       "    </tr>\n",
       "    <tr>\n",
       "      <th>83450</th>\n",
       "      <td>Xenix1252</td>\n",
       "      <td>1.584852e+09</td>\n",
       "      <td>NaN</td>\n",
       "      <td>fmu6uk</td>\n",
       "      <td>False</td>\n",
       "      <td>5.0</td>\n",
       "      <td>False</td>\n",
       "      <td>1.0</td>\n",
       "      <td></td>\n",
       "      <td>False</td>\n",
       "      <td>Doom</td>\n",
       "      <td>spoiler</td>\n",
       "      <td>Samuel Hayden and his role in the story of the...</td>\n",
       "      <td>NaN</td>\n",
       "      <td>DOOM Eternal</td>\n",
       "      <td>post launch</td>\n",
       "      <td>https://www.reddit.com/r/Doom/comments/fmu6uk/...</td>\n",
       "      <td>0</td>\n",
       "    </tr>\n",
       "  </tbody>\n",
       "</table>\n",
       "</div>"
      ],
      "text/plain": [
       "          author   created_utc domain      id is_self  num_comments over_18  \\\n",
       "78364   feathand  1.584221e+09    NaN  fipqxs   False           0.0   False   \n",
       "83248    zitping  1.584839e+09    NaN  fmr2o1   False           4.0   False   \n",
       "83450  Xenix1252  1.584852e+09    NaN  fmu6uk   False           5.0   False   \n",
       "\n",
       "       score selftext stickied subreddit thumbnail  \\\n",
       "78364    1.0             False     Metal   default   \n",
       "83248    1.0             False      Doom   default   \n",
       "83450    1.0             False      Doom   spoiler   \n",
       "\n",
       "                                                   title promoted  \\\n",
       "78364  Music Similiar to Doom (2016) and Doom Eternal...      NaN   \n",
       "83248  [Troubleshooting] Doom Eternal - Constant cras...      NaN   \n",
       "83450  Samuel Hayden and his role in the story of the...      NaN   \n",
       "\n",
       "        search_term       period  \\\n",
       "78364  DOOM Eternal   pre launch   \n",
       "83248  DOOM Eternal  post launch   \n",
       "83450  DOOM Eternal  post launch   \n",
       "\n",
       "                                               full_link  author_deleted  \n",
       "78364  https://www.reddit.com/r/Metal/comments/fipqxs...               0  \n",
       "83248  https://www.reddit.com/r/Doom/comments/fmr2o1/...               0  \n",
       "83450  https://www.reddit.com/r/Doom/comments/fmu6uk/...               0  "
      ]
     },
     "execution_count": 17,
     "metadata": {},
     "output_type": "execute_result"
    }
   ],
   "source": [
    "submissions_df[submissions_df['domain'].isna()]"
   ]
  },
  {
   "cell_type": "code",
   "execution_count": 18,
   "metadata": {
    "ExecuteTime": {
     "end_time": "2021-07-06T12:34:36.753581Z",
     "start_time": "2021-07-06T12:34:36.737954Z"
    }
   },
   "outputs": [
    {
     "data": {
      "text/plain": [
       "0              self.Fallout\n",
       "1         self.pcmasterrace\n",
       "2              self.Fallout\n",
       "3                  self.fo4\n",
       "4               youtube.com\n",
       "                ...        \n",
       "86652    self.buildapcforme\n",
       "86653        self.GamerPals\n",
       "86654         self.Trophies\n",
       "86655     self.CrackSupport\n",
       "86656     self.pcmasterrace\n",
       "Name: domain, Length: 86657, dtype: object"
      ]
     },
     "execution_count": 18,
     "metadata": {},
     "output_type": "execute_result"
    }
   ],
   "source": [
    "submissions_df['domain']"
   ]
  },
  {
   "cell_type": "markdown",
   "metadata": {},
   "source": [
    "`is_self` is False, unsure how to impute, so drop rows."
   ]
  },
  {
   "cell_type": "markdown",
   "metadata": {},
   "source": [
    "**Stickied**"
   ]
  },
  {
   "cell_type": "code",
   "execution_count": 19,
   "metadata": {
    "ExecuteTime": {
     "end_time": "2021-07-06T12:34:39.313706Z",
     "start_time": "2021-07-06T12:34:39.298086Z"
    }
   },
   "outputs": [
    {
     "data": {
      "text/plain": [
       "False    81866\n",
       "True        70\n",
       "Name: stickied, dtype: int64"
      ]
     },
     "execution_count": 19,
     "metadata": {},
     "output_type": "execute_result"
    }
   ],
   "source": [
    "submissions_df['stickied'].value_counts()"
   ]
  },
  {
   "cell_type": "code",
   "execution_count": 20,
   "metadata": {
    "ExecuteTime": {
     "end_time": "2021-07-06T12:34:39.714328Z",
     "start_time": "2021-07-06T12:34:39.676564Z"
    }
   },
   "outputs": [
    {
     "data": {
      "text/html": [
       "<div>\n",
       "<style scoped>\n",
       "    .dataframe tbody tr th:only-of-type {\n",
       "        vertical-align: middle;\n",
       "    }\n",
       "\n",
       "    .dataframe tbody tr th {\n",
       "        vertical-align: top;\n",
       "    }\n",
       "\n",
       "    .dataframe thead th {\n",
       "        text-align: right;\n",
       "    }\n",
       "</style>\n",
       "<table border=\"1\" class=\"dataframe\">\n",
       "  <thead>\n",
       "    <tr style=\"text-align: right;\">\n",
       "      <th></th>\n",
       "      <th>author</th>\n",
       "      <th>created_utc</th>\n",
       "      <th>domain</th>\n",
       "      <th>id</th>\n",
       "      <th>is_self</th>\n",
       "      <th>num_comments</th>\n",
       "      <th>over_18</th>\n",
       "      <th>score</th>\n",
       "      <th>selftext</th>\n",
       "      <th>stickied</th>\n",
       "      <th>subreddit</th>\n",
       "      <th>thumbnail</th>\n",
       "      <th>title</th>\n",
       "      <th>promoted</th>\n",
       "      <th>search_term</th>\n",
       "      <th>period</th>\n",
       "      <th>full_link</th>\n",
       "      <th>author_deleted</th>\n",
       "    </tr>\n",
       "  </thead>\n",
       "  <tbody>\n",
       "    <tr>\n",
       "      <th>67260</th>\n",
       "      <td>ghkjdfhgjsdhgjklfhjk</td>\n",
       "      <td>1.313025e+09</td>\n",
       "      <td>self.gaming</td>\n",
       "      <td>jf77c</td>\n",
       "      <td>True</td>\n",
       "      <td>7.0</td>\n",
       "      <td>False</td>\n",
       "      <td>3.0</td>\n",
       "      <td>I'm torn.</td>\n",
       "      <td>NaN</td>\n",
       "      <td>gaming</td>\n",
       "      <td>self</td>\n",
       "      <td>Bastion or From Dust?</td>\n",
       "      <td>NaN</td>\n",
       "      <td>Bastion</td>\n",
       "      <td>pre launch</td>\n",
       "      <td>https://www.reddit.com/r/gaming/comments/jf77c...</td>\n",
       "      <td>0</td>\n",
       "    </tr>\n",
       "    <tr>\n",
       "      <th>67261</th>\n",
       "      <td>masamagic</td>\n",
       "      <td>1.313026e+09</td>\n",
       "      <td>self.tf2trade</td>\n",
       "      <td>jf7qj</td>\n",
       "      <td>True</td>\n",
       "      <td>0.0</td>\n",
       "      <td>False</td>\n",
       "      <td>0.0</td>\n",
       "      <td>Trading Bills, V. Whiskers and some other hats...</td>\n",
       "      <td>NaN</td>\n",
       "      <td>tf2trade</td>\n",
       "      <td>self</td>\n",
       "      <td>[W] Bastion [H] Bill's, V Whiskers + More</td>\n",
       "      <td>NaN</td>\n",
       "      <td>Bastion</td>\n",
       "      <td>pre launch</td>\n",
       "      <td>https://www.reddit.com/r/tf2trade/comments/jf7...</td>\n",
       "      <td>0</td>\n",
       "    </tr>\n",
       "    <tr>\n",
       "      <th>67262</th>\n",
       "      <td>[deleted]</td>\n",
       "      <td>1.313030e+09</td>\n",
       "      <td>self.SteamGameSwap</td>\n",
       "      <td>jf9qc</td>\n",
       "      <td>True</td>\n",
       "      <td>0.0</td>\n",
       "      <td>False</td>\n",
       "      <td>1.0</td>\n",
       "      <td></td>\n",
       "      <td>NaN</td>\n",
       "      <td>SteamGameSwap</td>\n",
       "      <td>default</td>\n",
       "      <td>[H] Amnesia: Dark Decent, Audiosurf, Day of De...</td>\n",
       "      <td>NaN</td>\n",
       "      <td>Bastion</td>\n",
       "      <td>pre launch</td>\n",
       "      <td>https://www.reddit.com/r/SteamGameSwap/comment...</td>\n",
       "      <td>1</td>\n",
       "    </tr>\n",
       "    <tr>\n",
       "      <th>67263</th>\n",
       "      <td>buggereet</td>\n",
       "      <td>1.313031e+09</td>\n",
       "      <td>self.SteamGameSwap</td>\n",
       "      <td>jfa9c</td>\n",
       "      <td>True</td>\n",
       "      <td>0.0</td>\n",
       "      <td>False</td>\n",
       "      <td>1.0</td>\n",
       "      <td></td>\n",
       "      <td>NaN</td>\n",
       "      <td>SteamGameSwap</td>\n",
       "      <td>self</td>\n",
       "      <td>[H] Audiosurf, Cogs, Portal (pick two) [W] Bas...</td>\n",
       "      <td>NaN</td>\n",
       "      <td>Bastion</td>\n",
       "      <td>pre launch</td>\n",
       "      <td>https://www.reddit.com/r/SteamGameSwap/comment...</td>\n",
       "      <td>0</td>\n",
       "    </tr>\n",
       "    <tr>\n",
       "      <th>67264</th>\n",
       "      <td>[deleted]</td>\n",
       "      <td>1.313046e+09</td>\n",
       "      <td>self.SteamGameSwap</td>\n",
       "      <td>jfgtf</td>\n",
       "      <td>True</td>\n",
       "      <td>0.0</td>\n",
       "      <td>False</td>\n",
       "      <td>1.0</td>\n",
       "      <td>Just want to put out there that I am not inter...</td>\n",
       "      <td>NaN</td>\n",
       "      <td>SteamGameSwap</td>\n",
       "      <td>default</td>\n",
       "      <td>[H] Terraria, LIMBO, Beat Hazard Complete [W] ...</td>\n",
       "      <td>NaN</td>\n",
       "      <td>Bastion</td>\n",
       "      <td>pre launch</td>\n",
       "      <td>https://www.reddit.com/r/SteamGameSwap/comment...</td>\n",
       "      <td>1</td>\n",
       "    </tr>\n",
       "    <tr>\n",
       "      <th>...</th>\n",
       "      <td>...</td>\n",
       "      <td>...</td>\n",
       "      <td>...</td>\n",
       "      <td>...</td>\n",
       "      <td>...</td>\n",
       "      <td>...</td>\n",
       "      <td>...</td>\n",
       "      <td>...</td>\n",
       "      <td>...</td>\n",
       "      <td>...</td>\n",
       "      <td>...</td>\n",
       "      <td>...</td>\n",
       "      <td>...</td>\n",
       "      <td>...</td>\n",
       "      <td>...</td>\n",
       "      <td>...</td>\n",
       "      <td>...</td>\n",
       "      <td>...</td>\n",
       "    </tr>\n",
       "    <tr>\n",
       "      <th>72521</th>\n",
       "      <td>OysterTwister</td>\n",
       "      <td>1.303602e+09</td>\n",
       "      <td>youtube.com</td>\n",
       "      <td>gw011</td>\n",
       "      <td>False</td>\n",
       "      <td>0.0</td>\n",
       "      <td>False</td>\n",
       "      <td>2.0</td>\n",
       "      <td></td>\n",
       "      <td>NaN</td>\n",
       "      <td>reddit.com</td>\n",
       "      <td>default</td>\n",
       "      <td>The Best Gamers review Portal 2 (SPOILERS)</td>\n",
       "      <td>NaN</td>\n",
       "      <td>Portal 2</td>\n",
       "      <td>post launch</td>\n",
       "      <td>https://www.reddit.com/r/reddit.com/comments/g...</td>\n",
       "      <td>0</td>\n",
       "    </tr>\n",
       "    <tr>\n",
       "      <th>72522</th>\n",
       "      <td>[deleted]</td>\n",
       "      <td>1.303602e+09</td>\n",
       "      <td>i.imgur.com</td>\n",
       "      <td>gw028</td>\n",
       "      <td>False</td>\n",
       "      <td>0.0</td>\n",
       "      <td>False</td>\n",
       "      <td>1.0</td>\n",
       "      <td></td>\n",
       "      <td>NaN</td>\n",
       "      <td>gaming</td>\n",
       "      <td>default</td>\n",
       "      <td>It's no Portal 2, but does anyone else miss pl...</td>\n",
       "      <td>NaN</td>\n",
       "      <td>Portal 2</td>\n",
       "      <td>post launch</td>\n",
       "      <td>https://www.reddit.com/r/gaming/comments/gw028...</td>\n",
       "      <td>1</td>\n",
       "    </tr>\n",
       "    <tr>\n",
       "      <th>72523</th>\n",
       "      <td>Mallack</td>\n",
       "      <td>1.303602e+09</td>\n",
       "      <td>i.imgur.com</td>\n",
       "      <td>gw03q</td>\n",
       "      <td>False</td>\n",
       "      <td>6.0</td>\n",
       "      <td>False</td>\n",
       "      <td>0.0</td>\n",
       "      <td></td>\n",
       "      <td>NaN</td>\n",
       "      <td>gaming</td>\n",
       "      <td>http://thumbs.reddit.com/t3_gw03q.png</td>\n",
       "      <td>Why couldn't he be a Co-op partner in Portal 2?</td>\n",
       "      <td>NaN</td>\n",
       "      <td>Portal 2</td>\n",
       "      <td>post launch</td>\n",
       "      <td>https://www.reddit.com/r/gaming/comments/gw03q...</td>\n",
       "      <td>0</td>\n",
       "    </tr>\n",
       "    <tr>\n",
       "      <th>72524</th>\n",
       "      <td>Stalked_Like_Corn</td>\n",
       "      <td>1.303602e+09</td>\n",
       "      <td>self.Portal</td>\n",
       "      <td>gw04g</td>\n",
       "      <td>True</td>\n",
       "      <td>3.0</td>\n",
       "      <td>False</td>\n",
       "      <td>1.0</td>\n",
       "      <td>So I got Portal 2 and want to do Co-Op but all...</td>\n",
       "      <td>NaN</td>\n",
       "      <td>Portal</td>\n",
       "      <td>self</td>\n",
       "      <td>LF Portal 2 Co-Op buddy.  Inquire within</td>\n",
       "      <td>NaN</td>\n",
       "      <td>Portal 2</td>\n",
       "      <td>post launch</td>\n",
       "      <td>https://www.reddit.com/r/Portal/comments/gw04g...</td>\n",
       "      <td>0</td>\n",
       "    </tr>\n",
       "    <tr>\n",
       "      <th>72525</th>\n",
       "      <td>OnTheInternetNo1Know</td>\n",
       "      <td>1.303603e+09</td>\n",
       "      <td>self.techsupport</td>\n",
       "      <td>gw069</td>\n",
       "      <td>True</td>\n",
       "      <td>33.0</td>\n",
       "      <td>False</td>\n",
       "      <td>16.0</td>\n",
       "      <td>I run a google search and then when I click on...</td>\n",
       "      <td>NaN</td>\n",
       "      <td>techsupport</td>\n",
       "      <td>self</td>\n",
       "      <td>Google search results take me to strange links...</td>\n",
       "      <td>NaN</td>\n",
       "      <td>Portal 2</td>\n",
       "      <td>post launch</td>\n",
       "      <td>https://www.reddit.com/r/techsupport/comments/...</td>\n",
       "      <td>0</td>\n",
       "    </tr>\n",
       "  </tbody>\n",
       "</table>\n",
       "<p>4721 rows × 18 columns</p>\n",
       "</div>"
      ],
      "text/plain": [
       "                     author   created_utc              domain     id is_self  \\\n",
       "67260  ghkjdfhgjsdhgjklfhjk  1.313025e+09         self.gaming  jf77c    True   \n",
       "67261             masamagic  1.313026e+09       self.tf2trade  jf7qj    True   \n",
       "67262             [deleted]  1.313030e+09  self.SteamGameSwap  jf9qc    True   \n",
       "67263             buggereet  1.313031e+09  self.SteamGameSwap  jfa9c    True   \n",
       "67264             [deleted]  1.313046e+09  self.SteamGameSwap  jfgtf    True   \n",
       "...                     ...           ...                 ...    ...     ...   \n",
       "72521         OysterTwister  1.303602e+09         youtube.com  gw011   False   \n",
       "72522             [deleted]  1.303602e+09         i.imgur.com  gw028   False   \n",
       "72523               Mallack  1.303602e+09         i.imgur.com  gw03q   False   \n",
       "72524     Stalked_Like_Corn  1.303602e+09         self.Portal  gw04g    True   \n",
       "72525  OnTheInternetNo1Know  1.303603e+09    self.techsupport  gw069    True   \n",
       "\n",
       "       num_comments over_18  score  \\\n",
       "67260           7.0   False    3.0   \n",
       "67261           0.0   False    0.0   \n",
       "67262           0.0   False    1.0   \n",
       "67263           0.0   False    1.0   \n",
       "67264           0.0   False    1.0   \n",
       "...             ...     ...    ...   \n",
       "72521           0.0   False    2.0   \n",
       "72522           0.0   False    1.0   \n",
       "72523           6.0   False    0.0   \n",
       "72524           3.0   False    1.0   \n",
       "72525          33.0   False   16.0   \n",
       "\n",
       "                                                selftext stickied  \\\n",
       "67260                                          I'm torn.      NaN   \n",
       "67261  Trading Bills, V. Whiskers and some other hats...      NaN   \n",
       "67262                                                         NaN   \n",
       "67263                                                         NaN   \n",
       "67264  Just want to put out there that I am not inter...      NaN   \n",
       "...                                                  ...      ...   \n",
       "72521                                                         NaN   \n",
       "72522                                                         NaN   \n",
       "72523                                                         NaN   \n",
       "72524  So I got Portal 2 and want to do Co-Op but all...      NaN   \n",
       "72525  I run a google search and then when I click on...      NaN   \n",
       "\n",
       "           subreddit                              thumbnail  \\\n",
       "67260         gaming                                   self   \n",
       "67261       tf2trade                                   self   \n",
       "67262  SteamGameSwap                                default   \n",
       "67263  SteamGameSwap                                   self   \n",
       "67264  SteamGameSwap                                default   \n",
       "...              ...                                    ...   \n",
       "72521     reddit.com                                default   \n",
       "72522         gaming                                default   \n",
       "72523         gaming  http://thumbs.reddit.com/t3_gw03q.png   \n",
       "72524         Portal                                   self   \n",
       "72525    techsupport                                   self   \n",
       "\n",
       "                                                   title promoted search_term  \\\n",
       "67260                              Bastion or From Dust?      NaN     Bastion   \n",
       "67261          [W] Bastion [H] Bill's, V Whiskers + More      NaN     Bastion   \n",
       "67262  [H] Amnesia: Dark Decent, Audiosurf, Day of De...      NaN     Bastion   \n",
       "67263  [H] Audiosurf, Cogs, Portal (pick two) [W] Bas...      NaN     Bastion   \n",
       "67264  [H] Terraria, LIMBO, Beat Hazard Complete [W] ...      NaN     Bastion   \n",
       "...                                                  ...      ...         ...   \n",
       "72521         The Best Gamers review Portal 2 (SPOILERS)      NaN    Portal 2   \n",
       "72522  It's no Portal 2, but does anyone else miss pl...      NaN    Portal 2   \n",
       "72523    Why couldn't he be a Co-op partner in Portal 2?      NaN    Portal 2   \n",
       "72524           LF Portal 2 Co-Op buddy.  Inquire within      NaN    Portal 2   \n",
       "72525  Google search results take me to strange links...      NaN    Portal 2   \n",
       "\n",
       "            period                                          full_link  \\\n",
       "67260   pre launch  https://www.reddit.com/r/gaming/comments/jf77c...   \n",
       "67261   pre launch  https://www.reddit.com/r/tf2trade/comments/jf7...   \n",
       "67262   pre launch  https://www.reddit.com/r/SteamGameSwap/comment...   \n",
       "67263   pre launch  https://www.reddit.com/r/SteamGameSwap/comment...   \n",
       "67264   pre launch  https://www.reddit.com/r/SteamGameSwap/comment...   \n",
       "...            ...                                                ...   \n",
       "72521  post launch  https://www.reddit.com/r/reddit.com/comments/g...   \n",
       "72522  post launch  https://www.reddit.com/r/gaming/comments/gw028...   \n",
       "72523  post launch  https://www.reddit.com/r/gaming/comments/gw03q...   \n",
       "72524  post launch  https://www.reddit.com/r/Portal/comments/gw04g...   \n",
       "72525  post launch  https://www.reddit.com/r/techsupport/comments/...   \n",
       "\n",
       "       author_deleted  \n",
       "67260               0  \n",
       "67261               0  \n",
       "67262               1  \n",
       "67263               0  \n",
       "67264               1  \n",
       "...               ...  \n",
       "72521               0  \n",
       "72522               1  \n",
       "72523               0  \n",
       "72524               0  \n",
       "72525               0  \n",
       "\n",
       "[4721 rows x 18 columns]"
      ]
     },
     "execution_count": 20,
     "metadata": {},
     "output_type": "execute_result"
    }
   ],
   "source": [
    "submissions_df[submissions_df['stickied'].isna()]"
   ]
  },
  {
   "cell_type": "markdown",
   "metadata": {},
   "source": [
    "There are only 70 total stickied submissions vs the 81,864 non-stickied. Additionally, the no clear way to check if null values were sticked or not. So, drop the column."
   ]
  },
  {
   "cell_type": "code",
   "execution_count": 21,
   "metadata": {
    "ExecuteTime": {
     "end_time": "2021-07-06T12:34:42.583869Z",
     "start_time": "2021-07-06T12:34:42.552757Z"
    }
   },
   "outputs": [],
   "source": [
    "submissions_df.drop(columns='stickied', inplace=True)"
   ]
  },
  {
   "cell_type": "markdown",
   "metadata": {},
   "source": [
    "**Subreddit**"
   ]
  },
  {
   "cell_type": "code",
   "execution_count": 22,
   "metadata": {
    "ExecuteTime": {
     "end_time": "2021-07-06T12:34:43.238836Z",
     "start_time": "2021-07-06T12:34:43.191953Z"
    }
   },
   "outputs": [
    {
     "data": {
      "text/html": [
       "<div>\n",
       "<style scoped>\n",
       "    .dataframe tbody tr th:only-of-type {\n",
       "        vertical-align: middle;\n",
       "    }\n",
       "\n",
       "    .dataframe tbody tr th {\n",
       "        vertical-align: top;\n",
       "    }\n",
       "\n",
       "    .dataframe thead th {\n",
       "        text-align: right;\n",
       "    }\n",
       "</style>\n",
       "<table border=\"1\" class=\"dataframe\">\n",
       "  <thead>\n",
       "    <tr style=\"text-align: right;\">\n",
       "      <th></th>\n",
       "      <th>author</th>\n",
       "      <th>created_utc</th>\n",
       "      <th>domain</th>\n",
       "      <th>id</th>\n",
       "      <th>is_self</th>\n",
       "      <th>num_comments</th>\n",
       "      <th>over_18</th>\n",
       "      <th>score</th>\n",
       "      <th>selftext</th>\n",
       "      <th>subreddit</th>\n",
       "      <th>thumbnail</th>\n",
       "      <th>title</th>\n",
       "      <th>promoted</th>\n",
       "      <th>search_term</th>\n",
       "      <th>period</th>\n",
       "      <th>full_link</th>\n",
       "      <th>author_deleted</th>\n",
       "    </tr>\n",
       "  </thead>\n",
       "  <tbody>\n",
       "    <tr>\n",
       "      <th>133</th>\n",
       "      <td>[deleted]</td>\n",
       "      <td>1.446605e+09</td>\n",
       "      <td>rareitemapparel.com</td>\n",
       "      <td>3rfx7v</td>\n",
       "      <td>False</td>\n",
       "      <td>0.0</td>\n",
       "      <td>False</td>\n",
       "      <td>0.0</td>\n",
       "      <td></td>\n",
       "      <td>NaN</td>\n",
       "      <td>http://b.thumbs.redditmedia.com/KS4dX5huaXN0z2...</td>\n",
       "      <td>How I feel waiting for Fallout 4...</td>\n",
       "      <td>True</td>\n",
       "      <td>Fallout 4</td>\n",
       "      <td>pre launch</td>\n",
       "      <td>https://www.reddit.com/comments/3rfx7v/how_i_f...</td>\n",
       "      <td>1</td>\n",
       "    </tr>\n",
       "    <tr>\n",
       "      <th>1503</th>\n",
       "      <td>SickAcorn</td>\n",
       "      <td>1.446701e+09</td>\n",
       "      <td>twitch.tv</td>\n",
       "      <td>3rleos</td>\n",
       "      <td>False</td>\n",
       "      <td>0.0</td>\n",
       "      <td>False</td>\n",
       "      <td>1.0</td>\n",
       "      <td></td>\n",
       "      <td>NaN</td>\n",
       "      <td>default</td>\n",
       "      <td>Fallout 4 stream</td>\n",
       "      <td>True</td>\n",
       "      <td>Fallout 4</td>\n",
       "      <td>pre launch</td>\n",
       "      <td>https://www.reddit.com/comments/3rleos/fallout...</td>\n",
       "      <td>0</td>\n",
       "    </tr>\n",
       "    <tr>\n",
       "      <th>1862</th>\n",
       "      <td>LERAGESHIRTS</td>\n",
       "      <td>1.446736e+09</td>\n",
       "      <td>lerageshirts.com</td>\n",
       "      <td>3rmwzr</td>\n",
       "      <td>False</td>\n",
       "      <td>1.0</td>\n",
       "      <td>False</td>\n",
       "      <td>0.0</td>\n",
       "      <td></td>\n",
       "      <td>NaN</td>\n",
       "      <td>http://b.thumbs.redditmedia.com/ywNvlxU8A6IJzm...</td>\n",
       "      <td>In case you need this for the 400 hours of gam...</td>\n",
       "      <td>True</td>\n",
       "      <td>Fallout 4</td>\n",
       "      <td>pre launch</td>\n",
       "      <td>https://www.reddit.com/comments/3rmwzr/in_case...</td>\n",
       "      <td>0</td>\n",
       "    </tr>\n",
       "    <tr>\n",
       "      <th>8485</th>\n",
       "      <td>redditads</td>\n",
       "      <td>1.447135e+09</td>\n",
       "      <td>redbox.com</td>\n",
       "      <td>3s8nwi</td>\n",
       "      <td>False</td>\n",
       "      <td>146.0</td>\n",
       "      <td>False</td>\n",
       "      <td>0.0</td>\n",
       "      <td></td>\n",
       "      <td>NaN</td>\n",
       "      <td>http://b.thumbs.redditmedia.com/qBWq8Bt-YaF38q...</td>\n",
       "      <td>Gaming on a budget? For just $3 a day, you can...</td>\n",
       "      <td>True</td>\n",
       "      <td>Fallout 4</td>\n",
       "      <td>post launch</td>\n",
       "      <td>https://www.reddit.com/comments/3s8nwi/gaming_...</td>\n",
       "      <td>0</td>\n",
       "    </tr>\n",
       "    <tr>\n",
       "      <th>8504</th>\n",
       "      <td>redditads</td>\n",
       "      <td>1.447135e+09</td>\n",
       "      <td>redbox.com</td>\n",
       "      <td>3s8of5</td>\n",
       "      <td>False</td>\n",
       "      <td>134.0</td>\n",
       "      <td>False</td>\n",
       "      <td>0.0</td>\n",
       "      <td></td>\n",
       "      <td>NaN</td>\n",
       "      <td>http://b.thumbs.redditmedia.com/FFndVjpp_jctnv...</td>\n",
       "      <td>Gaming on a budget? For just $3 a day, you can...</td>\n",
       "      <td>True</td>\n",
       "      <td>Fallout 4</td>\n",
       "      <td>post launch</td>\n",
       "      <td>https://www.reddit.com/comments/3s8of5/gaming_...</td>\n",
       "      <td>0</td>\n",
       "    </tr>\n",
       "    <tr>\n",
       "      <th>...</th>\n",
       "      <td>...</td>\n",
       "      <td>...</td>\n",
       "      <td>...</td>\n",
       "      <td>...</td>\n",
       "      <td>...</td>\n",
       "      <td>...</td>\n",
       "      <td>...</td>\n",
       "      <td>...</td>\n",
       "      <td>...</td>\n",
       "      <td>...</td>\n",
       "      <td>...</td>\n",
       "      <td>...</td>\n",
       "      <td>...</td>\n",
       "      <td>...</td>\n",
       "      <td>...</td>\n",
       "      <td>...</td>\n",
       "      <td>...</td>\n",
       "    </tr>\n",
       "    <tr>\n",
       "      <th>63858</th>\n",
       "      <td>2game_com</td>\n",
       "      <td>1.506755e+09</td>\n",
       "      <td>2game.com</td>\n",
       "      <td>73dleg</td>\n",
       "      <td>False</td>\n",
       "      <td>0.0</td>\n",
       "      <td>False</td>\n",
       "      <td>1.0</td>\n",
       "      <td></td>\n",
       "      <td>NaN</td>\n",
       "      <td>https://a.thumbs.redditmedia.com/ht_34vnI81g3t...</td>\n",
       "      <td>Total War: WARHAMMER II + Bonus Norsca Race DL...</td>\n",
       "      <td>True</td>\n",
       "      <td>Total War: WARHAMMER II</td>\n",
       "      <td>post launch</td>\n",
       "      <td>https://www.reddit.com/comments/73dleg/total_w...</td>\n",
       "      <td>0</td>\n",
       "    </tr>\n",
       "    <tr>\n",
       "      <th>73577</th>\n",
       "      <td>cdkeyscom</td>\n",
       "      <td>1.462978e+09</td>\n",
       "      <td>cdkeys.com</td>\n",
       "      <td>4iv8ib</td>\n",
       "      <td>False</td>\n",
       "      <td>36.0</td>\n",
       "      <td>False</td>\n",
       "      <td>18.0</td>\n",
       "      <td></td>\n",
       "      <td>NaN</td>\n",
       "      <td>http://b.thumbs.redditmedia.com/_WfwJzTiYKIMi2...</td>\n",
       "      <td>Hello Marines, we've got DOOM PC at a huge dis...</td>\n",
       "      <td>True</td>\n",
       "      <td>DOOM</td>\n",
       "      <td>pre launch</td>\n",
       "      <td>https://www.reddit.com/comments/4iv8ib/hello_m...</td>\n",
       "      <td>0</td>\n",
       "    </tr>\n",
       "    <tr>\n",
       "      <th>73908</th>\n",
       "      <td>jakequade</td>\n",
       "      <td>1.463116e+09</td>\n",
       "      <td>finder.com.au</td>\n",
       "      <td>4j4tb9</td>\n",
       "      <td>False</td>\n",
       "      <td>0.0</td>\n",
       "      <td>False</td>\n",
       "      <td>0.0</td>\n",
       "      <td></td>\n",
       "      <td>NaN</td>\n",
       "      <td>http://b.thumbs.redditmedia.com/Aq-SKyfYYh3q8Z...</td>\n",
       "      <td>Chainsaw carver sculpts 8-foot DOOM Revenant s...</td>\n",
       "      <td>True</td>\n",
       "      <td>DOOM</td>\n",
       "      <td>post launch</td>\n",
       "      <td>https://www.reddit.com/comments/4j4tb9/chainsa...</td>\n",
       "      <td>0</td>\n",
       "    </tr>\n",
       "    <tr>\n",
       "      <th>76240</th>\n",
       "      <td>EpicFred</td>\n",
       "      <td>1.463325e+09</td>\n",
       "      <td>g2a.com</td>\n",
       "      <td>4jghgs</td>\n",
       "      <td>False</td>\n",
       "      <td>2.0</td>\n",
       "      <td>False</td>\n",
       "      <td>0.0</td>\n",
       "      <td></td>\n",
       "      <td>NaN</td>\n",
       "      <td>http://b.thumbs.redditmedia.com/bOadiOyIWVwPdU...</td>\n",
       "      <td>Hey everyone! My name is James, I recently bec...</td>\n",
       "      <td>True</td>\n",
       "      <td>DOOM</td>\n",
       "      <td>post launch</td>\n",
       "      <td>https://www.reddit.com/comments/4jghgs/hey_eve...</td>\n",
       "      <td>0</td>\n",
       "    </tr>\n",
       "    <tr>\n",
       "      <th>77529</th>\n",
       "      <td>[deleted]</td>\n",
       "      <td>1.463451e+09</td>\n",
       "      <td>store.steampowered.com</td>\n",
       "      <td>4jon9l</td>\n",
       "      <td>False</td>\n",
       "      <td>0.0</td>\n",
       "      <td>False</td>\n",
       "      <td>0.0</td>\n",
       "      <td>[deleted]</td>\n",
       "      <td>NaN</td>\n",
       "      <td>default</td>\n",
       "      <td>Hey Doom Gamers - Increase Your FPS With CPUCo...</td>\n",
       "      <td>True</td>\n",
       "      <td>DOOM</td>\n",
       "      <td>post launch</td>\n",
       "      <td>https://www.reddit.com/comments/4jon9l/hey_doo...</td>\n",
       "      <td>1</td>\n",
       "    </tr>\n",
       "  </tbody>\n",
       "</table>\n",
       "<p>86 rows × 17 columns</p>\n",
       "</div>"
      ],
      "text/plain": [
       "             author   created_utc                  domain      id is_self  \\\n",
       "133       [deleted]  1.446605e+09     rareitemapparel.com  3rfx7v   False   \n",
       "1503      SickAcorn  1.446701e+09               twitch.tv  3rleos   False   \n",
       "1862   LERAGESHIRTS  1.446736e+09        lerageshirts.com  3rmwzr   False   \n",
       "8485      redditads  1.447135e+09              redbox.com  3s8nwi   False   \n",
       "8504      redditads  1.447135e+09              redbox.com  3s8of5   False   \n",
       "...             ...           ...                     ...     ...     ...   \n",
       "63858     2game_com  1.506755e+09               2game.com  73dleg   False   \n",
       "73577     cdkeyscom  1.462978e+09              cdkeys.com  4iv8ib   False   \n",
       "73908     jakequade  1.463116e+09           finder.com.au  4j4tb9   False   \n",
       "76240      EpicFred  1.463325e+09                 g2a.com  4jghgs   False   \n",
       "77529     [deleted]  1.463451e+09  store.steampowered.com  4jon9l   False   \n",
       "\n",
       "       num_comments over_18  score   selftext subreddit  \\\n",
       "133             0.0   False    0.0                  NaN   \n",
       "1503            0.0   False    1.0                  NaN   \n",
       "1862            1.0   False    0.0                  NaN   \n",
       "8485          146.0   False    0.0                  NaN   \n",
       "8504          134.0   False    0.0                  NaN   \n",
       "...             ...     ...    ...        ...       ...   \n",
       "63858           0.0   False    1.0                  NaN   \n",
       "73577          36.0   False   18.0                  NaN   \n",
       "73908           0.0   False    0.0                  NaN   \n",
       "76240           2.0   False    0.0                  NaN   \n",
       "77529           0.0   False    0.0  [deleted]       NaN   \n",
       "\n",
       "                                               thumbnail  \\\n",
       "133    http://b.thumbs.redditmedia.com/KS4dX5huaXN0z2...   \n",
       "1503                                             default   \n",
       "1862   http://b.thumbs.redditmedia.com/ywNvlxU8A6IJzm...   \n",
       "8485   http://b.thumbs.redditmedia.com/qBWq8Bt-YaF38q...   \n",
       "8504   http://b.thumbs.redditmedia.com/FFndVjpp_jctnv...   \n",
       "...                                                  ...   \n",
       "63858  https://a.thumbs.redditmedia.com/ht_34vnI81g3t...   \n",
       "73577  http://b.thumbs.redditmedia.com/_WfwJzTiYKIMi2...   \n",
       "73908  http://b.thumbs.redditmedia.com/Aq-SKyfYYh3q8Z...   \n",
       "76240  http://b.thumbs.redditmedia.com/bOadiOyIWVwPdU...   \n",
       "77529                                            default   \n",
       "\n",
       "                                                   title promoted  \\\n",
       "133                  How I feel waiting for Fallout 4...     True   \n",
       "1503                                    Fallout 4 stream     True   \n",
       "1862   In case you need this for the 400 hours of gam...     True   \n",
       "8485   Gaming on a budget? For just $3 a day, you can...     True   \n",
       "8504   Gaming on a budget? For just $3 a day, you can...     True   \n",
       "...                                                  ...      ...   \n",
       "63858  Total War: WARHAMMER II + Bonus Norsca Race DL...     True   \n",
       "73577  Hello Marines, we've got DOOM PC at a huge dis...     True   \n",
       "73908  Chainsaw carver sculpts 8-foot DOOM Revenant s...     True   \n",
       "76240  Hey everyone! My name is James, I recently bec...     True   \n",
       "77529  Hey Doom Gamers - Increase Your FPS With CPUCo...     True   \n",
       "\n",
       "                   search_term       period  \\\n",
       "133                  Fallout 4   pre launch   \n",
       "1503                 Fallout 4   pre launch   \n",
       "1862                 Fallout 4   pre launch   \n",
       "8485                 Fallout 4  post launch   \n",
       "8504                 Fallout 4  post launch   \n",
       "...                        ...          ...   \n",
       "63858  Total War: WARHAMMER II  post launch   \n",
       "73577                     DOOM   pre launch   \n",
       "73908                     DOOM  post launch   \n",
       "76240                     DOOM  post launch   \n",
       "77529                     DOOM  post launch   \n",
       "\n",
       "                                               full_link  author_deleted  \n",
       "133    https://www.reddit.com/comments/3rfx7v/how_i_f...               1  \n",
       "1503   https://www.reddit.com/comments/3rleos/fallout...               0  \n",
       "1862   https://www.reddit.com/comments/3rmwzr/in_case...               0  \n",
       "8485   https://www.reddit.com/comments/3s8nwi/gaming_...               0  \n",
       "8504   https://www.reddit.com/comments/3s8of5/gaming_...               0  \n",
       "...                                                  ...             ...  \n",
       "63858  https://www.reddit.com/comments/73dleg/total_w...               0  \n",
       "73577  https://www.reddit.com/comments/4iv8ib/hello_m...               0  \n",
       "73908  https://www.reddit.com/comments/4j4tb9/chainsa...               0  \n",
       "76240  https://www.reddit.com/comments/4jghgs/hey_eve...               0  \n",
       "77529  https://www.reddit.com/comments/4jon9l/hey_doo...               1  \n",
       "\n",
       "[86 rows x 17 columns]"
      ]
     },
     "execution_count": 22,
     "metadata": {},
     "output_type": "execute_result"
    }
   ],
   "source": [
    "submissions_df[submissions_df['subreddit'].isna()]"
   ]
  },
  {
   "cell_type": "markdown",
   "metadata": {},
   "source": [
    "Looking at the `full_link` it seems as if these are not actual submissions. When clicking the page it leads to a page with no comments, title, or self text. It would be best to drop these rows."
   ]
  },
  {
   "cell_type": "markdown",
   "metadata": {},
   "source": [
    "**Thumbnail**"
   ]
  },
  {
   "cell_type": "code",
   "execution_count": 23,
   "metadata": {
    "ExecuteTime": {
     "end_time": "2021-07-06T12:34:50.304626Z",
     "start_time": "2021-07-06T12:34:50.273372Z"
    }
   },
   "outputs": [
    {
     "data": {
      "text/html": [
       "<div>\n",
       "<style scoped>\n",
       "    .dataframe tbody tr th:only-of-type {\n",
       "        vertical-align: middle;\n",
       "    }\n",
       "\n",
       "    .dataframe tbody tr th {\n",
       "        vertical-align: top;\n",
       "    }\n",
       "\n",
       "    .dataframe thead th {\n",
       "        text-align: right;\n",
       "    }\n",
       "</style>\n",
       "<table border=\"1\" class=\"dataframe\">\n",
       "  <thead>\n",
       "    <tr style=\"text-align: right;\">\n",
       "      <th></th>\n",
       "      <th>author</th>\n",
       "      <th>created_utc</th>\n",
       "      <th>domain</th>\n",
       "      <th>id</th>\n",
       "      <th>is_self</th>\n",
       "      <th>num_comments</th>\n",
       "      <th>over_18</th>\n",
       "      <th>score</th>\n",
       "      <th>selftext</th>\n",
       "      <th>subreddit</th>\n",
       "      <th>thumbnail</th>\n",
       "      <th>title</th>\n",
       "      <th>promoted</th>\n",
       "      <th>search_term</th>\n",
       "      <th>period</th>\n",
       "      <th>full_link</th>\n",
       "      <th>author_deleted</th>\n",
       "    </tr>\n",
       "  </thead>\n",
       "  <tbody>\n",
       "    <tr>\n",
       "      <th>53706</th>\n",
       "      <td>[deleted]</td>\n",
       "      <td>1.285188e+09</td>\n",
       "      <td>guardian.co.uk</td>\n",
       "      <td>dhiky</td>\n",
       "      <td>False</td>\n",
       "      <td>0.0</td>\n",
       "      <td>False</td>\n",
       "      <td>1.0</td>\n",
       "      <td></td>\n",
       "      <td>gaming</td>\n",
       "      <td>NaN</td>\n",
       "      <td>Review: Sid Meier's Civilization V</td>\n",
       "      <td>NaN</td>\n",
       "      <td>Sid Meier's Civilization® V</td>\n",
       "      <td>post launch</td>\n",
       "      <td>https://www.reddit.com/r/gaming/comments/dhiky...</td>\n",
       "      <td>1</td>\n",
       "    </tr>\n",
       "  </tbody>\n",
       "</table>\n",
       "</div>"
      ],
      "text/plain": [
       "          author   created_utc          domain     id is_self  num_comments  \\\n",
       "53706  [deleted]  1.285188e+09  guardian.co.uk  dhiky   False           0.0   \n",
       "\n",
       "      over_18  score selftext subreddit thumbnail  \\\n",
       "53706   False    1.0             gaming       NaN   \n",
       "\n",
       "                                    title promoted  \\\n",
       "53706  Review: Sid Meier's Civilization V      NaN   \n",
       "\n",
       "                       search_term       period  \\\n",
       "53706  Sid Meier's Civilization® V  post launch   \n",
       "\n",
       "                                               full_link  author_deleted  \n",
       "53706  https://www.reddit.com/r/gaming/comments/dhiky...               1  "
      ]
     },
     "execution_count": 23,
     "metadata": {},
     "output_type": "execute_result"
    }
   ],
   "source": [
    "submissions_df[submissions_df['thumbnail'].isna()]"
   ]
  },
  {
   "cell_type": "code",
   "execution_count": 24,
   "metadata": {
    "ExecuteTime": {
     "end_time": "2021-07-06T12:34:50.658828Z",
     "start_time": "2021-07-06T12:34:50.627574Z"
    }
   },
   "outputs": [
    {
     "data": {
      "text/plain": [
       "self                                                                                41040\n",
       "default                                                                             18372\n",
       "nsfw                                                                                 1847\n",
       "spoiler                                                                              1180\n",
       "image                                                                                 636\n",
       "                                                                                    ...  \n",
       "https://a.thumbs.redditmedia.com/AvNI_zeGfgjiQA6FrQo_yCHSCfMyf5Iag9uWr6AKAT0.jpg        1\n",
       "https://b.thumbs.redditmedia.com/GGOheck97XisbIGfrq6THmQnXgEZwaMdUO1nL7vlHWs.jpg        1\n",
       "http://b.thumbs.redditmedia.com/rCVTrPhhBUX0cX3KsARjfvVz7wa1ybo1XMtb3ejHqus.jpg         1\n",
       "https://b.thumbs.redditmedia.com/v2gytE5HY49N04cEaUSt8nLCGiQyCULKi_j4ydp47oU.jpg        1\n",
       "http://thumbs.reddit.com/t3_guvxs.png                                                   1\n",
       "Name: thumbnail, Length: 17338, dtype: int64"
      ]
     },
     "execution_count": 24,
     "metadata": {},
     "output_type": "execute_result"
    }
   ],
   "source": [
    "submissions_df['thumbnail'].value_counts()"
   ]
  },
  {
   "cell_type": "markdown",
   "metadata": {},
   "source": [
    "**Promoted**"
   ]
  },
  {
   "cell_type": "code",
   "execution_count": 25,
   "metadata": {
    "ExecuteTime": {
     "end_time": "2021-07-06T12:34:52.933878Z",
     "start_time": "2021-07-06T12:34:52.911734Z"
    }
   },
   "outputs": [
    {
     "data": {
      "text/plain": [
       "True    473\n",
       "0         2\n",
       "Name: promoted, dtype: int64"
      ]
     },
     "execution_count": 25,
     "metadata": {},
     "output_type": "execute_result"
    }
   ],
   "source": [
    "submissions_df['promoted'].value_counts()"
   ]
  },
  {
   "cell_type": "markdown",
   "metadata": {},
   "source": [
    "Since there are no `False` values for promoted, assume null value are false."
   ]
  },
  {
   "cell_type": "code",
   "execution_count": 26,
   "metadata": {
    "ExecuteTime": {
     "end_time": "2021-07-06T12:34:53.613586Z",
     "start_time": "2021-07-06T12:34:53.597958Z"
    }
   },
   "outputs": [],
   "source": [
    "submissions_df['promoted'].fillna(False, inplace=True)"
   ]
  },
  {
   "cell_type": "markdown",
   "metadata": {},
   "source": [
    "**Final Cleanup**"
   ]
  },
  {
   "cell_type": "code",
   "execution_count": 27,
   "metadata": {
    "ExecuteTime": {
     "end_time": "2021-07-06T12:34:54.252919Z",
     "start_time": "2021-07-06T12:34:54.199530Z"
    }
   },
   "outputs": [
    {
     "data": {
      "text/plain": [
       "author             0\n",
       "created_utc        0\n",
       "domain             3\n",
       "id                 0\n",
       "is_self            0\n",
       "num_comments       0\n",
       "over_18            0\n",
       "score              0\n",
       "selftext           0\n",
       "subreddit         86\n",
       "thumbnail          1\n",
       "title              0\n",
       "promoted           0\n",
       "search_term        0\n",
       "period             0\n",
       "full_link          0\n",
       "author_deleted     0\n",
       "dtype: int64"
      ]
     },
     "execution_count": 27,
     "metadata": {},
     "output_type": "execute_result"
    }
   ],
   "source": [
    "submissions_df.isna().sum()"
   ]
  },
  {
   "cell_type": "code",
   "execution_count": 28,
   "metadata": {
    "ExecuteTime": {
     "end_time": "2021-07-06T12:34:56.173677Z",
     "start_time": "2021-07-06T12:34:56.089026Z"
    }
   },
   "outputs": [
    {
     "name": "stdout",
     "output_type": "stream",
     "text": [
      "(86657, 17)\n",
      "(86567, 17)\n"
     ]
    }
   ],
   "source": [
    "print(submissions_df.shape)\n",
    "submissions_df.dropna(inplace=True)\n",
    "print(submissions_df.shape)"
   ]
  },
  {
   "cell_type": "markdown",
   "metadata": {},
   "source": [
    "### Comments"
   ]
  },
  {
   "cell_type": "code",
   "execution_count": 29,
   "metadata": {
    "ExecuteTime": {
     "end_time": "2021-07-06T12:34:56.806496Z",
     "start_time": "2021-07-06T12:34:56.790868Z"
    }
   },
   "outputs": [
    {
     "data": {
      "text/plain": [
       "(138129, 12)"
      ]
     },
     "execution_count": 29,
     "metadata": {},
     "output_type": "execute_result"
    }
   ],
   "source": [
    "comments_df.shape"
   ]
  },
  {
   "cell_type": "code",
   "execution_count": 30,
   "metadata": {
    "ExecuteTime": {
     "end_time": "2021-07-06T12:34:57.176291Z",
     "start_time": "2021-07-06T12:34:57.160664Z"
    },
    "scrolled": true
   },
   "outputs": [
    {
     "data": {
      "text/html": [
       "<div>\n",
       "<style scoped>\n",
       "    .dataframe tbody tr th:only-of-type {\n",
       "        vertical-align: middle;\n",
       "    }\n",
       "\n",
       "    .dataframe tbody tr th {\n",
       "        vertical-align: top;\n",
       "    }\n",
       "\n",
       "    .dataframe thead th {\n",
       "        text-align: right;\n",
       "    }\n",
       "</style>\n",
       "<table border=\"1\" class=\"dataframe\">\n",
       "  <thead>\n",
       "    <tr style=\"text-align: right;\">\n",
       "      <th></th>\n",
       "      <th>CommentID</th>\n",
       "      <th>AuthorID</th>\n",
       "      <th>Body</th>\n",
       "      <th>CreatedUTC</th>\n",
       "      <th>Distinguished</th>\n",
       "      <th>Edited</th>\n",
       "      <th>IsSubmitter</th>\n",
       "      <th>LinkID</th>\n",
       "      <th>ParentID</th>\n",
       "      <th>Score</th>\n",
       "      <th>Stickied</th>\n",
       "      <th>SubredditID</th>\n",
       "    </tr>\n",
       "  </thead>\n",
       "  <tbody>\n",
       "    <tr>\n",
       "      <th>0</th>\n",
       "      <td>cwnj5aq</td>\n",
       "      <td>5u01v</td>\n",
       "      <td>1. Yes you should be able to run at ultra.\\n2....</td>\n",
       "      <td>1446595365</td>\n",
       "      <td>0.0</td>\n",
       "      <td>0</td>\n",
       "      <td>0</td>\n",
       "      <td>t3_3rf9yg</td>\n",
       "      <td>t3_3rf9yg</td>\n",
       "      <td>2</td>\n",
       "      <td>0</td>\n",
       "      <td>t5_2sgp1</td>\n",
       "    </tr>\n",
       "    <tr>\n",
       "      <th>1</th>\n",
       "      <td>cwnj5cs</td>\n",
       "      <td>axyl0</td>\n",
       "      <td>Your gonna have to wait till the game comes ou...</td>\n",
       "      <td>1446595368</td>\n",
       "      <td>0.0</td>\n",
       "      <td>0</td>\n",
       "      <td>0</td>\n",
       "      <td>t3_3rf9yg</td>\n",
       "      <td>t3_3rf9yg</td>\n",
       "      <td>1</td>\n",
       "      <td>0</td>\n",
       "      <td>t5_2sgp1</td>\n",
       "    </tr>\n",
       "    <tr>\n",
       "      <th>2</th>\n",
       "      <td>cwnj5tv</td>\n",
       "      <td>lc8hr</td>\n",
       "      <td>1. Probably.\\n2. N/A\\n3. Wait for the sale.</td>\n",
       "      <td>1446595389</td>\n",
       "      <td>0.0</td>\n",
       "      <td>0</td>\n",
       "      <td>0</td>\n",
       "      <td>t3_3rf9yg</td>\n",
       "      <td>t3_3rf9yg</td>\n",
       "      <td>0</td>\n",
       "      <td>0</td>\n",
       "      <td>t5_2sgp1</td>\n",
       "    </tr>\n",
       "    <tr>\n",
       "      <th>3</th>\n",
       "      <td>cwnj8h9</td>\n",
       "      <td>db1a5</td>\n",
       "      <td>Alright, thank you!</td>\n",
       "      <td>1446595507</td>\n",
       "      <td>0.0</td>\n",
       "      <td>0</td>\n",
       "      <td>1</td>\n",
       "      <td>t3_3rf9yg</td>\n",
       "      <td>t1_cwnj5aq</td>\n",
       "      <td>1</td>\n",
       "      <td>0</td>\n",
       "      <td>t5_2sgp1</td>\n",
       "    </tr>\n",
       "    <tr>\n",
       "      <th>4</th>\n",
       "      <td>cwnj8jz</td>\n",
       "      <td>7tb54</td>\n",
       "      <td>https://www.youtube.com/watch?v=OyJbSxpjrf8\\n\\...</td>\n",
       "      <td>1446595510</td>\n",
       "      <td>0.0</td>\n",
       "      <td>0</td>\n",
       "      <td>0</td>\n",
       "      <td>t3_3rfaem</td>\n",
       "      <td>t3_3rfaem</td>\n",
       "      <td>1</td>\n",
       "      <td>0</td>\n",
       "      <td>t5_2qnzu</td>\n",
       "    </tr>\n",
       "  </tbody>\n",
       "</table>\n",
       "</div>"
      ],
      "text/plain": [
       "  CommentID AuthorID                                               Body  \\\n",
       "0   cwnj5aq    5u01v  1. Yes you should be able to run at ultra.\\n2....   \n",
       "1   cwnj5cs    axyl0  Your gonna have to wait till the game comes ou...   \n",
       "2   cwnj5tv    lc8hr        1. Probably.\\n2. N/A\\n3. Wait for the sale.   \n",
       "3   cwnj8h9    db1a5                                Alright, thank you!   \n",
       "4   cwnj8jz    7tb54  https://www.youtube.com/watch?v=OyJbSxpjrf8\\n\\...   \n",
       "\n",
       "   CreatedUTC  Distinguished  Edited  IsSubmitter     LinkID    ParentID  \\\n",
       "0  1446595365            0.0       0            0  t3_3rf9yg   t3_3rf9yg   \n",
       "1  1446595368            0.0       0            0  t3_3rf9yg   t3_3rf9yg   \n",
       "2  1446595389            0.0       0            0  t3_3rf9yg   t3_3rf9yg   \n",
       "3  1446595507            0.0       0            1  t3_3rf9yg  t1_cwnj5aq   \n",
       "4  1446595510            0.0       0            0  t3_3rfaem   t3_3rfaem   \n",
       "\n",
       "   Score  Stickied SubredditID  \n",
       "0      2         0    t5_2sgp1  \n",
       "1      1         0    t5_2sgp1  \n",
       "2      0         0    t5_2sgp1  \n",
       "3      1         0    t5_2sgp1  \n",
       "4      1         0    t5_2qnzu  "
      ]
     },
     "execution_count": 30,
     "metadata": {},
     "output_type": "execute_result"
    }
   ],
   "source": [
    "comments_df.head()"
   ]
  },
  {
   "cell_type": "code",
   "execution_count": 31,
   "metadata": {
    "ExecuteTime": {
     "end_time": "2021-07-06T12:34:57.608593Z",
     "start_time": "2021-07-06T12:34:57.530458Z"
    }
   },
   "outputs": [
    {
     "data": {
      "text/plain": [
       "CommentID        0.000000\n",
       "AuthorID         0.164998\n",
       "Body             0.000000\n",
       "CreatedUTC       0.000000\n",
       "Distinguished    0.719226\n",
       "Edited           0.000000\n",
       "IsSubmitter      0.000000\n",
       "LinkID           0.000000\n",
       "ParentID         0.000000\n",
       "Score            0.000000\n",
       "Stickied         0.000000\n",
       "SubredditID      0.000000\n",
       "dtype: float64"
      ]
     },
     "execution_count": 31,
     "metadata": {},
     "output_type": "execute_result"
    }
   ],
   "source": [
    "comments_df.isna().sum() / comments_df.shape[0]"
   ]
  },
  {
   "cell_type": "code",
   "execution_count": 32,
   "metadata": {
    "ExecuteTime": {
     "end_time": "2021-07-06T12:34:59.865438Z",
     "start_time": "2021-07-06T12:34:59.497488Z"
    }
   },
   "outputs": [
    {
     "data": {
      "text/plain": [
       "['Distinguished', 'Stickied']"
      ]
     },
     "execution_count": 32,
     "metadata": {},
     "output_type": "execute_result"
    }
   ],
   "source": [
    "useless_cols = []\n",
    "for col in comments_df.columns:\n",
    "    if len(comments_df[col].value_counts()) < 2:\n",
    "        useless_cols.append(col)\n",
    "useless_cols"
   ]
  },
  {
   "cell_type": "markdown",
   "metadata": {},
   "source": [
    "**AuthorID**\n",
    "\n",
    "If there is no author id the account was deleted.  \n",
    "Author id will be used to count number of comments per author.  "
   ]
  },
  {
   "cell_type": "code",
   "execution_count": 33,
   "metadata": {
    "ExecuteTime": {
     "end_time": "2021-07-06T12:35:00.545137Z",
     "start_time": "2021-07-06T12:35:00.467006Z"
    }
   },
   "outputs": [
    {
     "data": {
      "text/plain": [
       "6l4z3    251\n",
       "in4c5    240\n",
       "e4enr    230\n",
       "olhq8    157\n",
       "euyo5    137\n",
       "        ... \n",
       "5kw10      1\n",
       "is28x      1\n",
       "kghlw      1\n",
       "78bdg      1\n",
       "3xnmi      1\n",
       "Name: AuthorID, Length: 48330, dtype: int64"
      ]
     },
     "execution_count": 33,
     "metadata": {},
     "output_type": "execute_result"
    }
   ],
   "source": [
    "comments_df['AuthorID'].value_counts()"
   ]
  },
  {
   "cell_type": "code",
   "execution_count": 124,
   "metadata": {
    "ExecuteTime": {
     "end_time": "2021-07-06T13:43:24.862733Z",
     "start_time": "2021-07-06T13:43:24.790718Z"
    }
   },
   "outputs": [
    {
     "data": {
      "text/plain": [
       "1    0.835002\n",
       "0    0.164998\n",
       "Name: has_author, dtype: float64"
      ]
     },
     "execution_count": 124,
     "metadata": {},
     "output_type": "execute_result"
    }
   ],
   "source": [
    "comments_df['has_author'] = comments_df['AuthorID'].map(lambda x: 1 \n",
    "                                                        if x else 0)\n",
    "comments_df['has_author'].value_counts(normalize=True)"
   ]
  },
  {
   "cell_type": "markdown",
   "metadata": {},
   "source": [
    "**Distinguished**"
   ]
  },
  {
   "cell_type": "code",
   "execution_count": 35,
   "metadata": {
    "ExecuteTime": {
     "end_time": "2021-07-06T12:35:02.988881Z",
     "start_time": "2021-07-06T12:35:02.966734Z"
    }
   },
   "outputs": [
    {
     "data": {
      "text/plain": [
       "0.0    38783\n",
       "Name: Distinguished, dtype: int64"
      ]
     },
     "execution_count": 35,
     "metadata": {},
     "output_type": "execute_result"
    }
   ],
   "source": [
    "comments_df['Distinguished'].value_counts()"
   ]
  },
  {
   "cell_type": "markdown",
   "metadata": {},
   "source": [
    "`Distinguished` feature is either False or null. Seems best to just drop the column."
   ]
  },
  {
   "cell_type": "code",
   "execution_count": 36,
   "metadata": {
    "ExecuteTime": {
     "end_time": "2021-07-06T12:35:03.590454Z",
     "start_time": "2021-07-06T12:35:03.552683Z"
    }
   },
   "outputs": [],
   "source": [
    "comments_df.drop(columns='Distinguished', inplace=True)"
   ]
  },
  {
   "cell_type": "markdown",
   "metadata": {},
   "source": [
    "**Stickied**"
   ]
  },
  {
   "cell_type": "code",
   "execution_count": 37,
   "metadata": {
    "ExecuteTime": {
     "end_time": "2021-07-06T12:35:04.069632Z",
     "start_time": "2021-07-06T12:35:04.054005Z"
    }
   },
   "outputs": [
    {
     "data": {
      "text/plain": [
       "0    138129\n",
       "Name: Stickied, dtype: int64"
      ]
     },
     "execution_count": 37,
     "metadata": {},
     "output_type": "execute_result"
    }
   ],
   "source": [
    "comments_df['Stickied'].value_counts()"
   ]
  },
  {
   "cell_type": "markdown",
   "metadata": {},
   "source": [
    "Seems wrong but no `Stickied` comments, drop `Stickied` column."
   ]
  },
  {
   "cell_type": "code",
   "execution_count": 38,
   "metadata": {
    "ExecuteTime": {
     "end_time": "2021-07-06T12:35:05.858876Z",
     "start_time": "2021-07-06T12:35:05.796371Z"
    }
   },
   "outputs": [],
   "source": [
    "comments_df.drop(columns='Stickied', inplace=True)"
   ]
  },
  {
   "cell_type": "markdown",
   "metadata": {},
   "source": [
    "### Users"
   ]
  },
  {
   "cell_type": "code",
   "execution_count": 39,
   "metadata": {
    "ExecuteTime": {
     "end_time": "2021-07-06T12:35:06.444829Z",
     "start_time": "2021-07-06T12:35:06.429203Z"
    }
   },
   "outputs": [
    {
     "data": {
      "text/plain": [
       "(48326, 9)"
      ]
     },
     "execution_count": 39,
     "metadata": {},
     "output_type": "execute_result"
    }
   ],
   "source": [
    "users_df.shape"
   ]
  },
  {
   "cell_type": "code",
   "execution_count": 40,
   "metadata": {
    "ExecuteTime": {
     "end_time": "2021-07-06T12:35:06.845876Z",
     "start_time": "2021-07-06T12:35:06.814622Z"
    }
   },
   "outputs": [
    {
     "data": {
      "text/html": [
       "<div>\n",
       "<style scoped>\n",
       "    .dataframe tbody tr th:only-of-type {\n",
       "        vertical-align: middle;\n",
       "    }\n",
       "\n",
       "    .dataframe tbody tr th {\n",
       "        vertical-align: top;\n",
       "    }\n",
       "\n",
       "    .dataframe thead th {\n",
       "        text-align: right;\n",
       "    }\n",
       "</style>\n",
       "<table border=\"1\" class=\"dataframe\">\n",
       "  <thead>\n",
       "    <tr style=\"text-align: right;\">\n",
       "      <th></th>\n",
       "      <th>UserID</th>\n",
       "      <th>CommentKarma</th>\n",
       "      <th>CreatedUTC</th>\n",
       "      <th>VerifiedEmail</th>\n",
       "      <th>IsEmployee</th>\n",
       "      <th>IsMod</th>\n",
       "      <th>IsGold</th>\n",
       "      <th>LinkKarma</th>\n",
       "      <th>Name</th>\n",
       "    </tr>\n",
       "  </thead>\n",
       "  <tbody>\n",
       "    <tr>\n",
       "      <th>0</th>\n",
       "      <td>11r6v</td>\n",
       "      <td>109958</td>\n",
       "      <td>1170109022</td>\n",
       "      <td>1.0</td>\n",
       "      <td>0</td>\n",
       "      <td>1</td>\n",
       "      <td>0</td>\n",
       "      <td>2608</td>\n",
       "      <td>apullin</td>\n",
       "    </tr>\n",
       "    <tr>\n",
       "      <th>1</th>\n",
       "      <td>12kj8</td>\n",
       "      <td>248529</td>\n",
       "      <td>1170444518</td>\n",
       "      <td>1.0</td>\n",
       "      <td>0</td>\n",
       "      <td>0</td>\n",
       "      <td>1</td>\n",
       "      <td>28625</td>\n",
       "      <td>antillus</td>\n",
       "    </tr>\n",
       "    <tr>\n",
       "      <th>2</th>\n",
       "      <td>12tkh</td>\n",
       "      <td>108198</td>\n",
       "      <td>1170611837</td>\n",
       "      <td>1.0</td>\n",
       "      <td>0</td>\n",
       "      <td>1</td>\n",
       "      <td>0</td>\n",
       "      <td>48457</td>\n",
       "      <td>THEMACGOD</td>\n",
       "    </tr>\n",
       "    <tr>\n",
       "      <th>3</th>\n",
       "      <td>139sx</td>\n",
       "      <td>81138</td>\n",
       "      <td>1170827928</td>\n",
       "      <td>1.0</td>\n",
       "      <td>0</td>\n",
       "      <td>0</td>\n",
       "      <td>0</td>\n",
       "      <td>5823</td>\n",
       "      <td>puttysan</td>\n",
       "    </tr>\n",
       "    <tr>\n",
       "      <th>4</th>\n",
       "      <td>13vj2</td>\n",
       "      <td>46809</td>\n",
       "      <td>1171137029</td>\n",
       "      <td>1.0</td>\n",
       "      <td>0</td>\n",
       "      <td>1</td>\n",
       "      <td>0</td>\n",
       "      <td>5203</td>\n",
       "      <td>andrejevas</td>\n",
       "    </tr>\n",
       "  </tbody>\n",
       "</table>\n",
       "</div>"
      ],
      "text/plain": [
       "  UserID  CommentKarma  CreatedUTC  VerifiedEmail  IsEmployee  IsMod  IsGold  \\\n",
       "0  11r6v        109958  1170109022            1.0           0      1       0   \n",
       "1  12kj8        248529  1170444518            1.0           0      0       1   \n",
       "2  12tkh        108198  1170611837            1.0           0      1       0   \n",
       "3  139sx         81138  1170827928            1.0           0      0       0   \n",
       "4  13vj2         46809  1171137029            1.0           0      1       0   \n",
       "\n",
       "   LinkKarma        Name  \n",
       "0       2608     apullin  \n",
       "1      28625    antillus  \n",
       "2      48457   THEMACGOD  \n",
       "3       5823    puttysan  \n",
       "4       5203  andrejevas  "
      ]
     },
     "execution_count": 40,
     "metadata": {},
     "output_type": "execute_result"
    }
   ],
   "source": [
    "users_df.head()"
   ]
  },
  {
   "cell_type": "code",
   "execution_count": 41,
   "metadata": {
    "ExecuteTime": {
     "end_time": "2021-07-06T12:35:07.131035Z",
     "start_time": "2021-07-06T12:35:07.115407Z"
    }
   },
   "outputs": [
    {
     "data": {
      "text/plain": [
       "UserID             0\n",
       "CommentKarma       0\n",
       "CreatedUTC         0\n",
       "VerifiedEmail    224\n",
       "IsEmployee         0\n",
       "IsMod              0\n",
       "IsGold             0\n",
       "LinkKarma          0\n",
       "Name               0\n",
       "dtype: int64"
      ]
     },
     "execution_count": 41,
     "metadata": {},
     "output_type": "execute_result"
    }
   ],
   "source": [
    "users_df.isna().sum()"
   ]
  },
  {
   "cell_type": "markdown",
   "metadata": {},
   "source": [
    "**VerifiedEmail**"
   ]
  },
  {
   "cell_type": "code",
   "execution_count": 42,
   "metadata": {
    "ExecuteTime": {
     "end_time": "2021-07-06T12:35:09.706817Z",
     "start_time": "2021-07-06T12:35:09.684674Z"
    }
   },
   "outputs": [
    {
     "data": {
      "text/plain": [
       "1.0    40691\n",
       "0.0     7411\n",
       "Name: VerifiedEmail, dtype: int64"
      ]
     },
     "execution_count": 42,
     "metadata": {},
     "output_type": "execute_result"
    }
   ],
   "source": [
    "users_df['VerifiedEmail'].value_counts()"
   ]
  },
  {
   "cell_type": "code",
   "execution_count": 43,
   "metadata": {
    "ExecuteTime": {
     "end_time": "2021-07-06T12:35:10.123494Z",
     "start_time": "2021-07-06T12:35:10.092237Z"
    }
   },
   "outputs": [],
   "source": [
    "users_df.dropna(inplace=True)"
   ]
  },
  {
   "cell_type": "markdown",
   "metadata": {},
   "source": [
    "## Exploratory Data Analysis"
   ]
  },
  {
   "cell_type": "markdown",
   "metadata": {},
   "source": [
    "### Dates  \n",
    "Convert epoch dates to datetime and pull out the Year, Month, Day of Week, and Hour."
   ]
  },
  {
   "cell_type": "code",
   "execution_count": 44,
   "metadata": {
    "ExecuteTime": {
     "end_time": "2021-07-06T12:35:12.977950Z",
     "start_time": "2021-07-06T12:35:12.893306Z"
    }
   },
   "outputs": [],
   "source": [
    "submissions_df = convert_epoch(submissions_df, 'created_utc')\n",
    "comments_df = convert_epoch(comments_df, 'CreatedUTC')\n",
    "users_df = convert_epoch(users_df, 'CreatedUTC')"
   ]
  },
  {
   "cell_type": "markdown",
   "metadata": {},
   "source": [
    "### Submissions EDA  \n"
   ]
  },
  {
   "cell_type": "code",
   "execution_count": 45,
   "metadata": {
    "ExecuteTime": {
     "end_time": "2021-07-06T12:35:14.234559Z",
     "start_time": "2021-07-06T12:35:14.203295Z"
    }
   },
   "outputs": [
    {
     "data": {
      "text/html": [
       "<div>\n",
       "<style scoped>\n",
       "    .dataframe tbody tr th:only-of-type {\n",
       "        vertical-align: middle;\n",
       "    }\n",
       "\n",
       "    .dataframe tbody tr th {\n",
       "        vertical-align: top;\n",
       "    }\n",
       "\n",
       "    .dataframe thead th {\n",
       "        text-align: right;\n",
       "    }\n",
       "</style>\n",
       "<table border=\"1\" class=\"dataframe\">\n",
       "  <thead>\n",
       "    <tr style=\"text-align: right;\">\n",
       "      <th></th>\n",
       "      <th>author</th>\n",
       "      <th>created_utc</th>\n",
       "      <th>domain</th>\n",
       "      <th>id</th>\n",
       "      <th>is_self</th>\n",
       "      <th>num_comments</th>\n",
       "      <th>over_18</th>\n",
       "      <th>score</th>\n",
       "      <th>selftext</th>\n",
       "      <th>subreddit</th>\n",
       "      <th>thumbnail</th>\n",
       "      <th>title</th>\n",
       "      <th>promoted</th>\n",
       "      <th>search_term</th>\n",
       "      <th>period</th>\n",
       "      <th>full_link</th>\n",
       "      <th>author_deleted</th>\n",
       "      <th>created_date</th>\n",
       "      <th>created_day_of_week</th>\n",
       "      <th>created_hour</th>\n",
       "    </tr>\n",
       "  </thead>\n",
       "  <tbody>\n",
       "    <tr>\n",
       "      <th>0</th>\n",
       "      <td>watisdisanywais</td>\n",
       "      <td>1.446595e+09</td>\n",
       "      <td>self.Fallout</td>\n",
       "      <td>3rf9t3</td>\n",
       "      <td>True</td>\n",
       "      <td>13.0</td>\n",
       "      <td>False</td>\n",
       "      <td>0.0</td>\n",
       "      <td>Well guys, out of curiosity, I called my local...</td>\n",
       "      <td>Fallout</td>\n",
       "      <td>self</td>\n",
       "      <td>Picking up your copy early</td>\n",
       "      <td>False</td>\n",
       "      <td>Fallout 4</td>\n",
       "      <td>pre launch</td>\n",
       "      <td>https://www.reddit.com/r/Fallout/comments/3rf9...</td>\n",
       "      <td>0</td>\n",
       "      <td>2015-11-04 00:00:07</td>\n",
       "      <td>2</td>\n",
       "      <td>0</td>\n",
       "    </tr>\n",
       "    <tr>\n",
       "      <th>1</th>\n",
       "      <td>fatyg5</td>\n",
       "      <td>1.446595e+09</td>\n",
       "      <td>self.pcmasterrace</td>\n",
       "      <td>3rf9yg</td>\n",
       "      <td>True</td>\n",
       "      <td>13.0</td>\n",
       "      <td>False</td>\n",
       "      <td>0.0</td>\n",
       "      <td>1. Will my PC run it decently well? Important ...</td>\n",
       "      <td>pcmasterrace</td>\n",
       "      <td>self</td>\n",
       "      <td>Fallout 4 Questions</td>\n",
       "      <td>False</td>\n",
       "      <td>Fallout 4</td>\n",
       "      <td>pre launch</td>\n",
       "      <td>https://www.reddit.com/r/pcmasterrace/comments...</td>\n",
       "      <td>0</td>\n",
       "      <td>2015-11-04 00:01:01</td>\n",
       "      <td>2</td>\n",
       "      <td>0</td>\n",
       "    </tr>\n",
       "    <tr>\n",
       "      <th>2</th>\n",
       "      <td>Rodolfo619</td>\n",
       "      <td>1.446595e+09</td>\n",
       "      <td>self.Fallout</td>\n",
       "      <td>3rfaem</td>\n",
       "      <td>True</td>\n",
       "      <td>10.0</td>\n",
       "      <td>False</td>\n",
       "      <td>0.0</td>\n",
       "      <td>I'm planning on buying fallout 4 but I've neve...</td>\n",
       "      <td>Fallout</td>\n",
       "      <td>self</td>\n",
       "      <td>Noob question regarding the lore/story of the ...</td>\n",
       "      <td>False</td>\n",
       "      <td>Fallout 4</td>\n",
       "      <td>pre launch</td>\n",
       "      <td>https://www.reddit.com/r/Fallout/comments/3rfa...</td>\n",
       "      <td>0</td>\n",
       "      <td>2015-11-04 00:04:22</td>\n",
       "      <td>2</td>\n",
       "      <td>0</td>\n",
       "    </tr>\n",
       "    <tr>\n",
       "      <th>3</th>\n",
       "      <td>INBREEDCLOWN</td>\n",
       "      <td>1.446596e+09</td>\n",
       "      <td>self.fo4</td>\n",
       "      <td>3rfai7</td>\n",
       "      <td>True</td>\n",
       "      <td>0.0</td>\n",
       "      <td>False</td>\n",
       "      <td>1.0</td>\n",
       "      <td>[removed]</td>\n",
       "      <td>fo4</td>\n",
       "      <td>default</td>\n",
       "      <td>M1 Garand in fallout 4</td>\n",
       "      <td>False</td>\n",
       "      <td>Fallout 4</td>\n",
       "      <td>pre launch</td>\n",
       "      <td>https://www.reddit.com/r/fo4/comments/3rfai7/m...</td>\n",
       "      <td>0</td>\n",
       "      <td>2015-11-04 00:05:05</td>\n",
       "      <td>2</td>\n",
       "      <td>0</td>\n",
       "    </tr>\n",
       "    <tr>\n",
       "      <th>4</th>\n",
       "      <td>pyjamapants8</td>\n",
       "      <td>1.446596e+09</td>\n",
       "      <td>youtube.com</td>\n",
       "      <td>3rfame</td>\n",
       "      <td>False</td>\n",
       "      <td>2.0</td>\n",
       "      <td>False</td>\n",
       "      <td>4.0</td>\n",
       "      <td></td>\n",
       "      <td>VGCovers</td>\n",
       "      <td>http://b.thumbs.redditmedia.com/WZv98MQXwi13jP...</td>\n",
       "      <td>Fallout 4 - Main Theme [Cover] - 'War Never Ch...</td>\n",
       "      <td>False</td>\n",
       "      <td>Fallout 4</td>\n",
       "      <td>pre launch</td>\n",
       "      <td>https://www.reddit.com/r/VGCovers/comments/3rf...</td>\n",
       "      <td>0</td>\n",
       "      <td>2015-11-04 00:05:47</td>\n",
       "      <td>2</td>\n",
       "      <td>0</td>\n",
       "    </tr>\n",
       "  </tbody>\n",
       "</table>\n",
       "</div>"
      ],
      "text/plain": [
       "            author   created_utc             domain      id is_self  \\\n",
       "0  watisdisanywais  1.446595e+09       self.Fallout  3rf9t3    True   \n",
       "1           fatyg5  1.446595e+09  self.pcmasterrace  3rf9yg    True   \n",
       "2       Rodolfo619  1.446595e+09       self.Fallout  3rfaem    True   \n",
       "3     INBREEDCLOWN  1.446596e+09           self.fo4  3rfai7    True   \n",
       "4     pyjamapants8  1.446596e+09        youtube.com  3rfame   False   \n",
       "\n",
       "   num_comments over_18  score  \\\n",
       "0          13.0   False    0.0   \n",
       "1          13.0   False    0.0   \n",
       "2          10.0   False    0.0   \n",
       "3           0.0   False    1.0   \n",
       "4           2.0   False    4.0   \n",
       "\n",
       "                                            selftext     subreddit  \\\n",
       "0  Well guys, out of curiosity, I called my local...       Fallout   \n",
       "1  1. Will my PC run it decently well? Important ...  pcmasterrace   \n",
       "2  I'm planning on buying fallout 4 but I've neve...       Fallout   \n",
       "3                                          [removed]           fo4   \n",
       "4                                                         VGCovers   \n",
       "\n",
       "                                           thumbnail  \\\n",
       "0                                               self   \n",
       "1                                               self   \n",
       "2                                               self   \n",
       "3                                            default   \n",
       "4  http://b.thumbs.redditmedia.com/WZv98MQXwi13jP...   \n",
       "\n",
       "                                               title promoted search_term  \\\n",
       "0                         Picking up your copy early    False   Fallout 4   \n",
       "1                                Fallout 4 Questions    False   Fallout 4   \n",
       "2  Noob question regarding the lore/story of the ...    False   Fallout 4   \n",
       "3                             M1 Garand in fallout 4    False   Fallout 4   \n",
       "4  Fallout 4 - Main Theme [Cover] - 'War Never Ch...    False   Fallout 4   \n",
       "\n",
       "       period                                          full_link  \\\n",
       "0  pre launch  https://www.reddit.com/r/Fallout/comments/3rf9...   \n",
       "1  pre launch  https://www.reddit.com/r/pcmasterrace/comments...   \n",
       "2  pre launch  https://www.reddit.com/r/Fallout/comments/3rfa...   \n",
       "3  pre launch  https://www.reddit.com/r/fo4/comments/3rfai7/m...   \n",
       "4  pre launch  https://www.reddit.com/r/VGCovers/comments/3rf...   \n",
       "\n",
       "   author_deleted        created_date  created_day_of_week  created_hour  \n",
       "0               0 2015-11-04 00:00:07                    2             0  \n",
       "1               0 2015-11-04 00:01:01                    2             0  \n",
       "2               0 2015-11-04 00:04:22                    2             0  \n",
       "3               0 2015-11-04 00:05:05                    2             0  \n",
       "4               0 2015-11-04 00:05:47                    2             0  "
      ]
     },
     "execution_count": 45,
     "metadata": {},
     "output_type": "execute_result"
    }
   ],
   "source": [
    "submissions_df.head()"
   ]
  },
  {
   "cell_type": "code",
   "execution_count": 46,
   "metadata": {
    "ExecuteTime": {
     "end_time": "2021-07-06T12:35:14.566586Z",
     "start_time": "2021-07-06T12:35:14.519706Z"
    }
   },
   "outputs": [
    {
     "data": {
      "text/html": [
       "<div>\n",
       "<style scoped>\n",
       "    .dataframe tbody tr th:only-of-type {\n",
       "        vertical-align: middle;\n",
       "    }\n",
       "\n",
       "    .dataframe tbody tr th {\n",
       "        vertical-align: top;\n",
       "    }\n",
       "\n",
       "    .dataframe thead th {\n",
       "        text-align: right;\n",
       "    }\n",
       "</style>\n",
       "<table border=\"1\" class=\"dataframe\">\n",
       "  <thead>\n",
       "    <tr style=\"text-align: right;\">\n",
       "      <th></th>\n",
       "      <th>created_utc</th>\n",
       "      <th>num_comments</th>\n",
       "      <th>score</th>\n",
       "      <th>author_deleted</th>\n",
       "      <th>created_day_of_week</th>\n",
       "      <th>created_hour</th>\n",
       "    </tr>\n",
       "  </thead>\n",
       "  <tbody>\n",
       "    <tr>\n",
       "      <th>count</th>\n",
       "      <td>8.656700e+04</td>\n",
       "      <td>86567.000000</td>\n",
       "      <td>86567.000000</td>\n",
       "      <td>86567.000000</td>\n",
       "      <td>86567.000000</td>\n",
       "      <td>86567.000000</td>\n",
       "    </tr>\n",
       "    <tr>\n",
       "      <th>mean</th>\n",
       "      <td>1.507930e+09</td>\n",
       "      <td>14.534823</td>\n",
       "      <td>16.052884</td>\n",
       "      <td>0.097855</td>\n",
       "      <td>3.148763</td>\n",
       "      <td>12.492439</td>\n",
       "    </tr>\n",
       "    <tr>\n",
       "      <th>std</th>\n",
       "      <td>9.262344e+07</td>\n",
       "      <td>130.253320</td>\n",
       "      <td>171.569382</td>\n",
       "      <td>0.297120</td>\n",
       "      <td>1.922842</td>\n",
       "      <td>7.232351</td>\n",
       "    </tr>\n",
       "    <tr>\n",
       "      <th>min</th>\n",
       "      <td>0.000000e+00</td>\n",
       "      <td>0.000000</td>\n",
       "      <td>0.000000</td>\n",
       "      <td>0.000000</td>\n",
       "      <td>0.000000</td>\n",
       "      <td>0.000000</td>\n",
       "    </tr>\n",
       "    <tr>\n",
       "      <th>25%</th>\n",
       "      <td>1.447190e+09</td>\n",
       "      <td>0.000000</td>\n",
       "      <td>1.000000</td>\n",
       "      <td>0.000000</td>\n",
       "      <td>1.000000</td>\n",
       "      <td>6.000000</td>\n",
       "    </tr>\n",
       "    <tr>\n",
       "      <th>50%</th>\n",
       "      <td>1.463430e+09</td>\n",
       "      <td>2.000000</td>\n",
       "      <td>1.000000</td>\n",
       "      <td>0.000000</td>\n",
       "      <td>3.000000</td>\n",
       "      <td>14.000000</td>\n",
       "    </tr>\n",
       "    <tr>\n",
       "      <th>75%</th>\n",
       "      <td>1.607565e+09</td>\n",
       "      <td>7.000000</td>\n",
       "      <td>1.000000</td>\n",
       "      <td>0.000000</td>\n",
       "      <td>5.000000</td>\n",
       "      <td>19.000000</td>\n",
       "    </tr>\n",
       "    <tr>\n",
       "      <th>max</th>\n",
       "      <td>1.612742e+09</td>\n",
       "      <td>16057.000000</td>\n",
       "      <td>9631.000000</td>\n",
       "      <td>1.000000</td>\n",
       "      <td>6.000000</td>\n",
       "      <td>23.000000</td>\n",
       "    </tr>\n",
       "  </tbody>\n",
       "</table>\n",
       "</div>"
      ],
      "text/plain": [
       "        created_utc  num_comments         score  author_deleted  \\\n",
       "count  8.656700e+04  86567.000000  86567.000000    86567.000000   \n",
       "mean   1.507930e+09     14.534823     16.052884        0.097855   \n",
       "std    9.262344e+07    130.253320    171.569382        0.297120   \n",
       "min    0.000000e+00      0.000000      0.000000        0.000000   \n",
       "25%    1.447190e+09      0.000000      1.000000        0.000000   \n",
       "50%    1.463430e+09      2.000000      1.000000        0.000000   \n",
       "75%    1.607565e+09      7.000000      1.000000        0.000000   \n",
       "max    1.612742e+09  16057.000000   9631.000000        1.000000   \n",
       "\n",
       "       created_day_of_week  created_hour  \n",
       "count         86567.000000  86567.000000  \n",
       "mean              3.148763     12.492439  \n",
       "std               1.922842      7.232351  \n",
       "min               0.000000      0.000000  \n",
       "25%               1.000000      6.000000  \n",
       "50%               3.000000     14.000000  \n",
       "75%               5.000000     19.000000  \n",
       "max               6.000000     23.000000  "
      ]
     },
     "execution_count": 46,
     "metadata": {},
     "output_type": "execute_result"
    }
   ],
   "source": [
    "submissions_df.describe()"
   ]
  },
  {
   "cell_type": "code",
   "execution_count": 47,
   "metadata": {
    "ExecuteTime": {
     "end_time": "2021-07-06T12:35:18.610093Z",
     "start_time": "2021-07-06T12:35:17.990939Z"
    }
   },
   "outputs": [
    {
     "data": {
      "image/png": "[encoded data removed]",
      "text/plain": [
       "<Figure size 720x720 with 9 Axes>"
      ]
     },
     "metadata": {
      "needs_background": "light"
     },
     "output_type": "display_data"
    }
   ],
   "source": [
    "submissions_df.hist(figsize=(10, 10))\n",
    "plt.tight_layout;"
   ]
  },
  {
   "cell_type": "code",
   "execution_count": 121,
   "metadata": {
    "ExecuteTime": {
     "end_time": "2021-07-06T13:30:24.429777Z",
     "start_time": "2021-07-06T13:30:24.383768Z"
    }
   },
   "outputs": [
    {
     "data": {
      "text/html": [
       "<div>\n",
       "<style scoped>\n",
       "    .dataframe tbody tr th:only-of-type {\n",
       "        vertical-align: middle;\n",
       "    }\n",
       "\n",
       "    .dataframe tbody tr th {\n",
       "        vertical-align: top;\n",
       "    }\n",
       "\n",
       "    .dataframe thead th {\n",
       "        text-align: right;\n",
       "    }\n",
       "</style>\n",
       "<table border=\"1\" class=\"dataframe\">\n",
       "  <thead>\n",
       "    <tr style=\"text-align: right;\">\n",
       "      <th>created_day_of_week</th>\n",
       "      <th>0</th>\n",
       "      <th>1</th>\n",
       "      <th>2</th>\n",
       "      <th>3</th>\n",
       "      <th>4</th>\n",
       "      <th>5</th>\n",
       "      <th>6</th>\n",
       "    </tr>\n",
       "  </thead>\n",
       "  <tbody>\n",
       "    <tr>\n",
       "      <th>created_utc</th>\n",
       "      <td>1.570243e+09</td>\n",
       "      <td>1.470062e+09</td>\n",
       "      <td>1.439982e+09</td>\n",
       "      <td>1.513651e+09</td>\n",
       "      <td>1.516470e+09</td>\n",
       "      <td>1.513106e+09</td>\n",
       "      <td>1.535674e+09</td>\n",
       "    </tr>\n",
       "    <tr>\n",
       "      <th>num_comments</th>\n",
       "      <td>1.791634e+01</td>\n",
       "      <td>1.252932e+01</td>\n",
       "      <td>1.447891e+01</td>\n",
       "      <td>1.746991e+01</td>\n",
       "      <td>1.441979e+01</td>\n",
       "      <td>1.259376e+01</td>\n",
       "      <td>1.378308e+01</td>\n",
       "    </tr>\n",
       "    <tr>\n",
       "      <th>score</th>\n",
       "      <td>8.542528e+00</td>\n",
       "      <td>1.540613e+01</td>\n",
       "      <td>2.621551e+01</td>\n",
       "      <td>1.639107e+01</td>\n",
       "      <td>1.751123e+01</td>\n",
       "      <td>1.578127e+01</td>\n",
       "      <td>1.247650e+01</td>\n",
       "    </tr>\n",
       "    <tr>\n",
       "      <th>author_deleted</th>\n",
       "      <td>2.411714e-02</td>\n",
       "      <td>1.410393e-01</td>\n",
       "      <td>1.624420e-01</td>\n",
       "      <td>9.866017e-02</td>\n",
       "      <td>9.106314e-02</td>\n",
       "      <td>9.493373e-02</td>\n",
       "      <td>6.279435e-02</td>\n",
       "    </tr>\n",
       "    <tr>\n",
       "      <th>created_hour</th>\n",
       "      <td>1.310950e+01</td>\n",
       "      <td>1.242020e+01</td>\n",
       "      <td>1.247072e+01</td>\n",
       "      <td>1.188031e+01</td>\n",
       "      <td>1.268526e+01</td>\n",
       "      <td>1.227390e+01</td>\n",
       "      <td>1.278798e+01</td>\n",
       "    </tr>\n",
       "  </tbody>\n",
       "</table>\n",
       "</div>"
      ],
      "text/plain": [
       "created_day_of_week             0             1             2             3  \\\n",
       "created_utc          1.570243e+09  1.470062e+09  1.439982e+09  1.513651e+09   \n",
       "num_comments         1.791634e+01  1.252932e+01  1.447891e+01  1.746991e+01   \n",
       "score                8.542528e+00  1.540613e+01  2.621551e+01  1.639107e+01   \n",
       "author_deleted       2.411714e-02  1.410393e-01  1.624420e-01  9.866017e-02   \n",
       "created_hour         1.310950e+01  1.242020e+01  1.247072e+01  1.188031e+01   \n",
       "\n",
       "created_day_of_week             4             5             6  \n",
       "created_utc          1.516470e+09  1.513106e+09  1.535674e+09  \n",
       "num_comments         1.441979e+01  1.259376e+01  1.378308e+01  \n",
       "score                1.751123e+01  1.578127e+01  1.247650e+01  \n",
       "author_deleted       9.106314e-02  9.493373e-02  6.279435e-02  \n",
       "created_hour         1.268526e+01  1.227390e+01  1.278798e+01  "
      ]
     },
     "execution_count": 121,
     "metadata": {},
     "output_type": "execute_result"
    }
   ],
   "source": [
    "submissions_df.groupby(by='created_day_of_week').mean().T"
   ]
  },
  {
   "cell_type": "code",
   "execution_count": 48,
   "metadata": {
    "ExecuteTime": {
     "end_time": "2021-07-06T12:35:23.420801Z",
     "start_time": "2021-07-06T12:35:23.342668Z"
    }
   },
   "outputs": [
    {
     "data": {
      "text/html": [
       "<div>\n",
       "<style scoped>\n",
       "    .dataframe tbody tr th:only-of-type {\n",
       "        vertical-align: middle;\n",
       "    }\n",
       "\n",
       "    .dataframe tbody tr th {\n",
       "        vertical-align: top;\n",
       "    }\n",
       "\n",
       "    .dataframe thead th {\n",
       "        text-align: right;\n",
       "    }\n",
       "</style>\n",
       "<table border=\"1\" class=\"dataframe\">\n",
       "  <thead>\n",
       "    <tr style=\"text-align: right;\">\n",
       "      <th></th>\n",
       "      <th>created_utc</th>\n",
       "      <th>num_comments</th>\n",
       "      <th>score</th>\n",
       "      <th>author_deleted</th>\n",
       "      <th>created_day_of_week</th>\n",
       "      <th>created_hour</th>\n",
       "    </tr>\n",
       "    <tr>\n",
       "      <th>domain</th>\n",
       "      <th></th>\n",
       "      <th></th>\n",
       "      <th></th>\n",
       "      <th></th>\n",
       "      <th></th>\n",
       "      <th></th>\n",
       "    </tr>\n",
       "  </thead>\n",
       "  <tbody>\n",
       "    <tr>\n",
       "      <th>0</th>\n",
       "      <td>0.000000e+00</td>\n",
       "      <td>0.0</td>\n",
       "      <td>0.0</td>\n",
       "      <td>0.0</td>\n",
       "      <td>3.0</td>\n",
       "      <td>0.0</td>\n",
       "    </tr>\n",
       "    <tr>\n",
       "      <th>/comments/brv5gp/only_strength_can_rule_only_fools_think_otherwise/</th>\n",
       "      <td>1.558564e+09</td>\n",
       "      <td>1.0</td>\n",
       "      <td>10.0</td>\n",
       "      <td>0.0</td>\n",
       "      <td>2.0</td>\n",
       "      <td>22.0</td>\n",
       "    </tr>\n",
       "    <tr>\n",
       "      <th>/comments/brv60q/do_you_have_what_it_takes_to_unite_china_and/</th>\n",
       "      <td>1.558564e+09</td>\n",
       "      <td>0.0</td>\n",
       "      <td>11.0</td>\n",
       "      <td>0.0</td>\n",
       "      <td>2.0</td>\n",
       "      <td>22.0</td>\n",
       "    </tr>\n",
       "    <tr>\n",
       "      <th>/comments/brv6wr/do_you_have_what_it_takes_to_unite_china_and/</th>\n",
       "      <td>1.558564e+09</td>\n",
       "      <td>2.0</td>\n",
       "      <td>12.0</td>\n",
       "      <td>0.0</td>\n",
       "      <td>2.0</td>\n",
       "      <td>22.0</td>\n",
       "    </tr>\n",
       "    <tr>\n",
       "      <th>/comments/brv7dv/only_strength_can_rule_only_fools_think_otherwise/</th>\n",
       "      <td>1.558564e+09</td>\n",
       "      <td>1.0</td>\n",
       "      <td>9.0</td>\n",
       "      <td>0.0</td>\n",
       "      <td>2.0</td>\n",
       "      <td>22.0</td>\n",
       "    </tr>\n",
       "    <tr>\n",
       "      <th>...</th>\n",
       "      <td>...</td>\n",
       "      <td>...</td>\n",
       "      <td>...</td>\n",
       "      <td>...</td>\n",
       "      <td>...</td>\n",
       "      <td>...</td>\n",
       "    </tr>\n",
       "    <tr>\n",
       "      <th>zakodia.deviantart.com</th>\n",
       "      <td>1.363980e+09</td>\n",
       "      <td>0.0</td>\n",
       "      <td>6.5</td>\n",
       "      <td>0.5</td>\n",
       "      <td>4.0</td>\n",
       "      <td>18.5</td>\n",
       "    </tr>\n",
       "    <tr>\n",
       "      <th>zam.com</th>\n",
       "      <td>1.460588e+09</td>\n",
       "      <td>4.0</td>\n",
       "      <td>14.0</td>\n",
       "      <td>0.0</td>\n",
       "      <td>2.0</td>\n",
       "      <td>22.0</td>\n",
       "    </tr>\n",
       "    <tr>\n",
       "      <th>zappinternet.com</th>\n",
       "      <td>1.302907e+09</td>\n",
       "      <td>1.0</td>\n",
       "      <td>0.0</td>\n",
       "      <td>1.0</td>\n",
       "      <td>4.0</td>\n",
       "      <td>22.0</td>\n",
       "    </tr>\n",
       "    <tr>\n",
       "      <th>zerolives.com</th>\n",
       "      <td>1.463322e+09</td>\n",
       "      <td>10.0</td>\n",
       "      <td>0.0</td>\n",
       "      <td>0.0</td>\n",
       "      <td>6.0</td>\n",
       "      <td>14.0</td>\n",
       "    </tr>\n",
       "    <tr>\n",
       "      <th>zippyshare.com</th>\n",
       "      <td>1.463449e+09</td>\n",
       "      <td>11.0</td>\n",
       "      <td>17.0</td>\n",
       "      <td>0.0</td>\n",
       "      <td>1.0</td>\n",
       "      <td>1.0</td>\n",
       "    </tr>\n",
       "  </tbody>\n",
       "</table>\n",
       "<p>6891 rows × 6 columns</p>\n",
       "</div>"
      ],
      "text/plain": [
       "                                                     created_utc  \\\n",
       "domain                                                             \n",
       "0                                                   0.000000e+00   \n",
       "/comments/brv5gp/only_strength_can_rule_only_fo...  1.558564e+09   \n",
       "/comments/brv60q/do_you_have_what_it_takes_to_u...  1.558564e+09   \n",
       "/comments/brv6wr/do_you_have_what_it_takes_to_u...  1.558564e+09   \n",
       "/comments/brv7dv/only_strength_can_rule_only_fo...  1.558564e+09   \n",
       "...                                                          ...   \n",
       "zakodia.deviantart.com                              1.363980e+09   \n",
       "zam.com                                             1.460588e+09   \n",
       "zappinternet.com                                    1.302907e+09   \n",
       "zerolives.com                                       1.463322e+09   \n",
       "zippyshare.com                                      1.463449e+09   \n",
       "\n",
       "                                                    num_comments  score  \\\n",
       "domain                                                                    \n",
       "0                                                            0.0    0.0   \n",
       "/comments/brv5gp/only_strength_can_rule_only_fo...           1.0   10.0   \n",
       "/comments/brv60q/do_you_have_what_it_takes_to_u...           0.0   11.0   \n",
       "/comments/brv6wr/do_you_have_what_it_takes_to_u...           2.0   12.0   \n",
       "/comments/brv7dv/only_strength_can_rule_only_fo...           1.0    9.0   \n",
       "...                                                          ...    ...   \n",
       "zakodia.deviantart.com                                       0.0    6.5   \n",
       "zam.com                                                      4.0   14.0   \n",
       "zappinternet.com                                             1.0    0.0   \n",
       "zerolives.com                                               10.0    0.0   \n",
       "zippyshare.com                                              11.0   17.0   \n",
       "\n",
       "                                                    author_deleted  \\\n",
       "domain                                                               \n",
       "0                                                              0.0   \n",
       "/comments/brv5gp/only_strength_can_rule_only_fo...             0.0   \n",
       "/comments/brv60q/do_you_have_what_it_takes_to_u...             0.0   \n",
       "/comments/brv6wr/do_you_have_what_it_takes_to_u...             0.0   \n",
       "/comments/brv7dv/only_strength_can_rule_only_fo...             0.0   \n",
       "...                                                            ...   \n",
       "zakodia.deviantart.com                                         0.5   \n",
       "zam.com                                                        0.0   \n",
       "zappinternet.com                                               1.0   \n",
       "zerolives.com                                                  0.0   \n",
       "zippyshare.com                                                 0.0   \n",
       "\n",
       "                                                    created_day_of_week  \\\n",
       "domain                                                                    \n",
       "0                                                                   3.0   \n",
       "/comments/brv5gp/only_strength_can_rule_only_fo...                  2.0   \n",
       "/comments/brv60q/do_you_have_what_it_takes_to_u...                  2.0   \n",
       "/comments/brv6wr/do_you_have_what_it_takes_to_u...                  2.0   \n",
       "/comments/brv7dv/only_strength_can_rule_only_fo...                  2.0   \n",
       "...                                                                 ...   \n",
       "zakodia.deviantart.com                                              4.0   \n",
       "zam.com                                                             2.0   \n",
       "zappinternet.com                                                    4.0   \n",
       "zerolives.com                                                       6.0   \n",
       "zippyshare.com                                                      1.0   \n",
       "\n",
       "                                                    created_hour  \n",
       "domain                                                            \n",
       "0                                                            0.0  \n",
       "/comments/brv5gp/only_strength_can_rule_only_fo...          22.0  \n",
       "/comments/brv60q/do_you_have_what_it_takes_to_u...          22.0  \n",
       "/comments/brv6wr/do_you_have_what_it_takes_to_u...          22.0  \n",
       "/comments/brv7dv/only_strength_can_rule_only_fo...          22.0  \n",
       "...                                                          ...  \n",
       "zakodia.deviantart.com                                      18.5  \n",
       "zam.com                                                     22.0  \n",
       "zappinternet.com                                            22.0  \n",
       "zerolives.com                                               14.0  \n",
       "zippyshare.com                                               1.0  \n",
       "\n",
       "[6891 rows x 6 columns]"
      ]
     },
     "execution_count": 48,
     "metadata": {},
     "output_type": "execute_result"
    }
   ],
   "source": [
    "submissions_df.groupby(by='domain').mean()"
   ]
  },
  {
   "cell_type": "code",
   "execution_count": 122,
   "metadata": {
    "ExecuteTime": {
     "end_time": "2021-07-06T13:33:13.637342Z",
     "start_time": "2021-07-06T13:33:13.628340Z"
    }
   },
   "outputs": [
    {
     "data": {
      "text/plain": [
       "Index(['author', 'created_utc', 'domain', 'id', 'is_self', 'num_comments',\n",
       "       'over_18', 'score', 'selftext', 'subreddit', 'thumbnail', 'title',\n",
       "       'promoted', 'search_term', 'period', 'full_link', 'author_deleted',\n",
       "       'created_date', 'created_day_of_week', 'created_hour'],\n",
       "      dtype='object')"
      ]
     },
     "execution_count": 122,
     "metadata": {},
     "output_type": "execute_result"
    }
   ],
   "source": [
    "submissions_df.columns"
   ]
  },
  {
   "cell_type": "code",
   "execution_count": 135,
   "metadata": {
    "ExecuteTime": {
     "end_time": "2021-07-06T13:56:11.054268Z",
     "start_time": "2021-07-06T13:56:11.020261Z"
    }
   },
   "outputs": [
    {
     "ename": "DataError",
     "evalue": "No numeric types to aggregate",
     "output_type": "error",
     "traceback": [
      "\u001b[1;31m---------------------------------------------------------------------------\u001b[0m",
      "\u001b[1;31mDataError\u001b[0m                                 Traceback (most recent call last)",
      "\u001b[1;32m<ipython-input-135-a9e0ccabc209>\u001b[0m in \u001b[0;36m<module>\u001b[1;34m\u001b[0m\n\u001b[0;32m      2\u001b[0m     \u001b[1;32mreturn\u001b[0m \u001b[1;32mlambda\u001b[0m \u001b[0mx\u001b[0m\u001b[1;33m:\u001b[0m \u001b[1;34m' '\u001b[0m\u001b[1;33m.\u001b[0m\u001b[0mjoin\u001b[0m\u001b[1;33m(\u001b[0m\u001b[0mx\u001b[0m\u001b[1;33m)\u001b[0m\u001b[1;33m\u001b[0m\u001b[1;33m\u001b[0m\u001b[0m\n\u001b[0;32m      3\u001b[0m \u001b[1;33m\u001b[0m\u001b[0m\n\u001b[1;32m----> 4\u001b[1;33m submissions_df.groupby(by='author').agg({\n\u001b[0m\u001b[0;32m      5\u001b[0m     \u001b[1;34m'is_self'\u001b[0m\u001b[1;33m:\u001b[0m \u001b[1;34m'mean'\u001b[0m\u001b[1;33m,\u001b[0m\u001b[1;33m\u001b[0m\u001b[1;33m\u001b[0m\u001b[0m\n\u001b[0;32m      6\u001b[0m     \u001b[1;34m'num_comments'\u001b[0m\u001b[1;33m:\u001b[0m \u001b[1;34m'mean'\u001b[0m\u001b[1;33m,\u001b[0m\u001b[1;33m\u001b[0m\u001b[1;33m\u001b[0m\u001b[0m\n",
      "\u001b[1;32m~\\anaconda3\\envs\\ga-dsir-capstone\\lib\\site-packages\\pandas\\core\\groupby\\generic.py\u001b[0m in \u001b[0;36maggregate\u001b[1;34m(self, func, engine, engine_kwargs, *args, **kwargs)\u001b[0m\n\u001b[0;32m    943\u001b[0m         \u001b[0mfunc\u001b[0m \u001b[1;33m=\u001b[0m \u001b[0mmaybe_mangle_lambdas\u001b[0m\u001b[1;33m(\u001b[0m\u001b[0mfunc\u001b[0m\u001b[1;33m)\u001b[0m\u001b[1;33m\u001b[0m\u001b[1;33m\u001b[0m\u001b[0m\n\u001b[0;32m    944\u001b[0m \u001b[1;33m\u001b[0m\u001b[0m\n\u001b[1;32m--> 945\u001b[1;33m         \u001b[0mresult\u001b[0m\u001b[1;33m,\u001b[0m \u001b[0mhow\u001b[0m \u001b[1;33m=\u001b[0m \u001b[0maggregate\u001b[0m\u001b[1;33m(\u001b[0m\u001b[0mself\u001b[0m\u001b[1;33m,\u001b[0m \u001b[0mfunc\u001b[0m\u001b[1;33m,\u001b[0m \u001b[1;33m*\u001b[0m\u001b[0margs\u001b[0m\u001b[1;33m,\u001b[0m \u001b[1;33m**\u001b[0m\u001b[0mkwargs\u001b[0m\u001b[1;33m)\u001b[0m\u001b[1;33m\u001b[0m\u001b[1;33m\u001b[0m\u001b[0m\n\u001b[0m\u001b[0;32m    946\u001b[0m         \u001b[1;32mif\u001b[0m \u001b[0mhow\u001b[0m \u001b[1;32mis\u001b[0m \u001b[1;32mNone\u001b[0m\u001b[1;33m:\u001b[0m\u001b[1;33m\u001b[0m\u001b[1;33m\u001b[0m\u001b[0m\n\u001b[0;32m    947\u001b[0m             \u001b[1;32mreturn\u001b[0m \u001b[0mresult\u001b[0m\u001b[1;33m\u001b[0m\u001b[1;33m\u001b[0m\u001b[0m\n",
      "\u001b[1;32m~\\anaconda3\\envs\\ga-dsir-capstone\\lib\\site-packages\\pandas\\core\\aggregation.py\u001b[0m in \u001b[0;36maggregate\u001b[1;34m(obj, arg, *args, **kwargs)\u001b[0m\n\u001b[0;32m    580\u001b[0m     \u001b[1;32melif\u001b[0m \u001b[0mis_dict_like\u001b[0m\u001b[1;33m(\u001b[0m\u001b[0marg\u001b[0m\u001b[1;33m)\u001b[0m\u001b[1;33m:\u001b[0m\u001b[1;33m\u001b[0m\u001b[1;33m\u001b[0m\u001b[0m\n\u001b[0;32m    581\u001b[0m         \u001b[0marg\u001b[0m \u001b[1;33m=\u001b[0m \u001b[0mcast\u001b[0m\u001b[1;33m(\u001b[0m\u001b[0mAggFuncTypeDict\u001b[0m\u001b[1;33m,\u001b[0m \u001b[0marg\u001b[0m\u001b[1;33m)\u001b[0m\u001b[1;33m\u001b[0m\u001b[1;33m\u001b[0m\u001b[0m\n\u001b[1;32m--> 582\u001b[1;33m         \u001b[1;32mreturn\u001b[0m \u001b[0magg_dict_like\u001b[0m\u001b[1;33m(\u001b[0m\u001b[0mobj\u001b[0m\u001b[1;33m,\u001b[0m \u001b[0marg\u001b[0m\u001b[1;33m,\u001b[0m \u001b[0m_axis\u001b[0m\u001b[1;33m)\u001b[0m\u001b[1;33m,\u001b[0m \u001b[1;32mTrue\u001b[0m\u001b[1;33m\u001b[0m\u001b[1;33m\u001b[0m\u001b[0m\n\u001b[0m\u001b[0;32m    583\u001b[0m     \u001b[1;32melif\u001b[0m \u001b[0mis_list_like\u001b[0m\u001b[1;33m(\u001b[0m\u001b[0marg\u001b[0m\u001b[1;33m)\u001b[0m\u001b[1;33m:\u001b[0m\u001b[1;33m\u001b[0m\u001b[1;33m\u001b[0m\u001b[0m\n\u001b[0;32m    584\u001b[0m         \u001b[1;31m# we require a list, but not an 'str'\u001b[0m\u001b[1;33m\u001b[0m\u001b[1;33m\u001b[0m\u001b[1;33m\u001b[0m\u001b[0m\n",
      "\u001b[1;32m~\\anaconda3\\envs\\ga-dsir-capstone\\lib\\site-packages\\pandas\\core\\aggregation.py\u001b[0m in \u001b[0;36magg_dict_like\u001b[1;34m(obj, arg, _axis)\u001b[0m\n\u001b[0;32m    766\u001b[0m     \u001b[1;32melse\u001b[0m\u001b[1;33m:\u001b[0m\u001b[1;33m\u001b[0m\u001b[1;33m\u001b[0m\u001b[0m\n\u001b[0;32m    767\u001b[0m         \u001b[1;31m# key used for column selection and output\u001b[0m\u001b[1;33m\u001b[0m\u001b[1;33m\u001b[0m\u001b[1;33m\u001b[0m\u001b[0m\n\u001b[1;32m--> 768\u001b[1;33m         \u001b[0mresults\u001b[0m \u001b[1;33m=\u001b[0m \u001b[1;33m{\u001b[0m\u001b[0mkey\u001b[0m\u001b[1;33m:\u001b[0m \u001b[0mobj\u001b[0m\u001b[1;33m.\u001b[0m\u001b[0m_gotitem\u001b[0m\u001b[1;33m(\u001b[0m\u001b[0mkey\u001b[0m\u001b[1;33m,\u001b[0m \u001b[0mndim\u001b[0m\u001b[1;33m=\u001b[0m\u001b[1;36m1\u001b[0m\u001b[1;33m)\u001b[0m\u001b[1;33m.\u001b[0m\u001b[0magg\u001b[0m\u001b[1;33m(\u001b[0m\u001b[0mhow\u001b[0m\u001b[1;33m)\u001b[0m \u001b[1;32mfor\u001b[0m \u001b[0mkey\u001b[0m\u001b[1;33m,\u001b[0m \u001b[0mhow\u001b[0m \u001b[1;32min\u001b[0m \u001b[0marg\u001b[0m\u001b[1;33m.\u001b[0m\u001b[0mitems\u001b[0m\u001b[1;33m(\u001b[0m\u001b[1;33m)\u001b[0m\u001b[1;33m}\u001b[0m\u001b[1;33m\u001b[0m\u001b[1;33m\u001b[0m\u001b[0m\n\u001b[0m\u001b[0;32m    769\u001b[0m \u001b[1;33m\u001b[0m\u001b[0m\n\u001b[0;32m    770\u001b[0m     \u001b[1;31m# set the final keys\u001b[0m\u001b[1;33m\u001b[0m\u001b[1;33m\u001b[0m\u001b[1;33m\u001b[0m\u001b[0m\n",
      "\u001b[1;32m~\\anaconda3\\envs\\ga-dsir-capstone\\lib\\site-packages\\pandas\\core\\aggregation.py\u001b[0m in \u001b[0;36m<dictcomp>\u001b[1;34m(.0)\u001b[0m\n\u001b[0;32m    766\u001b[0m     \u001b[1;32melse\u001b[0m\u001b[1;33m:\u001b[0m\u001b[1;33m\u001b[0m\u001b[1;33m\u001b[0m\u001b[0m\n\u001b[0;32m    767\u001b[0m         \u001b[1;31m# key used for column selection and output\u001b[0m\u001b[1;33m\u001b[0m\u001b[1;33m\u001b[0m\u001b[1;33m\u001b[0m\u001b[0m\n\u001b[1;32m--> 768\u001b[1;33m         \u001b[0mresults\u001b[0m \u001b[1;33m=\u001b[0m \u001b[1;33m{\u001b[0m\u001b[0mkey\u001b[0m\u001b[1;33m:\u001b[0m \u001b[0mobj\u001b[0m\u001b[1;33m.\u001b[0m\u001b[0m_gotitem\u001b[0m\u001b[1;33m(\u001b[0m\u001b[0mkey\u001b[0m\u001b[1;33m,\u001b[0m \u001b[0mndim\u001b[0m\u001b[1;33m=\u001b[0m\u001b[1;36m1\u001b[0m\u001b[1;33m)\u001b[0m\u001b[1;33m.\u001b[0m\u001b[0magg\u001b[0m\u001b[1;33m(\u001b[0m\u001b[0mhow\u001b[0m\u001b[1;33m)\u001b[0m \u001b[1;32mfor\u001b[0m \u001b[0mkey\u001b[0m\u001b[1;33m,\u001b[0m \u001b[0mhow\u001b[0m \u001b[1;32min\u001b[0m \u001b[0marg\u001b[0m\u001b[1;33m.\u001b[0m\u001b[0mitems\u001b[0m\u001b[1;33m(\u001b[0m\u001b[1;33m)\u001b[0m\u001b[1;33m}\u001b[0m\u001b[1;33m\u001b[0m\u001b[1;33m\u001b[0m\u001b[0m\n\u001b[0m\u001b[0;32m    769\u001b[0m \u001b[1;33m\u001b[0m\u001b[0m\n\u001b[0;32m    770\u001b[0m     \u001b[1;31m# set the final keys\u001b[0m\u001b[1;33m\u001b[0m\u001b[1;33m\u001b[0m\u001b[1;33m\u001b[0m\u001b[0m\n",
      "\u001b[1;32m~\\anaconda3\\envs\\ga-dsir-capstone\\lib\\site-packages\\pandas\\core\\groupby\\generic.py\u001b[0m in \u001b[0;36maggregate\u001b[1;34m(self, func, engine, engine_kwargs, *args, **kwargs)\u001b[0m\n\u001b[0;32m    239\u001b[0m \u001b[1;33m\u001b[0m\u001b[0m\n\u001b[0;32m    240\u001b[0m         \u001b[1;32mif\u001b[0m \u001b[0misinstance\u001b[0m\u001b[1;33m(\u001b[0m\u001b[0mfunc\u001b[0m\u001b[1;33m,\u001b[0m \u001b[0mstr\u001b[0m\u001b[1;33m)\u001b[0m\u001b[1;33m:\u001b[0m\u001b[1;33m\u001b[0m\u001b[1;33m\u001b[0m\u001b[0m\n\u001b[1;32m--> 241\u001b[1;33m             \u001b[1;32mreturn\u001b[0m \u001b[0mgetattr\u001b[0m\u001b[1;33m(\u001b[0m\u001b[0mself\u001b[0m\u001b[1;33m,\u001b[0m \u001b[0mfunc\u001b[0m\u001b[1;33m)\u001b[0m\u001b[1;33m(\u001b[0m\u001b[1;33m*\u001b[0m\u001b[0margs\u001b[0m\u001b[1;33m,\u001b[0m \u001b[1;33m**\u001b[0m\u001b[0mkwargs\u001b[0m\u001b[1;33m)\u001b[0m\u001b[1;33m\u001b[0m\u001b[1;33m\u001b[0m\u001b[0m\n\u001b[0m\u001b[0;32m    242\u001b[0m \u001b[1;33m\u001b[0m\u001b[0m\n\u001b[0;32m    243\u001b[0m         \u001b[1;32melif\u001b[0m \u001b[0misinstance\u001b[0m\u001b[1;33m(\u001b[0m\u001b[0mfunc\u001b[0m\u001b[1;33m,\u001b[0m \u001b[0mabc\u001b[0m\u001b[1;33m.\u001b[0m\u001b[0mIterable\u001b[0m\u001b[1;33m)\u001b[0m\u001b[1;33m:\u001b[0m\u001b[1;33m\u001b[0m\u001b[1;33m\u001b[0m\u001b[0m\n",
      "\u001b[1;32m~\\anaconda3\\envs\\ga-dsir-capstone\\lib\\site-packages\\pandas\\core\\groupby\\groupby.py\u001b[0m in \u001b[0;36mmean\u001b[1;34m(self, numeric_only)\u001b[0m\n\u001b[0;32m   1494\u001b[0m         \u001b[0mName\u001b[0m\u001b[1;33m:\u001b[0m \u001b[0mB\u001b[0m\u001b[1;33m,\u001b[0m \u001b[0mdtype\u001b[0m\u001b[1;33m:\u001b[0m \u001b[0mfloat64\u001b[0m\u001b[1;33m\u001b[0m\u001b[1;33m\u001b[0m\u001b[0m\n\u001b[0;32m   1495\u001b[0m         \"\"\"\n\u001b[1;32m-> 1496\u001b[1;33m         return self._cython_agg_general(\n\u001b[0m\u001b[0;32m   1497\u001b[0m             \u001b[1;34m\"mean\"\u001b[0m\u001b[1;33m,\u001b[0m\u001b[1;33m\u001b[0m\u001b[1;33m\u001b[0m\u001b[0m\n\u001b[0;32m   1498\u001b[0m             \u001b[0malt\u001b[0m\u001b[1;33m=\u001b[0m\u001b[1;32mlambda\u001b[0m \u001b[0mx\u001b[0m\u001b[1;33m,\u001b[0m \u001b[0maxis\u001b[0m\u001b[1;33m:\u001b[0m \u001b[0mSeries\u001b[0m\u001b[1;33m(\u001b[0m\u001b[0mx\u001b[0m\u001b[1;33m)\u001b[0m\u001b[1;33m.\u001b[0m\u001b[0mmean\u001b[0m\u001b[1;33m(\u001b[0m\u001b[0mnumeric_only\u001b[0m\u001b[1;33m=\u001b[0m\u001b[0mnumeric_only\u001b[0m\u001b[1;33m)\u001b[0m\u001b[1;33m,\u001b[0m\u001b[1;33m\u001b[0m\u001b[1;33m\u001b[0m\u001b[0m\n",
      "\u001b[1;32m~\\anaconda3\\envs\\ga-dsir-capstone\\lib\\site-packages\\pandas\\core\\groupby\\groupby.py\u001b[0m in \u001b[0;36m_cython_agg_general\u001b[1;34m(self, how, alt, numeric_only, min_count)\u001b[0m\n\u001b[0;32m   1079\u001b[0m \u001b[1;33m\u001b[0m\u001b[0m\n\u001b[0;32m   1080\u001b[0m         \u001b[1;32mif\u001b[0m \u001b[1;32mnot\u001b[0m \u001b[0moutput\u001b[0m\u001b[1;33m:\u001b[0m\u001b[1;33m\u001b[0m\u001b[1;33m\u001b[0m\u001b[0m\n\u001b[1;32m-> 1081\u001b[1;33m             \u001b[1;32mraise\u001b[0m \u001b[0mDataError\u001b[0m\u001b[1;33m(\u001b[0m\u001b[1;34m\"No numeric types to aggregate\"\u001b[0m\u001b[1;33m)\u001b[0m\u001b[1;33m\u001b[0m\u001b[1;33m\u001b[0m\u001b[0m\n\u001b[0m\u001b[0;32m   1082\u001b[0m \u001b[1;33m\u001b[0m\u001b[0m\n\u001b[0;32m   1083\u001b[0m         \u001b[1;32mreturn\u001b[0m \u001b[0mself\u001b[0m\u001b[1;33m.\u001b[0m\u001b[0m_wrap_aggregated_output\u001b[0m\u001b[1;33m(\u001b[0m\u001b[0moutput\u001b[0m\u001b[1;33m,\u001b[0m \u001b[0mindex\u001b[0m\u001b[1;33m=\u001b[0m\u001b[0mself\u001b[0m\u001b[1;33m.\u001b[0m\u001b[0mgrouper\u001b[0m\u001b[1;33m.\u001b[0m\u001b[0mresult_index\u001b[0m\u001b[1;33m)\u001b[0m\u001b[1;33m\u001b[0m\u001b[1;33m\u001b[0m\u001b[0m\n",
      "\u001b[1;31mDataError\u001b[0m: No numeric types to aggregate"
     ]
    }
   ],
   "source": [
    "def join_text(series):\n",
    "    return lambda x: ' '.join(x)\n",
    "\n",
    "submissions_df.groupby(by='author').agg({\n",
    "    'is_self': 'mean',\n",
    "    'num_comments': 'mean',\n",
    "    'score': 'mean',\n",
    "    'selftext': lambda x: ' '.join(x),\n",
    "    'subreddit': lambda x: ' '.join(x),\n",
    "    'title': lambda x: ' '.join(x)\n",
    "})"
   ]
  },
  {
   "cell_type": "code",
   "execution_count": null,
   "metadata": {},
   "outputs": [],
   "source": []
  },
  {
   "cell_type": "markdown",
   "metadata": {},
   "source": [
    "### Comments EDA"
   ]
  },
  {
   "cell_type": "code",
   "execution_count": 125,
   "metadata": {
    "ExecuteTime": {
     "end_time": "2021-07-06T13:43:31.495741Z",
     "start_time": "2021-07-06T13:43:31.479738Z"
    }
   },
   "outputs": [
    {
     "data": {
      "text/plain": [
       "Index(['CommentID', 'AuthorID', 'Body', 'CreatedUTC', 'Edited', 'IsSubmitter',\n",
       "       'LinkID', 'ParentID', 'Score', 'SubredditID', 'has_author',\n",
       "       'created_date', 'created_day_of_week', 'created_hour', 'body_length'],\n",
       "      dtype='object')"
      ]
     },
     "execution_count": 125,
     "metadata": {},
     "output_type": "execute_result"
    }
   ],
   "source": [
    "comments_df.columns"
   ]
  },
  {
   "cell_type": "code",
   "execution_count": 126,
   "metadata": {
    "ExecuteTime": {
     "end_time": "2021-07-06T13:43:31.717773Z",
     "start_time": "2021-07-06T13:43:31.654759Z"
    }
   },
   "outputs": [],
   "source": [
    "comments_df['body_length'] = comments_df['Body'].apply(lambda x: len(x))"
   ]
  },
  {
   "cell_type": "code",
   "execution_count": 127,
   "metadata": {
    "ExecuteTime": {
     "end_time": "2021-07-06T13:43:31.874793Z",
     "start_time": "2021-07-06T13:43:31.823781Z"
    }
   },
   "outputs": [
    {
     "data": {
      "text/html": [
       "<div>\n",
       "<style scoped>\n",
       "    .dataframe tbody tr th:only-of-type {\n",
       "        vertical-align: middle;\n",
       "    }\n",
       "\n",
       "    .dataframe tbody tr th {\n",
       "        vertical-align: top;\n",
       "    }\n",
       "\n",
       "    .dataframe thead th {\n",
       "        text-align: right;\n",
       "    }\n",
       "</style>\n",
       "<table border=\"1\" class=\"dataframe\">\n",
       "  <thead>\n",
       "    <tr style=\"text-align: right;\">\n",
       "      <th></th>\n",
       "      <th>CreatedUTC</th>\n",
       "      <th>Edited</th>\n",
       "      <th>IsSubmitter</th>\n",
       "      <th>Score</th>\n",
       "      <th>has_author</th>\n",
       "      <th>created_day_of_week</th>\n",
       "      <th>created_hour</th>\n",
       "      <th>body_length</th>\n",
       "    </tr>\n",
       "  </thead>\n",
       "  <tbody>\n",
       "    <tr>\n",
       "      <th>count</th>\n",
       "      <td>1.381290e+05</td>\n",
       "      <td>138129.000000</td>\n",
       "      <td>138129.000000</td>\n",
       "      <td>138129.000000</td>\n",
       "      <td>138129.000000</td>\n",
       "      <td>138129.000000</td>\n",
       "      <td>138129.000000</td>\n",
       "      <td>138129.000000</td>\n",
       "    </tr>\n",
       "    <tr>\n",
       "      <th>mean</th>\n",
       "      <td>1.446843e+09</td>\n",
       "      <td>4.512564</td>\n",
       "      <td>0.054572</td>\n",
       "      <td>5.492257</td>\n",
       "      <td>0.835002</td>\n",
       "      <td>3.853304</td>\n",
       "      <td>12.391504</td>\n",
       "      <td>137.347842</td>\n",
       "    </tr>\n",
       "    <tr>\n",
       "      <th>std</th>\n",
       "      <td>4.540854e+05</td>\n",
       "      <td>23.510347</td>\n",
       "      <td>0.227144</td>\n",
       "      <td>47.426538</td>\n",
       "      <td>0.371180</td>\n",
       "      <td>1.483871</td>\n",
       "      <td>7.302182</td>\n",
       "      <td>252.040316</td>\n",
       "    </tr>\n",
       "    <tr>\n",
       "      <th>min</th>\n",
       "      <td>1.446595e+09</td>\n",
       "      <td>0.000000</td>\n",
       "      <td>0.000000</td>\n",
       "      <td>-214.000000</td>\n",
       "      <td>0.000000</td>\n",
       "      <td>0.000000</td>\n",
       "      <td>0.000000</td>\n",
       "      <td>0.000000</td>\n",
       "    </tr>\n",
       "    <tr>\n",
       "      <th>25%</th>\n",
       "      <td>1.446725e+09</td>\n",
       "      <td>0.000000</td>\n",
       "      <td>0.000000</td>\n",
       "      <td>1.000000</td>\n",
       "      <td>1.000000</td>\n",
       "      <td>3.000000</td>\n",
       "      <td>5.000000</td>\n",
       "      <td>25.000000</td>\n",
       "    </tr>\n",
       "    <tr>\n",
       "      <th>50%</th>\n",
       "      <td>1.446810e+09</td>\n",
       "      <td>0.000000</td>\n",
       "      <td>0.000000</td>\n",
       "      <td>1.000000</td>\n",
       "      <td>1.000000</td>\n",
       "      <td>4.000000</td>\n",
       "      <td>14.000000</td>\n",
       "      <td>69.000000</td>\n",
       "    </tr>\n",
       "    <tr>\n",
       "      <th>75%</th>\n",
       "      <td>1.446933e+09</td>\n",
       "      <td>0.000000</td>\n",
       "      <td>0.000000</td>\n",
       "      <td>2.000000</td>\n",
       "      <td>1.000000</td>\n",
       "      <td>5.000000</td>\n",
       "      <td>19.000000</td>\n",
       "      <td>155.000000</td>\n",
       "    </tr>\n",
       "    <tr>\n",
       "      <th>max</th>\n",
       "      <td>1.557539e+09</td>\n",
       "      <td>127.000000</td>\n",
       "      <td>1.000000</td>\n",
       "      <td>5792.000000</td>\n",
       "      <td>1.000000</td>\n",
       "      <td>6.000000</td>\n",
       "      <td>23.000000</td>\n",
       "      <td>9997.000000</td>\n",
       "    </tr>\n",
       "  </tbody>\n",
       "</table>\n",
       "</div>"
      ],
      "text/plain": [
       "         CreatedUTC         Edited    IsSubmitter          Score  \\\n",
       "count  1.381290e+05  138129.000000  138129.000000  138129.000000   \n",
       "mean   1.446843e+09       4.512564       0.054572       5.492257   \n",
       "std    4.540854e+05      23.510347       0.227144      47.426538   \n",
       "min    1.446595e+09       0.000000       0.000000    -214.000000   \n",
       "25%    1.446725e+09       0.000000       0.000000       1.000000   \n",
       "50%    1.446810e+09       0.000000       0.000000       1.000000   \n",
       "75%    1.446933e+09       0.000000       0.000000       2.000000   \n",
       "max    1.557539e+09     127.000000       1.000000    5792.000000   \n",
       "\n",
       "          has_author  created_day_of_week   created_hour    body_length  \n",
       "count  138129.000000        138129.000000  138129.000000  138129.000000  \n",
       "mean        0.835002             3.853304      12.391504     137.347842  \n",
       "std         0.371180             1.483871       7.302182     252.040316  \n",
       "min         0.000000             0.000000       0.000000       0.000000  \n",
       "25%         1.000000             3.000000       5.000000      25.000000  \n",
       "50%         1.000000             4.000000      14.000000      69.000000  \n",
       "75%         1.000000             5.000000      19.000000     155.000000  \n",
       "max         1.000000             6.000000      23.000000    9997.000000  "
      ]
     },
     "execution_count": 127,
     "metadata": {},
     "output_type": "execute_result"
    }
   ],
   "source": [
    "comments_df.describe()"
   ]
  },
  {
   "cell_type": "code",
   "execution_count": 58,
   "metadata": {
    "ExecuteTime": {
     "end_time": "2021-07-06T12:36:05.397957Z",
     "start_time": "2021-07-06T12:36:05.382339Z"
    }
   },
   "outputs": [
    {
     "data": {
      "text/plain": [
       "(137.3478415104721, 252.04031554688527)"
      ]
     },
     "execution_count": 58,
     "metadata": {},
     "output_type": "execute_result"
    }
   ],
   "source": [
    "comments_df['body_length'].mean(), comments_df['body_length'].std()"
   ]
  },
  {
   "cell_type": "code",
   "execution_count": 129,
   "metadata": {
    "ExecuteTime": {
     "end_time": "2021-07-06T13:44:01.717433Z",
     "start_time": "2021-07-06T13:44:01.707430Z"
    }
   },
   "outputs": [
    {
     "data": {
      "text/plain": [
       "0      0.964468\n",
       "127    0.035532\n",
       "Name: Edited, dtype: float64"
      ]
     },
     "execution_count": 129,
     "metadata": {},
     "output_type": "execute_result"
    }
   ],
   "source": [
    "comments_df['Edited'].value_counts(normalize=True)"
   ]
  },
  {
   "cell_type": "code",
   "execution_count": 130,
   "metadata": {
    "ExecuteTime": {
     "end_time": "2021-07-06T13:44:08.178222Z",
     "start_time": "2021-07-06T13:44:08.171220Z"
    }
   },
   "outputs": [
    {
     "data": {
      "text/plain": [
       "0    0.945428\n",
       "1    0.054572\n",
       "Name: IsSubmitter, dtype: float64"
      ]
     },
     "execution_count": 130,
     "metadata": {},
     "output_type": "execute_result"
    }
   ],
   "source": [
    "comments_df['IsSubmitter'].value_counts(normalize=True)"
   ]
  },
  {
   "cell_type": "markdown",
   "metadata": {},
   "source": [
    "### Users EDA\n",
    "* TODO parse out bots"
   ]
  },
  {
   "cell_type": "code",
   "execution_count": 65,
   "metadata": {
    "ExecuteTime": {
     "end_time": "2021-07-06T12:37:11.315721Z",
     "start_time": "2021-07-06T12:37:11.300094Z"
    }
   },
   "outputs": [
    {
     "data": {
      "text/html": [
       "<div>\n",
       "<style scoped>\n",
       "    .dataframe tbody tr th:only-of-type {\n",
       "        vertical-align: middle;\n",
       "    }\n",
       "\n",
       "    .dataframe tbody tr th {\n",
       "        vertical-align: top;\n",
       "    }\n",
       "\n",
       "    .dataframe thead th {\n",
       "        text-align: right;\n",
       "    }\n",
       "</style>\n",
       "<table border=\"1\" class=\"dataframe\">\n",
       "  <thead>\n",
       "    <tr style=\"text-align: right;\">\n",
       "      <th></th>\n",
       "      <th>UserID</th>\n",
       "      <th>CommentKarma</th>\n",
       "      <th>CreatedUTC</th>\n",
       "      <th>VerifiedEmail</th>\n",
       "      <th>IsEmployee</th>\n",
       "      <th>IsMod</th>\n",
       "      <th>IsGold</th>\n",
       "      <th>LinkKarma</th>\n",
       "      <th>Name</th>\n",
       "      <th>created_date</th>\n",
       "      <th>created_day_of_week</th>\n",
       "      <th>created_hour</th>\n",
       "    </tr>\n",
       "  </thead>\n",
       "  <tbody>\n",
       "    <tr>\n",
       "      <th>0</th>\n",
       "      <td>11r6v</td>\n",
       "      <td>109958</td>\n",
       "      <td>1170109022</td>\n",
       "      <td>1.0</td>\n",
       "      <td>0</td>\n",
       "      <td>1</td>\n",
       "      <td>0</td>\n",
       "      <td>2608</td>\n",
       "      <td>apullin</td>\n",
       "      <td>2007-01-29 22:17:02</td>\n",
       "      <td>0</td>\n",
       "      <td>22</td>\n",
       "    </tr>\n",
       "    <tr>\n",
       "      <th>1</th>\n",
       "      <td>12kj8</td>\n",
       "      <td>248529</td>\n",
       "      <td>1170444518</td>\n",
       "      <td>1.0</td>\n",
       "      <td>0</td>\n",
       "      <td>0</td>\n",
       "      <td>1</td>\n",
       "      <td>28625</td>\n",
       "      <td>antillus</td>\n",
       "      <td>2007-02-02 19:28:38</td>\n",
       "      <td>4</td>\n",
       "      <td>19</td>\n",
       "    </tr>\n",
       "    <tr>\n",
       "      <th>2</th>\n",
       "      <td>12tkh</td>\n",
       "      <td>108198</td>\n",
       "      <td>1170611837</td>\n",
       "      <td>1.0</td>\n",
       "      <td>0</td>\n",
       "      <td>1</td>\n",
       "      <td>0</td>\n",
       "      <td>48457</td>\n",
       "      <td>THEMACGOD</td>\n",
       "      <td>2007-02-04 17:57:17</td>\n",
       "      <td>6</td>\n",
       "      <td>17</td>\n",
       "    </tr>\n",
       "    <tr>\n",
       "      <th>3</th>\n",
       "      <td>139sx</td>\n",
       "      <td>81138</td>\n",
       "      <td>1170827928</td>\n",
       "      <td>1.0</td>\n",
       "      <td>0</td>\n",
       "      <td>0</td>\n",
       "      <td>0</td>\n",
       "      <td>5823</td>\n",
       "      <td>puttysan</td>\n",
       "      <td>2007-02-07 05:58:48</td>\n",
       "      <td>2</td>\n",
       "      <td>5</td>\n",
       "    </tr>\n",
       "    <tr>\n",
       "      <th>4</th>\n",
       "      <td>13vj2</td>\n",
       "      <td>46809</td>\n",
       "      <td>1171137029</td>\n",
       "      <td>1.0</td>\n",
       "      <td>0</td>\n",
       "      <td>1</td>\n",
       "      <td>0</td>\n",
       "      <td>5203</td>\n",
       "      <td>andrejevas</td>\n",
       "      <td>2007-02-10 19:50:29</td>\n",
       "      <td>5</td>\n",
       "      <td>19</td>\n",
       "    </tr>\n",
       "  </tbody>\n",
       "</table>\n",
       "</div>"
      ],
      "text/plain": [
       "  UserID  CommentKarma  CreatedUTC  VerifiedEmail  IsEmployee  IsMod  IsGold  \\\n",
       "0  11r6v        109958  1170109022            1.0           0      1       0   \n",
       "1  12kj8        248529  1170444518            1.0           0      0       1   \n",
       "2  12tkh        108198  1170611837            1.0           0      1       0   \n",
       "3  139sx         81138  1170827928            1.0           0      0       0   \n",
       "4  13vj2         46809  1171137029            1.0           0      1       0   \n",
       "\n",
       "   LinkKarma        Name        created_date  created_day_of_week  \\\n",
       "0       2608     apullin 2007-01-29 22:17:02                    0   \n",
       "1      28625    antillus 2007-02-02 19:28:38                    4   \n",
       "2      48457   THEMACGOD 2007-02-04 17:57:17                    6   \n",
       "3       5823    puttysan 2007-02-07 05:58:48                    2   \n",
       "4       5203  andrejevas 2007-02-10 19:50:29                    5   \n",
       "\n",
       "   created_hour  \n",
       "0            22  \n",
       "1            19  \n",
       "2            17  \n",
       "3             5  \n",
       "4            19  "
      ]
     },
     "execution_count": 65,
     "metadata": {},
     "output_type": "execute_result"
    }
   ],
   "source": [
    "users_df.head()"
   ]
  },
  {
   "cell_type": "code",
   "execution_count": 66,
   "metadata": {
    "ExecuteTime": {
     "end_time": "2021-07-06T12:37:12.497886Z",
     "start_time": "2021-07-06T12:37:12.133439Z"
    }
   },
   "outputs": [
    {
     "data": {
      "image/png": "[encoded data removed]",
      "text/plain": [
       "<Figure size 720x720 with 2 Axes>"
      ]
     },
     "metadata": {
      "needs_background": "light"
     },
     "output_type": "display_data"
    }
   ],
   "source": [
    "plt.figure(figsize=(10, 10))\n",
    "sns.heatmap(users_df.corr(), vmax=1, vmin=-1, annot=True, cmap='viridis');"
   ]
  },
  {
   "cell_type": "markdown",
   "metadata": {},
   "source": []
  },
  {
   "cell_type": "code",
   "execution_count": 67,
   "metadata": {
    "ExecuteTime": {
     "end_time": "2021-07-06T12:37:15.684471Z",
     "start_time": "2021-07-06T12:37:15.653228Z"
    }
   },
   "outputs": [
    {
     "data": {
      "text/plain": [
       "1.0    0.845932\n",
       "0.0    0.154068\n",
       "Name: VerifiedEmail, dtype: float64"
      ]
     },
     "execution_count": 67,
     "metadata": {},
     "output_type": "execute_result"
    }
   ],
   "source": [
    "users_df['VerifiedEmail'].value_counts(normalize=True)"
   ]
  },
  {
   "cell_type": "code",
   "execution_count": 68,
   "metadata": {
    "ExecuteTime": {
     "end_time": "2021-07-06T12:37:16.223538Z",
     "start_time": "2021-07-06T12:37:16.201404Z"
    }
   },
   "outputs": [
    {
     "data": {
      "text/plain": [
       "0    0.7292\n",
       "1    0.2708\n",
       "Name: IsMod, dtype: float64"
      ]
     },
     "execution_count": 68,
     "metadata": {},
     "output_type": "execute_result"
    }
   ],
   "source": [
    "users_df['IsMod'].value_counts(normalize=True)"
   ]
  },
  {
   "cell_type": "code",
   "execution_count": 69,
   "metadata": {
    "ExecuteTime": {
     "end_time": "2021-07-06T12:37:16.586826Z",
     "start_time": "2021-07-06T12:37:16.555573Z"
    }
   },
   "outputs": [
    {
     "data": {
      "text/plain": [
       "0    0.999979\n",
       "1    0.000021\n",
       "Name: IsEmployee, dtype: float64"
      ]
     },
     "execution_count": 69,
     "metadata": {},
     "output_type": "execute_result"
    }
   ],
   "source": [
    "users_df['IsEmployee'].value_counts(normalize=True)"
   ]
  },
  {
   "cell_type": "code",
   "execution_count": 70,
   "metadata": {
    "ExecuteTime": {
     "end_time": "2021-07-06T12:37:16.956619Z",
     "start_time": "2021-07-06T12:37:16.940992Z"
    }
   },
   "outputs": [
    {
     "data": {
      "text/plain": [
       "0    0.986633\n",
       "1    0.013367\n",
       "Name: IsGold, dtype: float64"
      ]
     },
     "execution_count": 70,
     "metadata": {},
     "output_type": "execute_result"
    }
   ],
   "source": [
    "users_df['IsGold'].value_counts(normalize=True)"
   ]
  },
  {
   "cell_type": "markdown",
   "metadata": {},
   "source": [
    "**Notes:**  \n",
    "Exclude `IsEmployee` and `IsGold` as most of the users are `False`"
   ]
  },
  {
   "cell_type": "code",
   "execution_count": 140,
   "metadata": {
    "ExecuteTime": {
     "end_time": "2021-07-06T14:01:41.372274Z",
     "start_time": "2021-07-06T14:01:41.348269Z"
    }
   },
   "outputs": [],
   "source": [
    "users_df.drop(columns=['IsEmployee', 'IsGold'], inplace=True)"
   ]
  },
  {
   "cell_type": "code",
   "execution_count": 74,
   "metadata": {
    "ExecuteTime": {
     "end_time": "2021-07-06T12:37:48.705442Z",
     "start_time": "2021-07-06T12:37:48.667678Z"
    },
    "scrolled": true
   },
   "outputs": [],
   "source": [
    "users_df['name_length'] = users_df['Name'].map(lambda x: len(x))"
   ]
  },
  {
   "cell_type": "markdown",
   "metadata": {},
   "source": [
    "## Final Datasets"
   ]
  },
  {
   "cell_type": "markdown",
   "metadata": {},
   "source": [
    "**Submissions Data Dictionary**\n",
    "\n",
    "|Feature|type|Dataset|Description|\n",
    "| :--- | :--- | :--- | :--- |\n",
    "|author|||\n",
    "|created_utc|||\n",
    "|submission_id|||\n",
    "|num_comments|||\n",
    "|score|||\n",
    "|selftext|||\n",
    "|subreddit|||\n",
    "|title|||\n",
    "|distinguished|||"
   ]
  },
  {
   "cell_type": "markdown",
   "metadata": {},
   "source": [
    "## Modeling  \n",
    "Selected DBSCAN as the main clustering model for the following reasons:\n",
    "* Keeping all outliers.\n",
    "* "
   ]
  },
  {
   "cell_type": "code",
   "execution_count": 96,
   "metadata": {
    "ExecuteTime": {
     "end_time": "2021-07-06T13:03:59.749362Z",
     "start_time": "2021-07-06T13:03:59.734359Z"
    }
   },
   "outputs": [],
   "source": [
    "X = users_df[[\n",
    "    'CommentKarma',\n",
    "    'VerifiedEmail', \n",
    "    'IsMod',\n",
    "    'LinkKarma',\n",
    "#     'created_date',\n",
    "    'name_length'\n",
    "]].values"
   ]
  },
  {
   "cell_type": "code",
   "execution_count": 97,
   "metadata": {
    "ExecuteTime": {
     "end_time": "2021-07-06T13:03:59.953870Z",
     "start_time": "2021-07-06T13:03:59.941867Z"
    }
   },
   "outputs": [],
   "source": [
    "ss = StandardScaler()\n",
    "X_scaled = ss.fit_transform(X)"
   ]
  },
  {
   "cell_type": "code",
   "execution_count": 98,
   "metadata": {
    "ExecuteTime": {
     "end_time": "2021-07-06T13:04:00.201901Z",
     "start_time": "2021-07-06T13:04:00.189898Z"
    }
   },
   "outputs": [
    {
     "data": {
      "text/plain": [
       "array([[ 0.95588817,  0.42676542,  1.64096566, -0.08846268, -1.00817198],\n",
       "       [ 2.62772579,  0.42676542, -0.60939727,  0.43947839, -0.71496782],\n",
       "       [ 0.93465405,  0.42676542,  1.64096566,  0.84191246, -0.42176366],\n",
       "       ...,\n",
       "       [-0.02873588,  0.42676542,  1.64096566, -0.10252515, -1.30137614],\n",
       "       [ 0.69125787,  0.42676542, -0.60939727,  0.09449141, -0.71496782],\n",
       "       [-0.04515613,  0.42676542,  1.64096566, -0.11967202, -1.00817198]])"
      ]
     },
     "execution_count": 98,
     "metadata": {},
     "output_type": "execute_result"
    }
   ],
   "source": [
    "X_scaled"
   ]
  },
  {
   "cell_type": "code",
   "execution_count": 99,
   "metadata": {
    "ExecuteTime": {
     "end_time": "2021-07-06T13:04:15.588939Z",
     "start_time": "2021-07-06T13:04:01.670398Z"
    }
   },
   "outputs": [
    {
     "data": {
      "text/plain": [
       "DBSCAN(eps=0.65, min_samples=6)"
      ]
     },
     "execution_count": 99,
     "metadata": {},
     "output_type": "execute_result"
    }
   ],
   "source": [
    "dbscan = DBSCAN(eps=.65, min_samples=6)\n",
    "dbscan.fit(X_scaled)"
   ]
  },
  {
   "cell_type": "code",
   "execution_count": 100,
   "metadata": {
    "ExecuteTime": {
     "end_time": "2021-07-06T13:04:15.604941Z",
     "start_time": "2021-07-06T13:04:15.589938Z"
    }
   },
   "outputs": [
    {
     "data": {
      "text/plain": [
       "{-1, 0, 1, 2, 3, 4}"
      ]
     },
     "execution_count": 100,
     "metadata": {},
     "output_type": "execute_result"
    }
   ],
   "source": [
    "set(dbscan.labels_)"
   ]
  },
  {
   "cell_type": "code",
   "execution_count": 101,
   "metadata": {
    "ExecuteTime": {
     "end_time": "2021-07-06T13:04:51.861002Z",
     "start_time": "2021-07-06T13:04:15.606942Z"
    }
   },
   "outputs": [
    {
     "data": {
      "text/plain": [
       "0.5051780879542777"
      ]
     },
     "execution_count": 101,
     "metadata": {},
     "output_type": "execute_result"
    }
   ],
   "source": [
    "silhouette_score(X_scaled, dbscan.labels_)"
   ]
  },
  {
   "cell_type": "code",
   "execution_count": 102,
   "metadata": {
    "ExecuteTime": {
     "end_time": "2021-07-06T13:04:51.877007Z",
     "start_time": "2021-07-06T13:04:51.863003Z"
    }
   },
   "outputs": [],
   "source": [
    "users_df['cluster'] = dbscan.labels_"
   ]
  },
  {
   "cell_type": "code",
   "execution_count": 111,
   "metadata": {
    "ExecuteTime": {
     "end_time": "2021-07-06T13:06:12.528240Z",
     "start_time": "2021-07-06T13:06:12.494232Z"
    }
   },
   "outputs": [
    {
     "data": {
      "text/html": [
       "<div>\n",
       "<style scoped>\n",
       "    .dataframe tbody tr th:only-of-type {\n",
       "        vertical-align: middle;\n",
       "    }\n",
       "\n",
       "    .dataframe tbody tr th {\n",
       "        vertical-align: top;\n",
       "    }\n",
       "\n",
       "    .dataframe thead th {\n",
       "        text-align: right;\n",
       "    }\n",
       "</style>\n",
       "<table border=\"1\" class=\"dataframe\">\n",
       "  <thead>\n",
       "    <tr style=\"text-align: right;\">\n",
       "      <th>cluster</th>\n",
       "      <th>-1</th>\n",
       "      <th>0</th>\n",
       "      <th>1</th>\n",
       "      <th>2</th>\n",
       "      <th>3</th>\n",
       "      <th>4</th>\n",
       "    </tr>\n",
       "  </thead>\n",
       "  <tbody>\n",
       "    <tr>\n",
       "      <th>CommentKarma</th>\n",
       "      <td>4.801648e+05</td>\n",
       "      <td>4.829100e+04</td>\n",
       "      <td>2.153737e+04</td>\n",
       "      <td>1.184930e+04</td>\n",
       "      <td>2.642277e+04</td>\n",
       "      <td>2.699314e+05</td>\n",
       "    </tr>\n",
       "    <tr>\n",
       "      <th>CreatedUTC</th>\n",
       "      <td>1.354740e+09</td>\n",
       "      <td>1.359121e+09</td>\n",
       "      <td>1.373525e+09</td>\n",
       "      <td>1.398692e+09</td>\n",
       "      <td>1.387077e+09</td>\n",
       "      <td>1.348120e+09</td>\n",
       "    </tr>\n",
       "    <tr>\n",
       "      <th>VerifiedEmail</th>\n",
       "      <td>7.902813e-01</td>\n",
       "      <td>1.000000e+00</td>\n",
       "      <td>1.000000e+00</td>\n",
       "      <td>0.000000e+00</td>\n",
       "      <td>0.000000e+00</td>\n",
       "      <td>1.000000e+00</td>\n",
       "    </tr>\n",
       "    <tr>\n",
       "      <th>IsEmployee</th>\n",
       "      <td>0.000000e+00</td>\n",
       "      <td>8.389966e-05</td>\n",
       "      <td>0.000000e+00</td>\n",
       "      <td>0.000000e+00</td>\n",
       "      <td>0.000000e+00</td>\n",
       "      <td>0.000000e+00</td>\n",
       "    </tr>\n",
       "    <tr>\n",
       "      <th>IsMod</th>\n",
       "      <td>6.214834e-01</td>\n",
       "      <td>1.000000e+00</td>\n",
       "      <td>0.000000e+00</td>\n",
       "      <td>0.000000e+00</td>\n",
       "      <td>1.000000e+00</td>\n",
       "      <td>1.000000e+00</td>\n",
       "    </tr>\n",
       "    <tr>\n",
       "      <th>IsGold</th>\n",
       "      <td>1.841432e-01</td>\n",
       "      <td>2.500210e-02</td>\n",
       "      <td>9.102731e-03</td>\n",
       "      <td>1.698842e-03</td>\n",
       "      <td>3.512881e-03</td>\n",
       "      <td>0.000000e+00</td>\n",
       "    </tr>\n",
       "    <tr>\n",
       "      <th>LinkKarma</th>\n",
       "      <td>2.406497e+05</td>\n",
       "      <td>1.069982e+04</td>\n",
       "      <td>3.559178e+03</td>\n",
       "      <td>1.163398e+03</td>\n",
       "      <td>3.359692e+03</td>\n",
       "      <td>1.851705e+05</td>\n",
       "    </tr>\n",
       "    <tr>\n",
       "      <th>created_day_of_week</th>\n",
       "      <td>2.854220e+00</td>\n",
       "      <td>2.884470e+00</td>\n",
       "      <td>2.884371e+00</td>\n",
       "      <td>2.905328e+00</td>\n",
       "      <td>2.936768e+00</td>\n",
       "      <td>4.100000e+00</td>\n",
       "    </tr>\n",
       "    <tr>\n",
       "      <th>created_hour</th>\n",
       "      <td>1.212788e+01</td>\n",
       "      <td>1.205512e+01</td>\n",
       "      <td>1.214343e+01</td>\n",
       "      <td>1.192402e+01</td>\n",
       "      <td>1.229977e+01</td>\n",
       "      <td>1.250000e+01</td>\n",
       "    </tr>\n",
       "    <tr>\n",
       "      <th>name_length</th>\n",
       "      <td>1.136829e+01</td>\n",
       "      <td>1.031873e+01</td>\n",
       "      <td>1.026451e+01</td>\n",
       "      <td>1.121405e+01</td>\n",
       "      <td>1.161358e+01</td>\n",
       "      <td>9.200000e+00</td>\n",
       "    </tr>\n",
       "  </tbody>\n",
       "</table>\n",
       "</div>"
      ],
      "text/plain": [
       "cluster                        -1             0             1             2  \\\n",
       "CommentKarma         4.801648e+05  4.829100e+04  2.153737e+04  1.184930e+04   \n",
       "CreatedUTC           1.354740e+09  1.359121e+09  1.373525e+09  1.398692e+09   \n",
       "VerifiedEmail        7.902813e-01  1.000000e+00  1.000000e+00  0.000000e+00   \n",
       "IsEmployee           0.000000e+00  8.389966e-05  0.000000e+00  0.000000e+00   \n",
       "IsMod                6.214834e-01  1.000000e+00  0.000000e+00  0.000000e+00   \n",
       "IsGold               1.841432e-01  2.500210e-02  9.102731e-03  1.698842e-03   \n",
       "LinkKarma            2.406497e+05  1.069982e+04  3.559178e+03  1.163398e+03   \n",
       "created_day_of_week  2.854220e+00  2.884470e+00  2.884371e+00  2.905328e+00   \n",
       "created_hour         1.212788e+01  1.205512e+01  1.214343e+01  1.192402e+01   \n",
       "name_length          1.136829e+01  1.031873e+01  1.026451e+01  1.121405e+01   \n",
       "\n",
       "cluster                         3             4  \n",
       "CommentKarma         2.642277e+04  2.699314e+05  \n",
       "CreatedUTC           1.387077e+09  1.348120e+09  \n",
       "VerifiedEmail        0.000000e+00  1.000000e+00  \n",
       "IsEmployee           0.000000e+00  0.000000e+00  \n",
       "IsMod                1.000000e+00  1.000000e+00  \n",
       "IsGold               3.512881e-03  0.000000e+00  \n",
       "LinkKarma            3.359692e+03  1.851705e+05  \n",
       "created_day_of_week  2.936768e+00  4.100000e+00  \n",
       "created_hour         1.229977e+01  1.250000e+01  \n",
       "name_length          1.161358e+01  9.200000e+00  "
      ]
     },
     "execution_count": 111,
     "metadata": {},
     "output_type": "execute_result"
    }
   ],
   "source": [
    "users_df.groupby('cluster').mean().T"
   ]
  },
  {
   "cell_type": "code",
   "execution_count": null,
   "metadata": {
    "ExecuteTime": {
     "end_time": "2021-07-06T01:47:52.957285Z",
     "start_time": "2021-07-06T01:47:34.410147Z"
    }
   },
   "outputs": [],
   "source": [
    "sns.pairplot(users_df[['cluster', \n",
    "                       'CommentKarma',\n",
    "                       'LinkKarma',\n",
    "                       'IsMod',\n",
    "                       'created_day_of_week']], \n",
    "             hue='cluster', \n",
    "             palette='coolwarm',\n",
    "             height=5);"
   ]
  },
  {
   "cell_type": "code",
   "execution_count": null,
   "metadata": {},
   "outputs": [],
   "source": []
  },
  {
   "cell_type": "markdown",
   "metadata": {},
   "source": [
    "## Results & Conclusions"
   ]
  },
  {
   "cell_type": "code",
   "execution_count": null,
   "metadata": {},
   "outputs": [],
   "source": []
  },
  {
   "cell_type": "code",
   "execution_count": null,
   "metadata": {},
   "outputs": [],
   "source": []
  }
 ],
 "metadata": {
  "kernelspec": {
   "display_name": "ga-dsir-capstone",
   "language": "python",
   "name": "ga-dsir-capstone"
  },
  "language_info": {
   "codemirror_mode": {
    "name": "ipython",
    "version": 3
   },
   "file_extension": ".py",
   "mimetype": "text/x-python",
   "name": "python",
   "nbconvert_exporter": "python",
   "pygments_lexer": "ipython3",
   "version": "3.8.10"
  }
 },
 "nbformat": 4,
 "nbformat_minor": 4
}
